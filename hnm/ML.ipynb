{
 "cells": [
  {
   "cell_type": "markdown",
   "id": "advisory-flood",
   "metadata": {},
   "source": [
    "### Load dataset and split"
   ]
  },
  {
   "cell_type": "code",
   "execution_count": null,
   "id": "important-mattress",
   "metadata": {},
   "outputs": [],
   "source": [
    "import numpy as np # for array operations\n",
    "import pandas as pd # for working with DataFrames\n",
    "import requests, io # for HTTP requests and I/O commands\n",
    "\n",
    "# scikit-learn modules\n",
    "from sklearn.model_selection import train_test_split # for splitting the data\n",
    "from sklearn.metrics import mean_squared_error # for calculating the cost function\n",
    "\n",
    "path = \"\"\n",
    "target = \"\"\n",
    "\n",
    "# Reading the data\n",
    "dataset = pd.read_csv(path)\n",
    "dataset.head()\n",
    "\n",
    "x = dataset.drop(target, axis = 1) # Features\n",
    "y = dataset[target]  # Target\n",
    "\n",
    "# Splitting the dataset into training and testing set (80/20)\n",
    "x_train, x_test, y_train, y_test = train_test_split(x, y, test_size = 0.2, random_state = 28)"
   ]
  },
  {
   "cell_type": "code",
   "execution_count": null,
   "id": "extensive-effects",
   "metadata": {},
   "outputs": [],
   "source": [
    "#"
   ]
  },
  {
   "cell_type": "markdown",
   "id": "injured-longitude",
   "metadata": {},
   "source": [
    "### Random Forest Regressor"
   ]
  },
  {
   "cell_type": "code",
   "execution_count": null,
   "id": "silent-collector",
   "metadata": {},
   "outputs": [],
   "source": [
    "from sklearn.ensemble import RandomForestRegressor # for building the model\n",
    "\n",
    "# Initializing the Random Forest Regression model with 10 decision trees\n",
    "model = RandomForestRegressor(n_estimators = 10, random_state = 0)\n",
    "\n",
    "# Fitting the Random Forest Regression model to the data\n",
    "model.fit(x_train, y_train) \n",
    "\n",
    "# Predicting the target values of the test set\n",
    "y_pred = model.predict(x_test)\n",
    "\n",
    "# RMSE (Root Mean Square Error)\n",
    "rmse = float(format(np.sqrt(mean_squared_error(y_test, y_pred)),'.3f'))\n",
    "print(\"\\nRMSE:\\n\",rmse)"
   ]
  },
  {
   "cell_type": "markdown",
   "id": "greenhouse-drink",
   "metadata": {},
   "source": [
    "### XGBoost regressor"
   ]
  },
  {
   "cell_type": "code",
   "execution_count": null,
   "id": "grateful-behavior",
   "metadata": {},
   "outputs": [],
   "source": [
    "import xgboost as xg\n",
    "\n",
    "xgb_r = xg.XGBRegressor(objective ='reg:linear',\n",
    "                  n_estimators = 10, seed = 123)\n",
    "  \n",
    "# Fitting the model\n",
    "xgb_r.fit(train_X, train_y)\n",
    "  \n",
    "# Predict the model\n",
    "pred = xgb_r.predict(test_X)\n",
    "  \n",
    "# RMSE Computation\n",
    "rmse = np.sqrt(MSE(test_y, pred))\n",
    "print(\"RMSE : % f\" %(rmse))"
   ]
  },
  {
   "cell_type": "markdown",
   "id": "alternative-london",
   "metadata": {},
   "source": [
    "## https://www.tutorialspoint.com/machine_learning_with_python/machine_learning_algorithms_performance_metrics.htm"
   ]
  },
  {
   "cell_type": "markdown",
   "id": "about-excess",
   "metadata": {},
   "source": [
    "### Performance metrics for regression - "
   ]
  },
  {
   "cell_type": "code",
   "execution_count": 42,
   "id": "exclusive-creek",
   "metadata": {},
   "outputs": [],
   "source": [
    "from sklearn.metrics import r2_score\n",
    "r2 = r2_score(test_y, pred)"
   ]
  },
  {
   "cell_type": "markdown",
   "id": "suitable-flashing",
   "metadata": {},
   "source": [
    "### Performance metrics for classification"
   ]
  },
  {
   "cell_type": "code",
   "execution_count": 40,
   "id": "genuine-gates",
   "metadata": {},
   "outputs": [
    {
     "name": "stdout",
     "output_type": "stream",
     "text": [
      "Confusion Matrix :\n",
      "[[3 3]\n",
      " [1 3]]\n",
      "Accuracy Score is 0.6\n",
      "Classification Report : \n",
      "              precision    recall  f1-score   support\n",
      "\n",
      "           0       0.75      0.50      0.60         6\n",
      "           1       0.50      0.75      0.60         4\n",
      "\n",
      "    accuracy                           0.60        10\n",
      "   macro avg       0.62      0.62      0.60        10\n",
      "weighted avg       0.65      0.60      0.60        10\n",
      "\n",
      "AUC-ROC: 0.625\n",
      "LOGLOSS Value is 13.815750437193334\n"
     ]
    }
   ],
   "source": [
    "from sklearn.metrics import confusion_matrix\n",
    "from sklearn.metrics import accuracy_score\n",
    "from sklearn.metrics import classification_report\n",
    "from sklearn.metrics import roc_auc_score\n",
    "from sklearn.metrics import log_loss\n",
    "\n",
    "\n",
    "X_actual = [1, 1, 0, 1, 0, 0, 1, 0, 0, 0]\n",
    "Y_predic = [1, 0, 1, 1, 1, 0, 1, 1, 0, 0]\n",
    "\n",
    "\n",
    "results = confusion_matrix(X_actual, Y_predic)\n",
    "print ('Confusion Matrix :')\n",
    "print(results)\n",
    "\n",
    "print ('Accuracy Score is',accuracy_score(X_actual, Y_predic))\n",
    "\n",
    "print ('Classification Report : ')\n",
    "print (classification_report(X_actual, Y_predic))\n",
    "\n",
    "print('AUC-ROC:',roc_auc_score(X_actual, Y_predic))\n",
    "\n",
    "print('LOGLOSS Value is',log_loss(X_actual, Y_predic))"
   ]
  },
  {
   "cell_type": "code",
   "execution_count": null,
   "id": "f20e0082-c13b-4606-8acb-0b6458a9cf2c",
   "metadata": {},
   "outputs": [],
   "source": [
    "from sklearn.model_selection import train_test_split\n",
    "from sklearn.preprocessing import StandardScaler\n",
    "from sklearn.linear_model import LinearRegression\n",
    "\n",
    "# Load your dataset (replace with your data loading code)\n",
    "X, y = load_data()\n",
    "\n",
    "# Step 1: Split the data into training and test sets\n",
    "X_train, X_test, y_train, y_test = train_test_split(X, y, test_size=0.2, random_state=42)\n",
    "\n",
    "# Step 2: Scale the training and test data separately\n",
    "scaler = StandardScaler()\n",
    "X_train_scaled = scaler.fit_transform(X_train)\n",
    "X_test_scaled = scaler.transform(X_test)\n",
    "\n",
    "# Step 3: Train your model and evaluate it\n",
    "model = LinearRegression()\n",
    "model.fit(X_train_scaled, y_train)\n",
    "test_score = model.score(X_test_scaled, y_test)"
   ]
  },
  {
   "cell_type": "markdown",
   "id": "greatest-windsor",
   "metadata": {},
   "source": [
    "### BERT embeddings -\n",
    "https://github.com/aartij22/recommendation/blob/main/src/relevance/upsell/pretrained_bert.ipynb\n",
    "https://colab.research.google.com/drive/1yFphU6PW9Uo6lmDly_ud9a6c4RCYlwdX#scrollTo=Zn0n2S-FWZih"
   ]
  }
 ],
 "metadata": {
  "kernelspec": {
   "display_name": "venv",
   "language": "python",
   "name": "venv"
  },
  "language_info": {
   "codemirror_mode": {
    "name": "ipython",
    "version": 3
   },
   "file_extension": ".py",
   "mimetype": "text/x-python",
   "name": "python",
   "nbconvert_exporter": "python",
   "pygments_lexer": "ipython3",
   "version": "3.11.5"
  }
 },
 "nbformat": 4,
 "nbformat_minor": 5
}
