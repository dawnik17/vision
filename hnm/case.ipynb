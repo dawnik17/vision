{
 "cells": [
  {
   "cell_type": "code",
   "execution_count": 1,
   "metadata": {
    "id": "u8wxe46aqbyb"
   },
   "outputs": [
    {
     "data": {
      "text/plain": [
       "1"
      ]
     },
     "execution_count": 1,
     "metadata": {},
     "output_type": "execute_result"
    }
   ],
   "source": [
    "import os\n",
    "import math\n",
    "import copy\n",
    "import time\n",
    "import random\n",
    "import pickle\n",
    "import shutil\n",
    "import pandas as pd\n",
    "import numpy as np\n",
    "from tqdm import tqdm\n",
    "\n",
    "import torch\n",
    "import torch.nn as nn\n",
    "import torch.nn.functional as F\n",
    "from config_utils.config_utils import *\n",
    "from torchvision import transforms\n",
    "from torch.autograd import Variable\n",
    "from torch.utils.data import Dataset\n",
    "\n",
    "\n",
    "os.environ[\"CUDA_VISIBLE_DEVICES\"] = \"3\"  \n",
    "torch.cuda.device_count()"
   ]
  },
  {
   "cell_type": "code",
   "execution_count": 2,
   "metadata": {},
   "outputs": [],
   "source": [
    "# convert json to pickle\n",
    "\n",
    "# json2pickle('./versions/production-v3/checkpoint/config.json', './versions/production-v3/checkpoint/config.pkl')\n"
   ]
  },
  {
   "cell_type": "code",
   "execution_count": 3,
   "metadata": {},
   "outputs": [
    {
     "name": "stdout",
     "output_type": "stream",
     "text": [
      "loading the config file..\n"
     ]
    }
   ],
   "source": [
    "# load config, if exists\n",
    "config = None\n",
    "folder_path = './versions/production-v3/checkpoint/'\n",
    "\n",
    "if os.path.isfile(folder_path + 'config.pkl'):\n",
    "    print('loading the config file..')\n",
    "    with open(folder_path + 'config.pkl', 'rb') as fp:\n",
    "        config = pickle.load(fp)"
   ]
  },
  {
   "cell_type": "code",
   "execution_count": 4,
   "metadata": {},
   "outputs": [
    {
     "name": "stdout",
     "output_type": "stream",
     "text": [
      "training data size - 6948142 rows\n"
     ]
    }
   ],
   "source": [
    "prev_data_pth = './versions/production-v2/training_data/clean_100_rest_0_no_feedback_base_pe_data_plus_amazon_gamma_plus_new_pe_otc_catalog.pkl'\n",
    "delta_data_pth = './versions/production-v3/training_data/delta_data_v3_pe_catalog.csv'\n",
    "\n",
    "tdata = pickle.load(open(prev_data_pth, \"rb\"), encoding=\"latin1\")\n",
    "data = tdata['training_data']\n",
    "\n",
    "new = pd.read_csv(delta_data_pth)[['input', 'output']].values.tolist()\n",
    "\n",
    "data += new\n",
    "print('training data size - {l} rows'.format(l=str(len(data))))"
   ]
  },
  {
   "cell_type": "code",
   "execution_count": 5,
   "metadata": {},
   "outputs": [],
   "source": [
    "# last trained on clean_100_rest_0_no_feedback_base_pe_data.pkl\n",
    "# training_data_path = './training_data/clean_100_rest_0_no_feedback_base_pe_data.pkl'\n",
    "# training_data_path = './training_data/clean_100_rest_0_no_feedback_base_pe_data_plus_amazon.pkl'"
   ]
  },
  {
   "cell_type": "code",
   "execution_count": 6,
   "metadata": {},
   "outputs": [],
   "source": [
    "# training_data_path = './training_data/clean_100_rest_0_no_feedback_base_pe_data_plus_amazon_stuart_plus_new_pe_otc_catalog_plus_nla_plus_feedback.pkl'\n",
    "# kdata = pickle.load(open(training_data_path, \"rb\"), encoding=\"latin1\")\n",
    "# kdata = kdata['training_data']\n",
    "# data.extend(kdata)"
   ]
  },
  {
   "cell_type": "code",
   "execution_count": 5,
   "metadata": {},
   "outputs": [
    {
     "name": "stderr",
     "output_type": "stream",
     "text": [
      " 98%|█████████▊| 6802892/6948142 [01:01<00:04, 32501.56it/s] "
     ]
    },
    {
     "name": "stdout",
     "output_type": "stream",
     "text": [
      "[nan, 'LUXOR NA PEN SANITIZER SPRAY REFILL BOTTLE 10 ML 20 ML CLASSIC SPRAY SURFACE SANITIZERS HOME HYGEINE SURFACE SANITIZATION KIT HOME CARE HOME HYGIENE ESSENTIALS SANITIZER WIPES LUXOR NA']\n",
      "[nan, 'LUXOR NA DISINFECTANT SPRAY CITRUS FRESH 241ML SPRAY DISINFECTANTS HOME HYGEINE SURFACE SANITIZATION DISINFECTANT BOTTLE HOME CARE HOME HYGIENE ESSENTIALS SANITIZER WIPES LUXOR NA']\n"
     ]
    },
    {
     "name": "stderr",
     "output_type": "stream",
     "text": [
      " 98%|█████████▊| 6818947/6948142 [01:01<00:03, 35635.72it/s]"
     ]
    },
    {
     "name": "stdout",
     "output_type": "stream",
     "text": [
      "[nan, 'VITROVEA MEGACURC NA CURCUMIN TRIPLE STRENGTH FISH OIL W/10X STRENGTH BOSWELLIA 60 TABLETS CAPSULE IMMUNITY BOOSTER IMMUNITY BOOSTER IMMUNITY SUPPLEMENT BOTTLE FOOD NUTRITION SPECIALITY SUPPLEMENTS FOOD INNOVERTUS NUTRITION TECHNOLOGIES']\n",
      "[nan, 'LUXOR NA PEN SANITIZER SPRAY TWIN CLASSIC 10ML X2 SPRAY SURFACE SANITIZERS HOME HYGEINE SURFACE SANITIZATION KIT HOME CARE HOME HYGIENE ESSENTIALS SANITIZER WIPES LUXOR NA']\n",
      "[nan, 'LUXOR NA PEN SANITIZER SPRAY TWIN LEMON ZEST 10ML X2 SPRAY SURFACE SANITIZERS HOME HYGEINE SURFACE SANITIZATION KIT HOME CARE HOME HYGIENE ESSENTIALS SANITIZER WIPES LUXOR NA']\n",
      "[nan, 'LUXOR NA POCKET DISINFECTANT SPRAY PINE FRESH 54 ML 18 ML X3 SPRAY DISINFECTANTS HOME HYGEINE SURFACE SANITIZATION DISINFECTANT BOTTLE HOME CARE HOME HYGIENE ESSENTIALS SANITIZER WIPES LUXOR NA']\n"
     ]
    },
    {
     "name": "stderr",
     "output_type": "stream",
     "text": [
      " 99%|█████████▉| 6866947/6948142 [01:03<00:01, 47957.29it/s]"
     ]
    },
    {
     "name": "stdout",
     "output_type": "stream",
     "text": [
      "[nan, 'LUXOR NA MOBILE DISINFECTANT CLEANER 10ML GO LIQUID DISINFECTANTS DISINFECTANT BOTTLE HOME CARE HOME HYGIENE ESSENTIALS SANITIZER WIPES APPLICABLE LUXOR NA']\n"
     ]
    },
    {
     "name": "stderr",
     "output_type": "stream",
     "text": [
      " 99%|█████████▉| 6897821/6948142 [01:03<00:01, 34686.51it/s]"
     ]
    },
    {
     "name": "stdout",
     "output_type": "stream",
     "text": [
      "[nan, 'LUXOR NA GADGET DISINFECTANT SPRAY 25ML SPRAY DISINFECTANT HOME HYGEINE SURFACE SANITIZATION DISINFECTANT BOTTLE HOME CARE HOME HYGIENE ESSENTIALS SANITIZER WIPES LUXOR NA']\n",
      "[nan, 'LUXOR NA GLASS PRO GLASS MULTISURFACE CLEANER 500ML LIQUID DISINFECTANTS DISINFECTANT BOTTLE HOME CARE HOME HYGIENE ESSENTIALS SANITIZER WIPES LUXOR NA']\n"
     ]
    },
    {
     "name": "stderr",
     "output_type": "stream",
     "text": [
      "100%|█████████▉| 6917650/6948142 [01:04<00:00, 41540.76it/s]"
     ]
    },
    {
     "name": "stdout",
     "output_type": "stream",
     "text": [
      "[nan, 'LUXOR NA DISINFECTANT SPRAY PINE FRESH 95ML SPRAY DISINFECTANTS HOME HYGEINE SURFACE SANITIZATION DISINFECTANT BOTTLE HOME CARE HOME HYGIENE ESSENTIALS SANITIZER WIPES LUXOR NA']\n"
     ]
    },
    {
     "name": "stderr",
     "output_type": "stream",
     "text": [
      "100%|█████████▉| 6943740/6948142 [01:05<00:00, 20214.45it/s]"
     ]
    },
    {
     "name": "stdout",
     "output_type": "stream",
     "text": [
      "[nan, 'LUXOR NA PEN SANITIZER SPRAY REFILL BOTTLE 10 ML 20 ML LEMON ZEST SPRAY SURFACE SANITIZERS HOME HYGEINE SURFACE SANITIZATION KIT HOME CARE HOME HYGIENE ESSENTIALS SANITIZER WIPES LUXOR NA']\n",
      "[nan, 'LUXOR NA MULTIPUPOSE DISINFECTANT CLEANER 500ML LIQUID DISINFECTANTS DISINFECTANT BOTTLE HOME CARE HOME HYGIENE ESSENTIALS SANITIZER WIPES LUXOR NA']\n",
      "[nan, 'LUXOR NA DISINFECTANT SPRAY CITRUS FRESH 95ML SPRAY DISINFECTANTS HOME HYGEINE DISINFECTANT SURFACE SANITIZATION BOTTLE HOME CARE HOME HYGIENE ESSENTIALS SANITIZER WIPES LUXOR NA']\n",
      "[nan, 'LUXOR NA MOBILE DISINFECTANT CLEANER 25ML TRAVEL POUCH LIQUID DISINFECTANTS DISINFECTANT BOTTLE HOME CARE HOME HYGIENE ESSENTIALS SANITIZER WIPES LUXOR NA']\n",
      "[nan, 'LUXOR NA DISINFECTANT SPRAY PINE FRESH 241ML SPRAY DISINFECTANT HOME HYGEINE SURFACE SANITIZATION DISINFECTANT BOTTLE HOME CARE HOME HYGIENE ESSENTIALS SANITIZER WIPES LUXOR NA']\n"
     ]
    },
    {
     "name": "stderr",
     "output_type": "stream",
     "text": [
      "100%|█████████▉| 6948124/6948142 [01:06<00:00, 104045.47it/s]"
     ]
    },
    {
     "name": "stdout",
     "output_type": "stream",
     "text": [
      "[nan, 'HAEAL GARCINIA 60 CAPSULES 400G CAPSULE SUPPLEMENT MULTIVITAMINS AND MULTIMINERALS AARSHAVEDA WELLNESS PVT LTD.']\n",
      "[nan, 'HAEAL SPIRULINA 60 CAPSULES 500G CAPSULE SUPPLEMENT MULTIVITAMINS AND MULTIMINERALS AARSHAVEDA WELLNESS PVT LTD.']\n",
      "[nan, 'NATXTRA CURQMEG 3 SUPPORTS CARDIAC HEALTH 1X 60 CAPSULES CAPSULE BLOOD CIRCULATION ENHANCERS HEART AND BLOOD VESSELS CARE SYNTHITE INDUSTRIES PVT.LTD.']\n"
     ]
    },
    {
     "name": "stderr",
     "output_type": "stream",
     "text": [
      "\n"
     ]
    }
   ],
   "source": [
    "import re\n",
    "\n",
    "for d in tqdm(data):\n",
    "    try:\n",
    "        d[1] = re.sub('ALL ONE|ALL NATURALS|ALL NATURAL|ALL PURPOSE|ALL OTHER|ALL SKIN|MADE IN INDIA|ALL IN ONE|TOP BRANDS|POPULAR CATEGORIES', '', d[1])\n",
    "        d[1] = re.sub(r' +', ' ', d[1]).strip()\n",
    "\n",
    "        d[0] = re.sub('ALL ONE|ALL NATURALS|ALL NATURAL|ALL PURPOSE|ALL OTHER|ALL SKIN|MADE IN INDIA|ALL IN ONE|TOP BRANDS|POPULAR CATEGORIES', '', d[0])\n",
    "        d[0] = re.sub(r' +', ' ', d[0]).strip()\n",
    "    except:\n",
    "        data.remove(d)\n",
    "        print(d)"
   ]
  },
  {
   "cell_type": "code",
   "execution_count": 6,
   "metadata": {},
   "outputs": [
    {
     "name": "stdout",
     "output_type": "stream",
     "text": [
      "loading params from config file..\n",
      "parameters: max_word_len = 28, max_sent_len = 15, max_output_len = 200\n"
     ]
    }
   ],
   "source": [
    "if not config:\n",
    "    max_word_len = 0\n",
    "    max_sent_len = 0\n",
    "    max_output_len = 0\n",
    "\n",
    "    for inp, out in data:\n",
    "        try:\n",
    "            inp, out = str(inp), str(out)\n",
    "            max_word_len = max(max_word_len, max([len(word) for word in inp.split()]))\n",
    "            max_sent_len = max(max_sent_len, len(inp.split()))\n",
    "            max_output_len = max(max_output_len, len(out))\n",
    "        except:\n",
    "            print([inp, out])\n",
    "\n",
    "    print(\n",
    "        \"original parameters - max_word_len = {}, max_sent_len = {}, max_output_len = {}\".format(\n",
    "            max_word_len, max_sent_len, max_output_len\n",
    "        )\n",
    "    )\n",
    "\n",
    "    max_word_len = min(28, max_word_len)\n",
    "    max_sent_len = min(15, max_sent_len)\n",
    "    max_output_len = min(200, max_output_len)\n",
    "\n",
    "    print(\n",
    "        \"updated parameters - max_word_len = {}, max_sent_len = {}, max_output_len = {}\".format(\n",
    "            max_word_len, max_sent_len, max_output_len\n",
    "        )\n",
    "    )\n",
    "\n",
    "else:\n",
    "    print(\"loading params from config file..\")\n",
    "\n",
    "    max_word_len = config[\"max_word_len\"]\n",
    "    max_sent_len = config[\"max_sent_len\"]\n",
    "    max_output_len = config[\"max_output_len\"]\n",
    "\n",
    "    print(\n",
    "        \"parameters: max_word_len = {}, max_sent_len = {}, max_output_len = {}\".format(\n",
    "            max_word_len, max_sent_len, max_output_len\n",
    "        )\n",
    "    )"
   ]
  },
  {
   "cell_type": "code",
   "execution_count": 7,
   "metadata": {
    "colab": {
     "base_uri": "https://localhost:8080/",
     "height": 423
    },
    "id": "jPggJMn1lc1c",
    "outputId": "a2db6faf-9118-4e73-ef71-3fbd704a59f0"
   },
   "outputs": [
    {
     "name": "stderr",
     "output_type": "stream",
     "text": [
      "<ipython-input-7-0d60b0366c62>:7: FutureWarning: The default value of regex will change from True to False in a future version.\n",
      "  data = data.apply(lambda x: x.astype(str) \\\n"
     ]
    },
    {
     "data": {
      "text/html": [
       "<div>\n",
       "<style scoped>\n",
       "    .dataframe tbody tr th:only-of-type {\n",
       "        vertical-align: middle;\n",
       "    }\n",
       "\n",
       "    .dataframe tbody tr th {\n",
       "        vertical-align: top;\n",
       "    }\n",
       "\n",
       "    .dataframe thead th {\n",
       "        text-align: right;\n",
       "    }\n",
       "</style>\n",
       "<table border=\"1\" class=\"dataframe\">\n",
       "  <thead>\n",
       "    <tr style=\"text-align: right;\">\n",
       "      <th></th>\n",
       "      <th>in</th>\n",
       "      <th>out</th>\n",
       "    </tr>\n",
       "  </thead>\n",
       "  <tbody>\n",
       "    <tr>\n",
       "      <th>6038784</th>\n",
       "      <td>VITAMIN B6 VITAMIN B5 MODI MUNDI PHARMA</td>\n",
       "      <td>GRO ACTIV CHOCOLATE FLAVOUR BOX OF 400GM POWDE...</td>\n",
       "    </tr>\n",
       "    <tr>\n",
       "      <th>378154</th>\n",
       "      <td>GRITA 200 CAPSULE</td>\n",
       "      <td>GRITA 200MG CAP 4S ITRACONAZOLE GRACIERA PHARM...</td>\n",
       "    </tr>\n",
       "    <tr>\n",
       "      <th>6601409</th>\n",
       "      <td>DHANYAKA CORIANDRUM ALOE VERA SAINDHAVA</td>\n",
       "      <td>K G TONE FORTE BOTTLE OF 100ML SYRUP SAUNF CUM...</td>\n",
       "    </tr>\n",
       "    <tr>\n",
       "      <th>531341</th>\n",
       "      <td>ITANOL 200MG 10CAP</td>\n",
       "      <td>ITANOL 200MG CAP 10S ITRACONAZOLE GALCARE PHAR...</td>\n",
       "    </tr>\n",
       "    <tr>\n",
       "      <th>6694911</th>\n",
       "      <td>FIROCOD PLUS OMEGA 3 VITAMIN B12</td>\n",
       "      <td>FIROCOD PLUS STRIP OF 10 TABLETS OMEGA 3 FATTY...</td>\n",
       "    </tr>\n",
       "    <tr>\n",
       "      <th>...</th>\n",
       "      <td>...</td>\n",
       "      <td>...</td>\n",
       "    </tr>\n",
       "    <tr>\n",
       "      <th>1155866</th>\n",
       "      <td>ONABET SD LOTION SERTACONAZOLE MOMETASONE GLEN...</td>\n",
       "      <td>ONABET SD LOTION SERTACONAZOLE MOMETASONE GLEN...</td>\n",
       "    </tr>\n",
       "    <tr>\n",
       "      <th>3533854</th>\n",
       "      <td>MILLESIMAL POTENCIES</td>\n",
       "      <td>SBL CRATAEGUS OXYACANTHA 0/17 LM</td>\n",
       "    </tr>\n",
       "    <tr>\n",
       "      <th>2305486</th>\n",
       "      <td>12 ENTER CHYMUTRIP C.TABS X</td>\n",
       "      <td>CHYMUTRIP TAB CHYMOTRYPSIN TRYPSIN BOMBAY TABL...</td>\n",
       "    </tr>\n",
       "    <tr>\n",
       "      <th>199070</th>\n",
       "      <td>WEIGHT MANAGEMENT NATUREAL GREEN TEA 800MG CAP...</td>\n",
       "      <td>WEIGHT MANAGEMENT NATUREAL GREEN TEA 800MG CAP...</td>\n",
       "    </tr>\n",
       "    <tr>\n",
       "      <th>6946478</th>\n",
       "      <td>MAN MATTERS LEAN WEIGHT GUMMIES 60N</td>\n",
       "      <td>MAN MATTERS LEAN WEIGHT GUMMIES 60N GUMMIES NU...</td>\n",
       "    </tr>\n",
       "  </tbody>\n",
       "</table>\n",
       "<p>6902857 rows × 2 columns</p>\n",
       "</div>"
      ],
      "text/plain": [
       "                                                        in  \\\n",
       "6038784            VITAMIN B6 VITAMIN B5 MODI MUNDI PHARMA   \n",
       "378154                                   GRITA 200 CAPSULE   \n",
       "6601409            DHANYAKA CORIANDRUM ALOE VERA SAINDHAVA   \n",
       "531341                                  ITANOL 200MG 10CAP   \n",
       "6694911                   FIROCOD PLUS OMEGA 3 VITAMIN B12   \n",
       "...                                                    ...   \n",
       "1155866  ONABET SD LOTION SERTACONAZOLE MOMETASONE GLEN...   \n",
       "3533854                               MILLESIMAL POTENCIES   \n",
       "2305486                        12 ENTER CHYMUTRIP C.TABS X   \n",
       "199070   WEIGHT MANAGEMENT NATUREAL GREEN TEA 800MG CAP...   \n",
       "6946478                MAN MATTERS LEAN WEIGHT GUMMIES 60N   \n",
       "\n",
       "                                                       out  \n",
       "6038784  GRO ACTIV CHOCOLATE FLAVOUR BOX OF 400GM POWDE...  \n",
       "378154   GRITA 200MG CAP 4S ITRACONAZOLE GRACIERA PHARM...  \n",
       "6601409  K G TONE FORTE BOTTLE OF 100ML SYRUP SAUNF CUM...  \n",
       "531341   ITANOL 200MG CAP 10S ITRACONAZOLE GALCARE PHAR...  \n",
       "6694911  FIROCOD PLUS STRIP OF 10 TABLETS OMEGA 3 FATTY...  \n",
       "...                                                    ...  \n",
       "1155866  ONABET SD LOTION SERTACONAZOLE MOMETASONE GLEN...  \n",
       "3533854                   SBL CRATAEGUS OXYACANTHA 0/17 LM  \n",
       "2305486  CHYMUTRIP TAB CHYMOTRYPSIN TRYPSIN BOMBAY TABL...  \n",
       "199070   WEIGHT MANAGEMENT NATUREAL GREEN TEA 800MG CAP...  \n",
       "6946478  MAN MATTERS LEAN WEIGHT GUMMIES 60N GUMMIES NU...  \n",
       "\n",
       "[6902857 rows x 2 columns]"
      ]
     },
     "execution_count": 7,
     "metadata": {},
     "output_type": "execute_result"
    }
   ],
   "source": [
    "data = pd.DataFrame(data, columns=['in', 'out'])\n",
    "\n",
    "data.dropna(inplace=True)\n",
    "data.drop_duplicates(inplace=True)\n",
    "\n",
    "data = data.sample(frac=1)\n",
    "data = data.apply(lambda x: x.astype(str) \\\n",
    "                                    .str.upper() \\\n",
    "                                    .str.replace(r'[^A-Z0-9\\.%/\\s]', '') \\\n",
    "                                    .str.replace(r' +', ' ') \\\n",
    "                                    .str.strip())\n",
    "\n",
    "data['in'] = [' '.join([i[:max_word_len] for i in v.split()[:max_sent_len]]) for v in data['in']]\n",
    "data['out'] = [v[:max_output_len-2] for v in data['out']]\n",
    "    \n",
    "data = data[data['in'] != '']\n",
    "data = data[data['in'] != 'nan']\n",
    "data = data[data['in'] != 'NAN']\n",
    "\n",
    "data"
   ]
  },
  {
   "cell_type": "code",
   "execution_count": 8,
   "metadata": {
    "id": "_ua5GpThlc1d"
   },
   "outputs": [],
   "source": [
    "class CDataset(Dataset):\n",
    "    def __init__(self, data, config=None):\n",
    "        self.data = data\n",
    "\n",
    "        if config is None:\n",
    "            self.max_sent_len = max(\n",
    "                [len(sent.split()) for sent in self.data[\"in\"].values]\n",
    "            )\n",
    "            self.max_output_len = (\n",
    "                max([len(sent) for sent in self.data[\"out\"].values]) + 2\n",
    "            )\n",
    "            self.max_word_len = max(\n",
    "                [len(word) for sent in self.data[\"in\"].values for word in sent.split()]\n",
    "            )\n",
    "\n",
    "            self.char2idx, self.idx2char = self.char2index(\n",
    "                set(pd.concat([data[\"in\"], data[\"out\"]]))\n",
    "            )\n",
    "\n",
    "        else:\n",
    "            self.max_word_len = config[\"max_word_len\"]\n",
    "            self.max_sent_len = config[\"max_sent_len\"]\n",
    "            self.max_output_len = config[\"max_output_len\"]\n",
    "\n",
    "            self.char2idx = config[\"char2idx\"]\n",
    "            self.idx2char = {v: k for k, v in self.char2idx.items()}\n",
    "\n",
    "    def __len__(self):\n",
    "        return len(self.data)\n",
    "\n",
    "    def char2index(self, data=[]):\n",
    "        data = set([char for sent in data for char in sent])\n",
    "\n",
    "        char2idx = {c: i + 3 for i, c in enumerate(data)}\n",
    "        char2idx.update({\"<PAD>\": 0, \"<SOS>\": 1, \"<EOS>\": 2})\n",
    "\n",
    "        idx2char = {v: k for k, v in char2idx.items()}\n",
    "        return char2idx, idx2char\n",
    "\n",
    "    def __getitem__(self, idx):\n",
    "        # output\n",
    "        label = np.asarray(\n",
    "            [self.char2idx[\"<SOS>\"]]\n",
    "            + [self.char2idx[x] for x in self.data[\"out\"].values[idx]]\n",
    "            + [self.char2idx[\"<EOS>\"]]\n",
    "        )\n",
    "        label = torch.LongTensor(\n",
    "            np.pad(\n",
    "                label,\n",
    "                (self.char2idx[\"<PAD>\"], self.max_output_len - len(label)),\n",
    "                \"constant\",\n",
    "            )\n",
    "        )\n",
    "\n",
    "        # word input and padding\n",
    "        sentence = [\n",
    "            [self.char2idx[char] for char in word]\n",
    "            for word in self.data[\"in\"].values[idx].split()\n",
    "        ]\n",
    "\n",
    "        sentence = [\n",
    "            list(\n",
    "                np.pad(\n",
    "                    s, (self.char2idx[\"<PAD>\"], self.max_word_len - len(s)), \"constant\"\n",
    "                )\n",
    "            )\n",
    "            for s in sentence\n",
    "        ]\n",
    "\n",
    "        # sentence input padding\n",
    "        sentence += [[0] * self.max_word_len] * (self.max_sent_len - len(sentence))\n",
    "        sentence = torch.LongTensor(sentence)\n",
    "        return sentence, label\n"
   ]
  },
  {
   "cell_type": "code",
   "execution_count": 9,
   "metadata": {
    "id": "pJSe9i1tD118"
   },
   "outputs": [],
   "source": [
    "from torch.utils.data import DataLoader, random_split\n",
    "\n",
    "# 425\n",
    "BATCH_SIZE = 500\n",
    "cdata = CDataset(data, config)\n",
    "\n",
    "# train test split\n",
    "train_split_ratio = 0.999999\n",
    "train_split = int(train_split_ratio * len(cdata))\n",
    "test_split = len(cdata) - train_split\n",
    "\n",
    "cdata_train, cdata_test = random_split(cdata, [train_split, test_split])\n",
    "\n",
    "# train dataloader\n",
    "train_dataloader_args =  dict(shuffle=True, batch_size=BATCH_SIZE, num_workers=0)\n",
    "trainloader = DataLoader(cdata_train, pin_memory=True, **train_dataloader_args)\n",
    "\n",
    "# test dataloader\n",
    "test_dataloader_args =  dict(shuffle=True, batch_size=BATCH_SIZE, num_workers=0)\n",
    "testloader = DataLoader(cdata_test, pin_memory=True, **test_dataloader_args)"
   ]
  },
  {
   "cell_type": "code",
   "execution_count": 12,
   "metadata": {
    "id": "K6Zu8LCalc1d"
   },
   "outputs": [],
   "source": [
    "# save config\n",
    "if not os.path.isfile(folder_path + 'checkpoint/scratch/config.pkl') :\n",
    "    config = dict()\n",
    "    \n",
    "    # aug_avail and word_percentages are the training data configuration and rest are model configuration\n",
    "    config.update({'max_word_len':cdata.max_word_len, \n",
    "                   'max_sent_len':cdata.max_sent_len, \n",
    "                   'max_output_len':cdata.max_output_len, \n",
    "                   'char2idx':cdata.char2idx, \n",
    "                   'aug_avail': tdata['aug_avail'], \n",
    "                   'word_percentages': tdata['word_percentages'],\n",
    "                  })\n",
    "    \n",
    "    with open(folder_path + 'checkpoint/scratch/config.pkl', 'wb') as fp:\n",
    "        pickle.dump(config, fp)"
   ]
  },
  {
   "cell_type": "code",
   "execution_count": 13,
   "metadata": {
    "id": "EMMo0sBhkTR1"
   },
   "outputs": [],
   "source": [
    "class TextCNN(nn.Module):\n",
    "    def __init__(self, word_emb, sent_emb, kernel_sizes, dropout=0.1):\n",
    "        super(TextCNN, self).__init__()\n",
    "\n",
    "        sent_emb = int(sent_emb / len(kernel_sizes))\n",
    "\n",
    "        # three different convolutional layers\n",
    "        self.convs = nn.ModuleList([nn.Conv1d(word_emb, sent_emb, k) for k in kernel_sizes])\n",
    "        self.dropout = nn.Dropout(dropout)\n",
    "\n",
    "    @staticmethod\n",
    "    def conv_and_max_pool(x, conv):\n",
    "        return conv(x).permute(0, 2, 1).max(1)[0]\n",
    "\n",
    "    def forward(self, inputs, src_mask):\n",
    "        mask = src_mask.squeeze(1).int()\n",
    "        inputs = inputs * mask.unsqueeze(-1).expand(inputs.size())\n",
    "\n",
    "        inputs = inputs.permute(0, 2, 1)\n",
    "\n",
    "        x = [self.conv_and_max_pool(inputs, k) for k in self.convs]\n",
    "\n",
    "        return self.dropout(torch.cat(x, 1))\n",
    "\n",
    "\n",
    "class Embedding(nn.Module):\n",
    "    def __init__(self, vocab_size, dimension):\n",
    "        super().__init__()\n",
    "        self.embedding = nn.Embedding(vocab_size, dimension, padding_idx=0)\n",
    "        self.dimension = dimension\n",
    "\n",
    "    def forward(self, input_vec):\n",
    "        return self.embedding(input_vec) * math.sqrt(self.dimension)\n",
    "\n",
    "\n",
    "class EncEmbedding(nn.Module):\n",
    "    def __init__(self, vocab_size, char_emb_dim_size, word_emb_dim_size, kernel_sizes, dropout=0.05):\n",
    "        super().__init__()\n",
    "        self.K = kernel_sizes\n",
    "        dim = int(word_emb_dim_size / len(kernel_sizes))\n",
    "\n",
    "        self.embedding = Embedding(vocab_size, char_emb_dim_size)\n",
    "        self.convs = nn.ModuleList([nn.Conv2d(char_emb_dim_size, dim, kernel_size=(1,k)) for k in kernel_sizes])\n",
    "        self.dropout = nn.Dropout(dropout)\n",
    "\n",
    "    @staticmethod\n",
    "    def convolve(conv, x):\n",
    "        return conv(x).max(-1)[0].transpose(1,2)\n",
    "\n",
    "    def forward(self, x):\n",
    "        x = self.embedding(x).transpose(2,3).transpose(1,2)\n",
    "        x = [self.convolve(conv, x) for conv in self.convs]\n",
    "        return torch.cat(x, -1)\n",
    "\n",
    "\n",
    "class PositionalEncoding(nn.Module):\n",
    "    def __init__(self, max_seq_len, dimension, dropout=0.1):\n",
    "        super().__init__()\n",
    "        self.dropout = nn.Dropout(dropout)\n",
    "        positional_enc = torch.zeros(max_seq_len, dimension)\n",
    "\n",
    "        den = torch.pow(\n",
    "            10000, torch.div(torch.arange(0, dimension / 2) * 2, float(dimension))\n",
    "        )\n",
    "        num = torch.arange(0, max_seq_len).unsqueeze(1)\n",
    "\n",
    "        positional_enc[:, 0::2], positional_enc[:, 1::2] = (\n",
    "            torch.sin(num / den),\n",
    "            torch.cos(num / den),\n",
    "        )\n",
    "        positional_enc = positional_enc.unsqueeze(0)\n",
    "        self.register_buffer(\"positional_enc\", positional_enc)\n",
    "\n",
    "    def forward(self, input_vec):\n",
    "        seq_len = input_vec.size(1)\n",
    "        return self.dropout(input_vec + Variable(self.positional_enc[:, :seq_len]))\n",
    "\n",
    "\n",
    "class MultiHeadedAttention(nn.Module):\n",
    "    def __init__(self, dimension, heads, dropout=0.0):\n",
    "        super().__init__()\n",
    "        self.heads = heads\n",
    "        self.dimension = dimension\n",
    "        self.queryl = nn.Linear(dimension, dimension)\n",
    "        self.keyl = nn.Linear(dimension, dimension)\n",
    "        self.valuel = nn.Linear(dimension, dimension)\n",
    "        self.outl = nn.Linear(dimension, dimension)\n",
    "        self.dropout = nn.Dropout(dropout)\n",
    "\n",
    "    def forward(self, query, key, value, mask=None):\n",
    "\n",
    "        assert self.dimension == query.size(-1)\n",
    "        batch_size = query.size(0)\n",
    "\n",
    "        query = self.queryl(query)\n",
    "        key = self.keyl(key)\n",
    "        value = self.valuel(value)\n",
    "\n",
    "        query = query.view(\n",
    "            batch_size, -1, self.heads, query.size(-1) // self.heads\n",
    "        ).transpose(1, 2)\n",
    "        key = key.view(\n",
    "            batch_size, -1, self.heads, key.size(-1) // self.heads\n",
    "        ).transpose(1, 2)\n",
    "\n",
    "        value = value.view(\n",
    "            batch_size, -1, self.heads, value.size(-1) // self.heads\n",
    "        ).transpose(1, 2)\n",
    "\n",
    "\n",
    "        attn = self.attention(query, key, value, mask, self.dropout)\n",
    "\n",
    "\n",
    "        concat = attn.transpose(1, 2).reshape(\n",
    "            batch_size, -1, query.size(-1) * self.heads\n",
    "        )\n",
    "\n",
    "        return self.outl(concat)\n",
    "\n",
    "\n",
    "    def attention(self, query, key, value, mask=None, dropout=None):\n",
    "        qk = torch.div(\n",
    "            torch.matmul(query, key.transpose(-2, -1)), math.sqrt(query.size(-1))\n",
    "        )\n",
    "\n",
    "        if mask is not None:\n",
    "            mask = mask.unsqueeze(1)\n",
    "            qk = qk.masked_fill(mask == 0, -1e9)\n",
    "\n",
    "        qk = nn.Softmax(dim=-1)(qk)\n",
    "        qk = self.dropout(qk) if dropout is not None else qk\n",
    "        return torch.matmul(qk, value)\n",
    "\n",
    "\n",
    "class FeedForwardNet(nn.Module):\n",
    "    def __init__(self, dimension, dff=2048, dropout=0.1):\n",
    "        super().__init__()\n",
    "        self.l = nn.Linear(dimension, dff)\n",
    "        self.out = nn.Linear(dff, dimension)\n",
    "        self.dropout = nn.Dropout(dropout)\n",
    "\n",
    "    def forward(self, input_vec):\n",
    "        return self.out(self.dropout(F.relu(self.l(input_vec))))\n",
    "\n",
    "\n",
    "class LayerNorm(nn.Module):\n",
    "    def __init__(self, dimension, delta=1e-6):\n",
    "        super().__init__()\n",
    "        self.gain = nn.Parameter(torch.ones(dimension))\n",
    "        self.bias = nn.Parameter(torch.zeros(dimension))\n",
    "        self.delta = delta\n",
    "\n",
    "    def forward(self, input_vec):\n",
    "        mean = torch.mean(input_vec, dim=-1, keepdim=True)\n",
    "        std = torch.std(input_vec, dim=-1, keepdim=True) + self.delta\n",
    "        return (self.gain / std) * (input_vec - mean) + self.bias\n",
    "\n",
    "\n",
    "class ResidualConnection(nn.Module):\n",
    "    def __init__(self, dimension, dropout=0.1):\n",
    "        super().__init__()\n",
    "        self.norm = LayerNorm(dimension)\n",
    "        self.dropout = nn.Dropout(dropout)\n",
    "\n",
    "    def forward(self, input_vec, sublayer):\n",
    "        return input_vec + self.dropout(sublayer(self.norm(input_vec)))\n",
    "\n",
    "\n",
    "def mask(src, trg, padidx):\n",
    "    src_mask = (src != padidx).unsqueeze(-2)\n",
    "\n",
    "    if trg is not None:\n",
    "        trg_mask = (trg != padidx).unsqueeze(-2)\n",
    "        dimension = trg.size(1)  # get seq_len for matrix\n",
    "\n",
    "        mask = torch.tril(torch.ones(1, dimension, dimension))\n",
    "        mask[mask != 0] = 1\n",
    "        mask = Variable(mask > 0)\n",
    "\n",
    "        if trg.is_cuda:\n",
    "            mask.cuda()\n",
    "        trg_mask = trg_mask & mask\n",
    "\n",
    "    else:\n",
    "        trg_mask = None\n",
    "    return src_mask, trg_mask\n",
    "\n",
    "\n",
    "class EncoderLayer(nn.Module):\n",
    "    def __init__(self, dimension, head=8, dropout=0.1):\n",
    "        super().__init__()\n",
    "        self.attn = MultiHeadedAttention(dimension, head, dropout)\n",
    "        self.ffnn = FeedForwardNet(dimension, dropout=dropout)\n",
    "        self.resconn1 = ResidualConnection(dimension, dropout)\n",
    "        self.resconn2 = ResidualConnection(dimension, dropout)\n",
    "\n",
    "        self.norm = LayerNorm(dimension)\n",
    "        self.dropout = nn.Dropout(dropout)\n",
    "\n",
    "    def forward(self, input_vec, mask=None):\n",
    "        attn = self.resconn1(input_vec, lambda x: self.attn(x, x, x, mask))\n",
    "        return self.resconn2(attn, self.ffnn), attn\n",
    "\n",
    "\n",
    "class Encoder(nn.Module):\n",
    "    def __init__(\n",
    "        self, vocab_size, number_of_layers, head, max_seq_len, dimension, dropout, kernel_sizes\n",
    "    ):\n",
    "        super().__init__()\n",
    "        self.emb = EncEmbedding(vocab_size, dimension, dimension, kernel_sizes, dropout)\n",
    "        self.penc = PositionalEncoding(max_seq_len, dimension, dropout)\n",
    "        self.enclays = nn.ModuleList(\n",
    "            [\n",
    "                copy.deepcopy(EncoderLayer(dimension, head, dropout))\n",
    "                for _ in range(number_of_layers)\n",
    "            ]\n",
    "        )\n",
    "        self.norm = LayerNorm(dimension)\n",
    "        self.conv2 = TextCNN(dimension, dimension, kernel_sizes=[1,2], dropout=dropout)\n",
    "\n",
    "    def forward(self, input_vec, mask=None):\n",
    "        emb = self.emb(input_vec)\n",
    "        emb = self.penc(emb)\n",
    "\n",
    "        for layer in self.enclays:\n",
    "            emb, _ = layer(emb, mask)\n",
    "        emb = self.norm(emb)\n",
    "\n",
    "        seq_len = emb.size(1)\n",
    "        sentence_embedding = self.conv2(emb, mask)\n",
    "        sentence_embedding = sentence_embedding.repeat_interleave(seq_len, dim=0).view(emb.size(0),-1,emb.size(-1))\n",
    "        return sentence_embedding, _\n",
    "\n",
    "\n",
    "class DecoderLayer(nn.Module):\n",
    "    def __init__(self, dimension, heads=8, dropout=0.1):\n",
    "        super().__init__()\n",
    "        self.ffnn = FeedForwardNet(dimension, dropout=dropout)\n",
    "        self.resconn = nn.ModuleList(\n",
    "            [copy.deepcopy(ResidualConnection(dimension, dropout)) for _ in range(3)]\n",
    "        )\n",
    "        self.attn = nn.ModuleList(\n",
    "            [\n",
    "                copy.deepcopy(MultiHeadedAttention(dimension, heads, dropout))\n",
    "                for _ in range(2)\n",
    "            ]\n",
    "        )\n",
    "\n",
    "    def forward(self, input_vec, encoder_output, encmask, decmask):\n",
    "        selfattn = self.resconn[0](input_vec, lambda x: self.attn[0](x, x, x, decmask))\n",
    "\n",
    "        encdecattn = self.resconn[1](\n",
    "            selfattn, lambda x: self.attn[1](x, encoder_output, encoder_output, encmask)\n",
    "        )\n",
    "\n",
    "        return self.resconn[2](encdecattn, self.ffnn)\n",
    "\n",
    "\n",
    "class Decoder(nn.Module):\n",
    "    def __init__(\n",
    "        self, vocab_size, number_of_layers, head, max_seq_len, dimension, dropout\n",
    "    ):\n",
    "        super().__init__()\n",
    "        self.emb = Embedding(vocab_size, dimension)\n",
    "        self.penc = PositionalEncoding(max_seq_len, dimension, dropout)\n",
    "        self.declays = nn.ModuleList(\n",
    "            [\n",
    "                copy.deepcopy(DecoderLayer(dimension, head, dropout))\n",
    "                for i in range(number_of_layers)\n",
    "            ]\n",
    "        )\n",
    "        self.norm = LayerNorm(dimension)\n",
    "\n",
    "    def forward(self, input_vec, encoder_output, encmask, decmask):\n",
    "\n",
    "        emb = self.emb(input_vec)\n",
    "        emb = self.penc(emb)\n",
    "\n",
    "        for layer in self.declays:\n",
    "            emb = layer(emb, encoder_output, encmask, decmask)\n",
    "        return self.norm(emb)\n",
    "\n",
    "\n",
    "class Transformer(nn.Module):\n",
    "    def __init__(\n",
    "        self,\n",
    "        envocab_size,\n",
    "        devocab_size,\n",
    "        kernel_sizes,\n",
    "        enc_max_seq_len,\n",
    "        dec_max_seq_len,\n",
    "        head,\n",
    "        number_of_layers,\n",
    "        dimension,\n",
    "        dropout,\n",
    "    ):\n",
    "        super().__init__()\n",
    "        self.encoder = Encoder(\n",
    "            envocab_size, number_of_layers, head, enc_max_seq_len, dimension, dropout, kernel_sizes\n",
    "        )\n",
    "        self.decoder = Decoder(\n",
    "            devocab_size, number_of_layers, head, dec_max_seq_len, dimension, dropout\n",
    "        )\n",
    "        self.ffnn = nn.Linear(dimension, devocab_size)\n",
    "\n",
    "    def forward(self, enc_input_vec, dec_input_vec, encmask, decmask):\n",
    "\n",
    "        encout, _ = self.encoder(enc_input_vec, encmask)\n",
    "        decout = self.decoder(dec_input_vec, encout, encmask, decmask)\n",
    "\n",
    "        return F.log_softmax(self.ffnn(decout), dim=-1)\n",
    "\n",
    "\n",
    "class Batch:\n",
    "    def __init__(self, src, trg=None, device='cpu', pad=0):\n",
    "        self.src = src\n",
    "\n",
    "        src = (src!=pad).any(-1).int()\n",
    "        self.src_mask = (src!=pad).unsqueeze(1)#.unsqueeze(2)\n",
    "\n",
    "\n",
    "        if trg is not None:\n",
    "            self.trg = trg[:, :-1]\n",
    "            self.trg_y = trg[:, 1:]\n",
    "            self.ntokens = (self.trg_y != pad).data.sum()\n",
    "\n",
    "            trg_mask = (self.trg != pad).unsqueeze(-2)\n",
    "            dimension = self.trg.size(-1)\n",
    "\n",
    "            mask = torch.tril(torch.ones(1, dimension, dimension, device=device))\n",
    "            mask[mask != 0] = 1\n",
    "            mask = Variable(mask > 0)\n",
    "\n",
    "            if self.trg.is_cuda:\n",
    "                mask.cuda()\n",
    "            self.trg_mask = trg_mask & mask\n",
    " \n",
    "\n",
    "class LabelSmoothing(nn.Module):\n",
    "    def __init__(self, vocab_size, pad_index, alpha):\n",
    "        super().__init__()\n",
    "        self.alpha = alpha\n",
    "        self.vocab_size = vocab_size\n",
    "        self.pad_index = pad_index\n",
    "\n",
    "    def forward(self, prediction, target):\n",
    "        prediction = prediction.contiguous().view(-1, prediction.size(-1))\n",
    "        target = target.contiguous().view(-1)\n",
    "\n",
    "        one_hot_target = torch.nn.functional.one_hot(target, num_classes=prediction.size(-1))\n",
    "        one_hot_target[:, self.pad_index] = 0\n",
    "        one_hot_target = (one_hot_target * (1 - self.alpha)) + (\n",
    "            self.alpha / (self.vocab_size - 2)\n",
    "        )\n",
    "        one_hot_target.masked_fill_((target == self.pad_index).unsqueeze(1), 0)\n",
    "\n",
    "        return F.kl_div(prediction, one_hot_target, reduction=\"sum\")\n",
    "\n",
    "\n",
    "class CustomAdam:\n",
    "    def __init__(self, dimension, optimizer, warmup_steps=4000, step_num=0):\n",
    "        self.optimizer = optimizer\n",
    "        self.step_num = step_num\n",
    "        self.dimension = dimension\n",
    "        self.warmup_steps = warmup_steps\n",
    "\n",
    "    def step(self):\n",
    "        self.step_num += 1\n",
    "        lr = self.rate()\n",
    "\n",
    "        for pg in self.optimizer.param_groups:\n",
    "            pg[\"lr\"] = lr\n",
    "\n",
    "        self.optimizer.step()\n",
    "\n",
    "    def rate(self):\n",
    "        return self.dimension ** (-0.5) * min(\n",
    "            self.step_num ** (-0.5), self.step_num * self.warmup_steps ** (-1.5)\n",
    "        )\n",
    "\n",
    "\n",
    "def data_gen(V, batch, nbatches):\n",
    "    \"\"\"\n",
    "    :param V:\n",
    "    :type V: int\n",
    "    :param batch:\n",
    "    :type batch: int\n",
    "    :param nbatches:\n",
    "    :type nbatches: int\n",
    "    :return:\n",
    "    \"\"\"\n",
    "    # Generate random data for a src-tgt copy task.\n",
    "    for i in range(nbatches):\n",
    "        data = torch.from_numpy(np.random.randint(1, V, size=(batch, 10)))\n",
    "        data[:, 0] = 1\n",
    "        src = Variable(data, requires_grad=False)\n",
    "        tgt = Variable(data, requires_grad=False)\n",
    "        # src, tgt sizes -> [batch size, seq len]\n",
    "        yield Batch(src, tgt, 0)\n",
    "        \n",
    "        \n",
    "def init_weights(m):\n",
    "    if hasattr(m, 'weight') and m.weight.dim() > 1:\n",
    "        nn.init.xavier_uniform_(m.weight.data)"
   ]
  },
  {
   "cell_type": "code",
   "execution_count": 14,
   "metadata": {
    "id": "F1RXGqCSpzq0"
   },
   "outputs": [],
   "source": [
    "INPUT_DIM = len(cdata.char2idx)\n",
    "OUTPUT_DIM = len(cdata.char2idx)\n",
    "HID_DIM = 512\n",
    "LAYERS = 2\n",
    "HEADS = 8\n",
    "DROPOUT = 0.1\n",
    "ENC_PF_DIM = 512\n",
    "DEC_PF_DIM = 512\n",
    "ENC_DROPOUT = 0.05\n",
    "DEC_DROPOUT = 0.05\n",
    "SRC_PAD_IDX = 0\n",
    "TRG_PAD_IDX = 0\n",
    "use_cuda = torch.cuda.is_available()\n",
    "device = torch.device(\"cuda\" if use_cuda else \"cpu\")\n",
    "kernel_sizes = [1,2,3,7]\n",
    "\n",
    "model = Transformer(INPUT_DIM, OUTPUT_DIM, kernel_sizes, cdata.max_sent_len, cdata.max_output_len, HEADS, LAYERS, HID_DIM, DROPOUT).to(device)\n",
    "model = torch.nn.DataParallel(model)"
   ]
  },
  {
   "cell_type": "code",
   "execution_count": 15,
   "metadata": {
    "colab": {
     "base_uri": "https://localhost:8080/"
    },
    "id": "vM_1ePjWlc1e",
    "outputId": "3906e81b-31d5-47a0-d602-e8fb02d4c4e1"
   },
   "outputs": [
    {
     "name": "stdout",
     "output_type": "stream",
     "text": [
      "model weights initialised..\n"
     ]
    }
   ],
   "source": [
    "if os.path.isfile(folder_path + 'checkpoint/scratch/model.pt'):\n",
    "    checkpoint = torch.load(folder_path + 'checkpoint/scratch/model.pt')\n",
    "    \n",
    "    model.load_state_dict(checkpoint['model_state_dict'], strict=False)\n",
    "    print('loading the model to train further..')\n",
    "    \n",
    "else:\n",
    "    checkpoint = {'step_num':0, 'epoch':0}\n",
    "    model.apply(init_weights)\n",
    "    print('model weights initialised..')"
   ]
  },
  {
   "cell_type": "code",
   "execution_count": 16,
   "metadata": {
    "colab": {
     "base_uri": "https://localhost:8080/"
    },
    "id": "HqCXKO5Mp4-R",
    "outputId": "f830bc4e-c384-4d32-9daa-db4773bc3930"
   },
   "outputs": [
    {
     "name": "stdout",
     "output_type": "stream",
     "text": [
      "The model has 16,029,227 trainable parameters\n"
     ]
    }
   ],
   "source": [
    "def count_parameters(model):\n",
    "    return sum(p.numel() for p in model.parameters() if p.requires_grad)\n",
    "\n",
    "print(f'The model has {count_parameters(model):,} trainable parameters')"
   ]
  },
  {
   "cell_type": "code",
   "execution_count": 17,
   "metadata": {
    "id": "NOjCwhJ5p6yf"
   },
   "outputs": [],
   "source": [
    "optim = torch.optim.Adam(\n",
    "            model.parameters(), lr=0, betas=(0.9, 0.98), eps=1e-9\n",
    "        )\n",
    "\n",
    "if 'optimizer_state_dict' in checkpoint:\n",
    "    optim.load_state_dict(checkpoint['optimizer_state_dict'])\n",
    "\n",
    "optimizer = CustomAdam(\n",
    "        dimension=512,\n",
    "        warmup_steps=400,\n",
    "        optimizer=optim,\n",
    "        step_num=checkpoint['step_num'],\n",
    "    )"
   ]
  },
  {
   "cell_type": "code",
   "execution_count": 18,
   "metadata": {
    "id": "HGxSMwiup9Ws"
   },
   "outputs": [],
   "source": [
    "criterion = LabelSmoothing(vocab_size=INPUT_DIM, pad_index=0, alpha=0.1)"
   ]
  },
  {
   "cell_type": "code",
   "execution_count": 19,
   "metadata": {},
   "outputs": [],
   "source": [
    "# tensorboard\n",
    "from torch.utils.tensorboard import SummaryWriter\n",
    "\n",
    "shutil.rmtree('/home/qblocks/tensorboard/case_logs_v2/', ignore_errors=True)\n",
    "writer = SummaryWriter('tensorboard/case_logs_v2')\n",
    "\n",
    "# # get some random training data\n",
    "# dataiter = iter(trainloader)\n",
    "# src, trg = dataiter.next()\n",
    "# src, trg = src.to(device), trg.to(device)\n",
    "# batcher = Batch(src, trg, device, 0)\n",
    "# print('batcher built..')\n",
    "\n",
    "# # add model to tensorboard\n",
    "# with SummaryWriter(comment='model') as w:\n",
    "#     w.add_graph(model, (batcher.src, batcher.trg, batcher.src_mask, batcher.trg_mask,), verbose=True)"
   ]
  },
  {
   "cell_type": "code",
   "execution_count": 20,
   "metadata": {
    "id": "SGy0aaywp-t3"
   },
   "outputs": [],
   "source": [
    "from tqdm import tqdm\n",
    "\n",
    "\n",
    "def train(epoch, model, device, trainloader, optimizer):\n",
    "    model.train()\n",
    "\n",
    "    running_loss = 0\n",
    "    running_accuracy = 0\n",
    "    \n",
    "    iterator = 0\n",
    "    correct = 0\n",
    "    processed = 0\n",
    "    pbar = tqdm(trainloader)\n",
    "\n",
    "    for i, (src, trg) in enumerate(pbar, 0):\n",
    "\n",
    "        src, trg = src.to(device), trg.to(device)\n",
    "        batcher = Batch(src, trg, device, 0)\n",
    "\n",
    "        output = model(batcher.src, batcher.trg, batcher.src_mask, batcher.trg_mask)\n",
    "\n",
    "        loss = criterion(output, batcher.trg_y) / batcher.ntokens\n",
    "        loss.backward()\n",
    "\n",
    "        optimizer.step()\n",
    "        optimizer.optimizer.zero_grad()\n",
    "\n",
    "        pred = output.argmax(-1)\n",
    "        labels = batcher.trg_y\n",
    "\n",
    "        correct += pred.eq(labels.view_as(pred)).sum().item()\n",
    "        processed += torch.count_nonzero(labels).item()\n",
    "\n",
    "        # tensorboard writing every 200 mini-batches\n",
    "        running_loss += loss.item()\n",
    "        running_accuracy += round((correct / processed) * 100, 14)\n",
    "\n",
    "        if i % 200 == 199:\n",
    "            # log the running loss\n",
    "            writer.add_scalar(\n",
    "                \"training loss\", running_loss / 200, epoch * len(trainloader) + i\n",
    "            )\n",
    "            running_loss = 0.0\n",
    "\n",
    "            # log the running accuracy\n",
    "            writer.add_scalar(\n",
    "                \"training accuracy\",\n",
    "                running_accuracy / 200,\n",
    "                epoch * len(trainloader) + i,\n",
    "            )\n",
    "            running_accuracy = 0.0\n",
    "\n",
    "        # tqdm writing\n",
    "        pbar.set_description(\n",
    "            desc=\"Train Epoch - {epoch}, Mini Batch - {batch}, Train Accuracy - {accuracy}, Train Loss - {loss}\".format(\n",
    "                epoch=epoch + 1,\n",
    "                batch=i + 1,\n",
    "                accuracy=round((correct / processed) * 100, 14),\n",
    "                loss=round(loss.item(), 4),\n",
    "            )\n",
    "        )"
   ]
  },
  {
   "cell_type": "code",
   "execution_count": 21,
   "metadata": {
    "id": "kONJrqZqqAXs"
   },
   "outputs": [],
   "source": [
    "def test(model, device, testloader):\n",
    "    model.eval()\n",
    "\n",
    "    iterator = 0\n",
    "    test_loss = 0\n",
    "    correct = 0\n",
    "    processed = 0\n",
    "    pbar = tqdm(testloader)\n",
    "\n",
    "    with torch.no_grad():\n",
    "        for i, (src, trg) in enumerate(pbar, 0):\n",
    "            src, trg = src.to(device), trg.to(device)\n",
    "            batcher = Batch(src, trg, device, 0)\n",
    "\n",
    "            output = model(batcher.src, batcher.trg, batcher.src_mask, batcher.trg_mask)\n",
    "\n",
    "            loss = criterion(output, batcher.trg_y) / batcher.ntokens\n",
    "            test_loss += loss\n",
    "\n",
    "            pred = output.argmax(-1)\n",
    "            labels = batcher.trg_y\n",
    "\n",
    "            correct += pred.eq(labels.view_as(pred)).sum().item()\n",
    "            processed += torch.count_nonzero(labels).item()\n",
    "\n",
    "            pbar.set_description(\n",
    "                desc=\"Test Accuracy - {accuracy}, Test Loss - {loss}\".format(\n",
    "                    accuracy=round((correct / processed) * 100, 14),\n",
    "                    loss=round(loss.item(), 4),\n",
    "                )\n",
    "            )\n",
    "\n",
    "        test_loss /= len(testloader.dataset)\n",
    "\n",
    "        # tensorboard writing\n",
    "        test_accuracy = round((correct / processed) * 100, 14)\n",
    "\n",
    "        # log the testing loss\n",
    "        writer.add_scalar(\"testing loss\", test_loss, epoch * len(trainloader) + i)\n",
    "\n",
    "        # log the testing accuracy\n",
    "        writer.add_scalar(\n",
    "            \"testing accuracy\", test_accuracy, epoch * len(trainloader) + i\n",
    "        )\n",
    "\n",
    "        return test_loss"
   ]
  },
  {
   "cell_type": "code",
   "execution_count": 22,
   "metadata": {
    "id": "3msyE3h4IFlb"
   },
   "outputs": [],
   "source": [
    "import numpy as np\n",
    "\n",
    "char2idx = config['char2idx']\n",
    "idx2char = {v:k for k,v in char2idx.items()}\n",
    "\n",
    "def pad_nested_sequences(sequences, max_sent_len=4, max_word_len=10, dtype='int32'):\n",
    "    for sent in sequences:\n",
    "        max_sent_len = max(len(sent), max_sent_len)\n",
    "        for word in sent:\n",
    "            max_word_len = max(len(word), max_word_len)\n",
    "\n",
    "    x = np.zeros((len(sequences), max_sent_len, max_word_len)).astype(dtype)\n",
    "    for i, sent in enumerate(sequences):\n",
    "        for j, word in enumerate(sent):\n",
    "            if j<max_word_len:\n",
    "                x[i, j, :len(word)] = word\n",
    "\n",
    "    return x\n",
    "\n",
    "\n",
    "def seq2seq(text_list):\n",
    "    model.eval()\n",
    "\n",
    "    text = [[[char2idx[char] for char in word] for word in query.split()] for query in text_list]\n",
    "    text = pad_nested_sequences(text, max_sent_len, max_word_len)\n",
    "    text = torch.from_numpy(np.array(text)).to(torch.int64).to(device)\n",
    "\n",
    "    src = (text!=0).any(-1).int()        \n",
    "    src_mask = (src != 0).unsqueeze(1)\n",
    "\n",
    "    decoder_inp = [char2idx[\"<SOS>\"]]\n",
    "\n",
    "    for i in range(max_output_len):\n",
    "        trg_tensor = torch.LongTensor(decoder_inp).unsqueeze(0).to(device)\n",
    "\n",
    "        trg_mask = (trg_tensor != 0).unsqueeze(-2)\n",
    "        dimension = trg_tensor.size(-1)  # get seq_len for matrix\n",
    "\n",
    "        mask = torch.tril(torch.ones(1, dimension, dimension, device=device))\n",
    "        mask[mask != 0] = 1\n",
    "        mask = Variable(mask > 0)\n",
    "\n",
    "        if trg_tensor.is_cuda:\n",
    "            mask.cuda()\n",
    "        trg_mask = trg_mask & mask\n",
    "\n",
    "        with torch.no_grad():\n",
    "            output = model.forward(text, trg_tensor, src_mask, trg_mask)\n",
    "\n",
    "        pred_token = output.argmax(2)[:,-1].item()\n",
    "        decoder_inp.append(pred_token)\n",
    "\n",
    "        if pred_token == char2idx[\"<EOS>\"]:\n",
    "            break\n",
    "\n",
    "    return ''.join([idx2char[i] for i in decoder_inp][1:])\n",
    "  \n",
    "# # 'DETTOL ORIGINAL HAND WASH REFILL PACKET 175 ML RECKITT BENCKISER INDIA LIMITED<EOS>'\n",
    "# seq2seq(['Reckitt'.upper()])"
   ]
  },
  {
   "cell_type": "code",
   "execution_count": null,
   "metadata": {},
   "outputs": [],
   "source": []
  },
  {
   "cell_type": "code",
   "execution_count": null,
   "metadata": {},
   "outputs": [],
   "source": [
    "# Word ratio maintained in all data\n",
    "###### FIRST 2 LAYERS ########\n",
    "# Training data = clean\n",
    "# epoch 1 - Train Accuracy - 81.9931122560466\n",
    "# epoch 2 - Train Accuracy - 87.42581597586063\n",
    "# epoch 3 - Train Accuracy - 88.16240369412816\n",
    "# epoch 4 - Train Accuracy - 88.5647180347854\n",
    "# epoch 6 - Train Accuracy - 89.0294778071759\n",
    "# epoch 20 - Train Accuracy - 90.02246121773504\n",
    "# epoch 127 - Train Accuracy - 91.0005309363059\n",
    "# business test accuracy - 94\n",
    "# train for 150 epochs in general\n",
    "\n",
    "###### LAST 1/2 LAYERS ########\n",
    "# Training data = sampled clean + augmentation\n",
    "# Train Accuracy - 88\n",
    "# business test accuracy - 98.6\n",
    "\n",
    "###### LAST 1/2 LAYERS ########\n",
    "# Training data = sampled clean + augmentation + Feedback\n",
    "# Train Accuracy - 88\n",
    "# business test accuracy - 99.5"
   ]
  },
  {
   "cell_type": "code",
   "execution_count": null,
   "metadata": {},
   "outputs": [
    {
     "name": "stdout",
     "output_type": "stream",
     "text": [
      "3N5M<SOS>V 5555M<SOS>V55555555555555555555<SOS>V 5555555M<SOS>VF<SOS>VFU<SOS>VFU<SOS>VVFU<SOS>VFFU<SOS>VFFFFFFFFFFFFU<SOS>VVVVV D3 V 555555555555.D3PNU<SOS>V V 55555555555TU<SOS>VFFFFFFFFFFFFFFFFFFFFFFFFFFFFFFFFFFFFFFFFFFFFFFFFFFFFFFFFFFFFFFFFFFFFF\n",
      "3N5.VVVVVVVVVVVVVVVVVVVVVVVVVVVVVVVV 5VVVVVVVVVVVVVVVVVVVVVVVVVVVVVVVVVVVVVVVVVVVVVVVVV VVVV V 5VV 55555V VVVVVV VVVVVVVVVVVVVVVVVVVVVVVVVVV V V 5VVV VVVVVVVVVVVVVVVVVVVVVVVVVVVVVVVVVVVVVVVVVVVVVVVVVV\n"
     ]
    },
    {
     "name": "stderr",
     "output_type": "stream",
     "text": [
      "  0%|          | 0/5868 [00:00<?, ?it/s]"
     ]
    },
    {
     "name": "stdout",
     "output_type": "stream",
     "text": [
      "3NN5.DZN5.DM<SOS>3N5.D3<SOS>3<SOS>3<SOS>3<SOS>3555M<SOS>3<SOS>3<SOS>3<SOS>35M<SOS>VVVVVVVVVVVVVVVVVVVVVVVVVVVVVVVVVVVVVVVVVVVV V V V V V V V 5555.D3YV V V V V V V VVV V V VVVVVV V V V V V V V V V V V 5.V V VVVVVVVVVVVV V V V VVVVVVVVVV V 55\n"
     ]
    },
    {
     "name": "stderr",
     "output_type": "stream",
     "text": [
      "Train Epoch - 2, Mini Batch - 5868, Train Accuracy - 81.9931122560466, Train Loss - 0.3427: 100%|██████████| 5868/5868 [1:14:21<00:00,  1.32it/s] \n",
      "Test Accuracy - 90.67599067599068, Test Loss - 0.287: 100%|██████████| 1/1 [00:00<00:00, 23.52it/s]\n"
     ]
    },
    {
     "name": "stdout",
     "output_type": "stream",
     "text": [
      "DETTOL COOL MINT FLAVOUR SUGAR FREE BOTTLE 100ML RECKITT BENCKISER<EOS>\n",
      "ALL OUT MULTI FRESH SHAMPOO 100ML 2<EOS>\n"
     ]
    },
    {
     "name": "stderr",
     "output_type": "stream",
     "text": [
      "  0%|          | 0/5868 [00:00<?, ?it/s]"
     ]
    },
    {
     "name": "stdout",
     "output_type": "stream",
     "text": [
      "MORTEIN COMBO PACK 10 CAPSULES CONTROL BAR 100 G POWDER FAMILY 3440736 FOOD NUTRITION BOX SUPPLEMENT BOX NUTRITIONAL SUPPLEMENT SUPPLEMENTS 3128617 FEMALE HYGEINE BOX PERSONAL CARE HYGEINE SKIN CARE<EOS>\n"
     ]
    },
    {
     "name": "stderr",
     "output_type": "stream",
     "text": [
      "Train Epoch - 3, Mini Batch - 5868, Train Accuracy - 87.42581597586063, Train Loss - 0.3305: 100%|██████████| 5868/5868 [1:16:45<00:00,  1.27it/s]\n",
      "Test Accuracy - 90.20979020979021, Test Loss - 0.2943: 100%|██████████| 1/1 [00:00<00:00, 23.28it/s]\n"
     ]
    },
    {
     "name": "stdout",
     "output_type": "stream",
     "text": [
      "DETTOL COOL HAND SANITIZER BOTTLE 100 ML RECKITT BENCKISER<EOS>\n",
      "ALL OUT ON ALL REFILL PACKET 1<EOS>\n"
     ]
    },
    {
     "name": "stderr",
     "output_type": "stream",
     "text": [
      "  0%|          | 0/5868 [00:00<?, ?it/s]"
     ]
    },
    {
     "name": "stdout",
     "output_type": "stream",
     "text": [
      "MORTEIN COOL STRIP 10 CAPSULES COLLAGEN PEPTIDES VITAMIN C / ASCORBIC ACID CALCIUM PANTOTHENATE COLLAGEN PEPTIDES VITAMIN E / TOCOPHEROL VITAMIN B12 / MECOBALAMIN / CYNOCOBALAMIN / METHYLCOBALAMIN V<EOS>\n"
     ]
    },
    {
     "name": "stderr",
     "output_type": "stream",
     "text": [
      "Train Epoch - 4, Mini Batch - 5868, Train Accuracy - 88.16240369412816, Train Loss - 0.3636: 100%|██████████| 5868/5868 [1:17:00<00:00,  1.27it/s]\n",
      "Test Accuracy - 91.37529137529138, Test Loss - 0.2651: 100%|██████████| 1/1 [00:00<00:00, 28.52it/s]\n"
     ]
    },
    {
     "name": "stdout",
     "output_type": "stream",
     "text": [
      "DETTOL SENSITIVE SKIN CREAM 100 GM RECKITT BENCKISER<EOS>\n"
     ]
    },
    {
     "name": "stderr",
     "output_type": "stream",
     "text": [
      "  0%|          | 0/5868 [00:00<?, ?it/s]"
     ]
    },
    {
     "name": "stdout",
     "output_type": "stream",
     "text": [
      "ALL OUT ULTRA SOFT BLACK SEED OIL 100 ML 2<EOS>\n",
      "MORTEIN CAPSULE<EOS>\n"
     ]
    },
    {
     "name": "stderr",
     "output_type": "stream",
     "text": [
      "Train Epoch - 5, Mini Batch - 5868, Train Accuracy - 88.5647180347854, Train Loss - 0.3575: 100%|██████████| 5868/5868 [1:15:15<00:00,  1.30it/s] \n",
      "Test Accuracy - 92.54079254079254, Test Loss - 0.2639: 100%|██████████| 1/1 [00:00<00:00, 19.91it/s]\n"
     ]
    },
    {
     "name": "stdout",
     "output_type": "stream",
     "text": [
      "DETTOL SENSITIVE SKIN CLEANSING LOTION 100ML RECKITT BENCKISER<EOS>\n",
      "ALL OUT ULTRA MOISTURIZING CREAM 100 GM ALLERGY DRINKS 3128719 SKIN MOISTURIZING PERSONAL CARE HYGEINE LOTION CREAM FACE ANTI DIABETIC HINDUSTAN<EOS>\n"
     ]
    },
    {
     "name": "stderr",
     "output_type": "stream",
     "text": [
      "  0%|          | 0/5868 [00:00<?, ?it/s]"
     ]
    },
    {
     "name": "stdout",
     "output_type": "stream",
     "text": [
      "MORTEIN HEALTH SUPPLEMENTS MOREPEN LABORATORIES<EOS>\n"
     ]
    },
    {
     "name": "stderr",
     "output_type": "stream",
     "text": [
      "Train Epoch - 6, Mini Batch - 5868, Train Accuracy - 88.83239075979151, Train Loss - 0.3324: 100%|██████████| 5868/5868 [1:16:47<00:00,  1.27it/s]\n",
      "Test Accuracy - 92.54079254079254, Test Loss - 0.2597: 100%|██████████| 1/1 [00:00<00:00, 19.88it/s]\n"
     ]
    },
    {
     "name": "stdout",
     "output_type": "stream",
     "text": [
      "DETTOL COOL SOAP 75GM RECKITT BENCKISER<EOS>\n",
      "ALL OUT ULTRA SOFT SANITIZER BOTTLE 250 ML ALCOHOL<EOS>\n"
     ]
    },
    {
     "name": "stderr",
     "output_type": "stream",
     "text": [
      "  0%|          | 0/5868 [00:00<?, ?it/s]"
     ]
    },
    {
     "name": "stdout",
     "output_type": "stream",
     "text": [
      "MORTEIN STERILE MORNING COOL POWDER 100GM BABY 3128574 MOTHER CARE ACCESSORIES<EOS>\n"
     ]
    },
    {
     "name": "stderr",
     "output_type": "stream",
     "text": [
      "Train Epoch - 7, Mini Batch - 5868, Train Accuracy - 89.0294778071759, Train Loss - 0.3077: 100%|██████████| 5868/5868 [1:14:57<00:00,  1.30it/s] \n",
      "Test Accuracy - 93.00699300699301, Test Loss - 0.2695: 100%|██████████| 1/1 [00:00<00:00, 37.55it/s]\n"
     ]
    },
    {
     "name": "stdout",
     "output_type": "stream",
     "text": [
      "DETTOL COOL SOAP 75GM RECKITT BENCKISER<EOS>\n",
      "ALL OUT ULTRA SOFT SANITIZER BOTTLE 250 ML LIQUID DETERGENT 3128628 HOME HYGEINE BOTTLE CARE ESSENTIALS SANITIZER WIPES ALKEM LABORATORIES LTD<EOS>\n"
     ]
    },
    {
     "name": "stderr",
     "output_type": "stream",
     "text": [
      "  0%|          | 0/5868 [00:00<?, ?it/s]"
     ]
    },
    {
     "name": "stdout",
     "output_type": "stream",
     "text": [
      "MORTEIN COOL STAIN REMOVER FOR MEN 100 GM BOTTLE PERSONAL CARE HYGEINE ANALGESIC ANTIBIOTIC<EOS>\n"
     ]
    },
    {
     "name": "stderr",
     "output_type": "stream",
     "text": [
      "Train Epoch - 8, Mini Batch - 5868, Train Accuracy - 89.18381479597227, Train Loss - 0.3297: 100%|██████████| 5868/5868 [1:15:05<00:00,  1.30it/s]\n",
      "Test Accuracy - 92.54079254079254, Test Loss - 0.2697: 100%|██████████| 1/1 [00:00<00:00, 29.68it/s]\n"
     ]
    },
    {
     "name": "stdout",
     "output_type": "stream",
     "text": [
      "DETTOL COOL SOAP 75GM RECKITT BENCKISER<EOS>\n",
      "ALL OUT ULTRA MOSQUITO REPELLENT CREAM 100 GM ALL NATURAL INDIA PVT LTD<EOS>\n"
     ]
    },
    {
     "name": "stderr",
     "output_type": "stream",
     "text": [
      "  0%|          | 0/5868 [00:00<?, ?it/s]"
     ]
    },
    {
     "name": "stdout",
     "output_type": "stream",
     "text": [
      "MORTEIN STRAWBERRY SHAMPOO 200ML 2<EOS>\n"
     ]
    },
    {
     "name": "stderr",
     "output_type": "stream",
     "text": [
      "Train Epoch - 9, Mini Batch - 5868, Train Accuracy - 89.31053395662195, Train Loss - 0.3399: 100%|██████████| 5868/5868 [1:14:58<00:00,  1.30it/s]\n",
      "Test Accuracy - 93.47319347319348, Test Loss - 0.2586: 100%|██████████| 1/1 [00:00<00:00, 26.84it/s]\n"
     ]
    },
    {
     "name": "stdout",
     "output_type": "stream",
     "text": [
      "DETTOL COOL SOAP 75GM RECKITT BENCKISER<EOS>\n",
      "ALL OUT ULTRA REFILL PACKET 1<EOS>\n"
     ]
    },
    {
     "name": "stderr",
     "output_type": "stream",
     "text": [
      "  0%|          | 0/5868 [00:00<?, ?it/s]"
     ]
    },
    {
     "name": "stdout",
     "output_type": "stream",
     "text": [
      "MORTEIN STRAWBERRY FLAVOUR SOAP 125GM 2<EOS>\n"
     ]
    },
    {
     "name": "stderr",
     "output_type": "stream",
     "text": [
      "Train Epoch - 10, Mini Batch - 5868, Train Accuracy - 89.41662079477257, Train Loss - 0.3387: 100%|██████████| 5868/5868 [1:14:38<00:00,  1.31it/s]\n",
      "Test Accuracy - 93.47319347319348, Test Loss - 0.2524: 100%|██████████| 1/1 [00:00<00:00, 28.99it/s]\n"
     ]
    },
    {
     "name": "stdout",
     "output_type": "stream",
     "text": [
      "DETTOL COOL SOAP 75GM RECKITT BENCKISER<EOS>\n",
      "ALL OUT ULTRA REFILL PACKET 1<EOS>\n"
     ]
    },
    {
     "name": "stderr",
     "output_type": "stream",
     "text": [
      "  0%|          | 0/5868 [00:00<?, ?it/s]"
     ]
    },
    {
     "name": "stdout",
     "output_type": "stream",
     "text": [
      "MORTEIN REFILL PACKET 1<EOS>\n"
     ]
    },
    {
     "name": "stderr",
     "output_type": "stream",
     "text": [
      "Train Epoch - 11, Mini Batch - 5868, Train Accuracy - 89.50534341967287, Train Loss - 0.3114: 100%|██████████| 5868/5868 [1:14:23<00:00,  1.31it/s]\n",
      "Test Accuracy - 93.00699300699301, Test Loss - 0.2496: 100%|██████████| 1/1 [00:00<00:00, 27.61it/s]\n"
     ]
    },
    {
     "name": "stdout",
     "output_type": "stream",
     "text": [
      "DETTOL COOL SOAP 75GM RECKITT BENCKISER<EOS>\n",
      "ALL OUT ULTRA MOSQUITO REPELLENT CREAM 100 GM PACKET PERSONAL CARE HYGEINE ANALGESIC ANTIBIOTIC REPELLENT TOPICAL 3128711 REPELLING MOSQUITOES PACKET ACCESSORIES WEARABLES PERSONAL HYGIENE SANITIZER<EOS>\n"
     ]
    },
    {
     "name": "stderr",
     "output_type": "stream",
     "text": [
      "  0%|          | 0/5868 [00:00<?, ?it/s]"
     ]
    },
    {
     "name": "stdout",
     "output_type": "stream",
     "text": [
      "MORTEIN POWER COOL STRAWBERRY SHAMPOO 200 ML 2<EOS>\n"
     ]
    },
    {
     "name": "stderr",
     "output_type": "stream",
     "text": [
      "Train Epoch - 12, Mini Batch - 5868, Train Accuracy - 89.58520813534983, Train Loss - 0.3113: 100%|██████████| 5868/5868 [1:14:40<00:00,  1.31it/s]\n",
      "Test Accuracy - 93.93939393939394, Test Loss - 0.2406: 100%|██████████| 1/1 [00:00<00:00, 26.23it/s]\n"
     ]
    },
    {
     "name": "stdout",
     "output_type": "stream",
     "text": [
      "DETTOL SKINCARE GERM PROTECTION HANDWASH REFILL 175 ML RECKITT BENCKISER<EOS>\n",
      "ALL OUT ULTRA MOSQUITO REPELLENT CREAM 100 GM BOTTLE PERSONAL CARE HYGEINE ANALGESIC ANTIBIOTIC<EOS>\n"
     ]
    },
    {
     "name": "stderr",
     "output_type": "stream",
     "text": [
      "  0%|          | 0/5868 [00:00<?, ?it/s]"
     ]
    },
    {
     "name": "stdout",
     "output_type": "stream",
     "text": [
      "MORTEIN REFILL PACKET 1<EOS>\n"
     ]
    },
    {
     "name": "stderr",
     "output_type": "stream",
     "text": [
      "Train Epoch - 14, Mini Batch - 5868, Train Accuracy - 89.71443837010543, Train Loss - 0.302: 100%|██████████| 5868/5868 [1:14:15<00:00,  1.32it/s] \n",
      "Test Accuracy - 93.24009324009323, Test Loss - 0.2501: 100%|██████████| 1/1 [00:00<00:00, 24.62it/s]\n"
     ]
    },
    {
     "name": "stdout",
     "output_type": "stream",
     "text": [
      "DETTOL COOL SOAP 75GM RECKITT BENCKISER<EOS>\n",
      "ALL OUT ULTRA MOSQUITO REPELLENT CREAM 100 GM PACKET PERSONAL CARE HYGEINE ANALGESIC ANTIBIOTIC<EOS>\n"
     ]
    },
    {
     "name": "stderr",
     "output_type": "stream",
     "text": [
      "  0%|          | 0/5868 [00:00<?, ?it/s]"
     ]
    },
    {
     "name": "stdout",
     "output_type": "stream",
     "text": [
      "MORTEIN REFILL PACKET 1<EOS>\n"
     ]
    },
    {
     "name": "stderr",
     "output_type": "stream",
     "text": [
      "Train Epoch - 15, Mini Batch - 5868, Train Accuracy - 89.77202935759358, Train Loss - 0.3265: 100%|██████████| 5868/5868 [1:14:01<00:00,  1.32it/s]\n",
      "Test Accuracy - 93.24009324009323, Test Loss - 0.2428: 100%|██████████| 1/1 [00:00<00:00, 34.16it/s]\n"
     ]
    },
    {
     "name": "stdout",
     "output_type": "stream",
     "text": [
      "DETTOL SKINCARE GERM PROTECTION HANDWASH REFILL 175 ML RECKITT BENCKISER<EOS>\n",
      "ALL OUT ULTRA MOSQUITO REPELLENT CREAM 100 GM ALL REPELLENT PEST COMBO<EOS>\n"
     ]
    },
    {
     "name": "stderr",
     "output_type": "stream",
     "text": [
      "  0%|          | 0/5868 [00:00<?, ?it/s]"
     ]
    },
    {
     "name": "stdout",
     "output_type": "stream",
     "text": [
      "MORTEIN REFILL PACKET 1<EOS>\n"
     ]
    },
    {
     "name": "stderr",
     "output_type": "stream",
     "text": [
      "Train Epoch - 16, Mini Batch - 5868, Train Accuracy - 89.82173402243566, Train Loss - 0.2945: 100%|██████████| 5868/5868 [1:14:12<00:00,  1.32it/s]\n",
      "Test Accuracy - 93.47319347319348, Test Loss - 0.2433: 100%|██████████| 1/1 [00:00<00:00, 20.50it/s]\n"
     ]
    },
    {
     "name": "stdout",
     "output_type": "stream",
     "text": [
      "DETTOL SKINCARE GERM PROTECTION HANDWASH REFILL 750 ML RECKITT BENCKISER<EOS>\n",
      "ALL OUT ULTRA MOSQUITO REPELLENT CREAM 100 GM PACKET PERSONAL CARE HYGEINE ANALGESIC ANTIBIOTIC<EOS>\n"
     ]
    },
    {
     "name": "stderr",
     "output_type": "stream",
     "text": [
      "  0%|          | 0/5868 [00:00<?, ?it/s]"
     ]
    },
    {
     "name": "stdout",
     "output_type": "stream",
     "text": [
      "MORTEIN ROOT MORNING ENERGY BLACK SEED OIL 100ML 2<EOS>\n"
     ]
    },
    {
     "name": "stderr",
     "output_type": "stream",
     "text": [
      "Train Epoch - 17, Mini Batch - 5868, Train Accuracy - 89.86867344074072, Train Loss - 0.3085: 100%|██████████| 5868/5868 [1:14:15<00:00,  1.32it/s]\n",
      "Test Accuracy - 93.24009324009323, Test Loss - 0.2498: 100%|██████████| 1/1 [00:00<00:00, 25.47it/s]\n"
     ]
    },
    {
     "name": "stdout",
     "output_type": "stream",
     "text": [
      "DETTOL SKINCARE GERM PROTECTION HANDWASH REFILL 750 ML RECKITT BENCKISER<EOS>\n",
      "ALL OUT ULTRA MOSQUITO REPELLENT CREAM 100 GM PACKET PERSONAL CARE HYGEINE ANALGESIC ANTIBIOTIC<EOS>\n"
     ]
    },
    {
     "name": "stderr",
     "output_type": "stream",
     "text": [
      "  0%|          | 0/5868 [00:00<?, ?it/s]"
     ]
    },
    {
     "name": "stdout",
     "output_type": "stream",
     "text": [
      "MORTEIN MOSQUITO REPELLENT COOL SOAP 125G 3<EOS>\n"
     ]
    },
    {
     "name": "stderr",
     "output_type": "stream",
     "text": [
      "Train Epoch - 18, Mini Batch - 5868, Train Accuracy - 89.91094754899207, Train Loss - 0.3365: 100%|██████████| 5868/5868 [1:14:31<00:00,  1.31it/s]\n",
      "Test Accuracy - 93.24009324009323, Test Loss - 0.2472: 100%|██████████| 1/1 [00:00<00:00, 27.66it/s]\n"
     ]
    },
    {
     "name": "stdout",
     "output_type": "stream",
     "text": [
      "DETTOL COOL SOAP 75GM RECKITT BENCKISER<EOS>\n",
      "ALL OUT ULTRA MOSQUITO REPELLENT CREAM 100 GM PACKET PERSONAL CARE HYGEINE ANALGESIC ANTIBIOTIC<EOS>\n"
     ]
    },
    {
     "name": "stderr",
     "output_type": "stream",
     "text": [
      "  0%|          | 0/5868 [00:00<?, ?it/s]"
     ]
    },
    {
     "name": "stdout",
     "output_type": "stream",
     "text": [
      "MORTEIN MORNING NECK SHIELD REFILL PACKET 1<EOS>\n"
     ]
    },
    {
     "name": "stderr",
     "output_type": "stream",
     "text": [
      "Train Epoch - 19, Mini Batch - 5868, Train Accuracy - 89.95194680806947, Train Loss - 0.2736: 100%|██████████| 5868/5868 [1:14:52<00:00,  1.31it/s]\n",
      "Test Accuracy - 93.93939393939394, Test Loss - 0.2473: 100%|██████████| 1/1 [00:00<00:00, 36.34it/s]\n"
     ]
    },
    {
     "name": "stdout",
     "output_type": "stream",
     "text": [
      "DETTOL COOL SOAP 75GM RECKITT BENCKISER<EOS>\n",
      "ALL OUT ULTRA MOSQUITO REPELLENT PATCHES 10 PATCHES NATURAL BLACK<EOS>\n"
     ]
    },
    {
     "name": "stderr",
     "output_type": "stream",
     "text": [
      "  0%|          | 0/5868 [00:00<?, ?it/s]"
     ]
    },
    {
     "name": "stdout",
     "output_type": "stream",
     "text": [
      "MORTEIN REFILL PACKET 1<EOS>\n"
     ]
    },
    {
     "name": "stderr",
     "output_type": "stream",
     "text": [
      "Train Epoch - 20, Mini Batch - 5868, Train Accuracy - 89.98929495493093, Train Loss - 0.2911: 100%|██████████| 5868/5868 [1:15:02<00:00,  1.30it/s]\n",
      "Test Accuracy - 93.00699300699301, Test Loss - 0.2513: 100%|██████████| 1/1 [00:00<00:00, 24.98it/s]\n"
     ]
    },
    {
     "name": "stdout",
     "output_type": "stream",
     "text": [
      "DETTOL COOL SOAP 75GM RECKITT BENCKISER<EOS>\n",
      "ALL OUT ULTRA MOSQUITO REPELLENT SPRAY 150 ML 2<EOS>\n"
     ]
    },
    {
     "name": "stderr",
     "output_type": "stream",
     "text": [
      "  0%|          | 0/5868 [00:00<?, ?it/s]"
     ]
    },
    {
     "name": "stdout",
     "output_type": "stream",
     "text": [
      "MORTEIN REFILL PACKET 1<EOS>\n"
     ]
    },
    {
     "name": "stderr",
     "output_type": "stream",
     "text": [
      "Train Epoch - 21, Mini Batch - 5868, Train Accuracy - 90.02246121773504, Train Loss - 0.2494: 100%|██████████| 5868/5868 [1:13:09<00:00,  1.34it/s]\n",
      "Test Accuracy - 93.47319347319348, Test Loss - 0.2573: 100%|██████████| 1/1 [00:00<00:00, 22.22it/s]\n"
     ]
    },
    {
     "name": "stdout",
     "output_type": "stream",
     "text": [
      "DETTOL COOL SOAP 75GM RECKITT BENCKISER<EOS>\n",
      "ALL OUT ULTRA MOSQUITO REPELLENT SPRAY 100 ML<EOS>\n"
     ]
    },
    {
     "name": "stderr",
     "output_type": "stream",
     "text": [
      "  0%|          | 0/5868 [00:00<?, ?it/s]"
     ]
    },
    {
     "name": "stdout",
     "output_type": "stream",
     "text": [
      "MORTEIN ROYAL COLOR CARE CONCENTRATE MORNING SPRAY 150 ML LIQUID SURFACE SANITIZERS 2986545 SANITIZATION BOTTLE HOME CARE HYGIENE ESSENTIALS SANITIZER WIPES RECKITT<EOS>\n"
     ]
    },
    {
     "name": "stderr",
     "output_type": "stream",
     "text": [
      "Train Epoch - 22, Mini Batch - 5868, Train Accuracy - 90.05541542099125, Train Loss - 0.3016: 100%|██████████| 5868/5868 [1:14:06<00:00,  1.32it/s]\n",
      "Test Accuracy - 93.7062937062937, Test Loss - 0.2443: 100%|██████████| 1/1 [00:00<00:00, 24.17it/s]\n"
     ]
    },
    {
     "name": "stdout",
     "output_type": "stream",
     "text": [
      "DETTOL COOL SOAP 75GM RECKITT BENCKISER<EOS>\n",
      "ALL OUT ULTRA MOSQUITO REPELLENT SPRAY 170ML 2<EOS>\n"
     ]
    },
    {
     "name": "stderr",
     "output_type": "stream",
     "text": [
      "  0%|          | 0/5868 [00:00<?, ?it/s]"
     ]
    },
    {
     "name": "stdout",
     "output_type": "stream",
     "text": [
      "MORTEIN MOSQUITO REPELLENT SPRAY 150 ML LIQUID SURFACE SANITIZERS 2986545 SANITIZATION BOTTLE HOME CARE HYGIENE ESSENTIALS SANITIZER WIPES MOREPEN LABORATORIES<EOS>\n"
     ]
    },
    {
     "name": "stderr",
     "output_type": "stream",
     "text": [
      "Train Epoch - 23, Mini Batch - 5868, Train Accuracy - 90.0875196417353, Train Loss - 0.3202: 100%|██████████| 5868/5868 [1:14:48<00:00,  1.31it/s] \n",
      "Test Accuracy - 93.7062937062937, Test Loss - 0.2327: 100%|██████████| 1/1 [00:00<00:00, 21.59it/s]\n"
     ]
    },
    {
     "name": "stdout",
     "output_type": "stream",
     "text": [
      "DETTOL COOL SOAP 75GM RECKITT BENCKISER<EOS>\n",
      "ALL OUT ULTRA MOSQUITO REPELLENT SPRAY 150 ML<EOS>\n"
     ]
    },
    {
     "name": "stderr",
     "output_type": "stream",
     "text": [
      "  0%|          | 0/5868 [00:00<?, ?it/s]"
     ]
    },
    {
     "name": "stdout",
     "output_type": "stream",
     "text": [
      "MORTEIN MOSQUITO REPELLENT CONDOMS 10 COUNT BOX 5<EOS>\n"
     ]
    },
    {
     "name": "stderr",
     "output_type": "stream",
     "text": [
      "Train Epoch - 24, Mini Batch - 5868, Train Accuracy - 90.11514095852321, Train Loss - 0.3111: 100%|██████████| 5868/5868 [1:16:34<00:00,  1.28it/s]\n",
      "Test Accuracy - 93.24009324009323, Test Loss - 0.2495: 100%|██████████| 1/1 [00:00<00:00, 25.88it/s]\n"
     ]
    },
    {
     "name": "stdout",
     "output_type": "stream",
     "text": [
      "DETTOL COOL SOAP 75GM RECKITT BENCKISER<EOS>\n",
      "ALL OUT ULTRA MOSQUITO REPELLENT SPRAY 170 ML 2<EOS>\n"
     ]
    },
    {
     "name": "stderr",
     "output_type": "stream",
     "text": [
      "  0%|          | 0/5868 [00:00<?, ?it/s]"
     ]
    },
    {
     "name": "stdout",
     "output_type": "stream",
     "text": [
      "MORTEIN MOSQUITO REPELLENT CONDOMS 10 COUNT MEN 507871 SEXUAL WELLNESS BOX CONTRACEPTIVES LEMON BOX HEALTH MONITOR DEVICES MONITORS ACCESSORIES DEVICE RECKITT<EOS>\n"
     ]
    },
    {
     "name": "stderr",
     "output_type": "stream",
     "text": [
      "Train Epoch - 25, Mini Batch - 5868, Train Accuracy - 90.14163070961548, Train Loss - 0.2755: 100%|██████████| 5868/5868 [1:19:01<00:00,  1.24it/s]\n",
      "Test Accuracy - 93.24009324009323, Test Loss - 0.2345: 100%|██████████| 1/1 [00:00<00:00, 25.65it/s]\n"
     ]
    },
    {
     "name": "stdout",
     "output_type": "stream",
     "text": [
      "DETTOL COOL SOAP 75GM RECKITT BENCKISER<EOS>\n",
      "ALL OUT ULTRA MOSQUITO REPELLENT SPRAY 170 ML 2<EOS>\n"
     ]
    },
    {
     "name": "stderr",
     "output_type": "stream",
     "text": [
      "  0%|          | 0/5868 [00:00<?, ?it/s]"
     ]
    },
    {
     "name": "stdout",
     "output_type": "stream",
     "text": [
      "MORTEIN MOSQUITO REPELLENT CONDOMS 10 COUNT MILK 5<EOS>\n"
     ]
    },
    {
     "name": "stderr",
     "output_type": "stream",
     "text": [
      "Train Epoch - 26, Mini Batch - 5868, Train Accuracy - 90.16953659985076, Train Loss - 0.2877: 100%|██████████| 5868/5868 [1:16:56<00:00,  1.27it/s]\n",
      "Test Accuracy - 94.17249417249417, Test Loss - 0.2283: 100%|██████████| 1/1 [00:00<00:00, 31.01it/s]\n"
     ]
    },
    {
     "name": "stdout",
     "output_type": "stream",
     "text": [
      "DETTOL COOL SOAP 75GM RECKITT BENCKISER<EOS>\n",
      "ALL OUT ULTRA MOSQUITO REPELLENT CREAM 100 GM PACKET PERSONAL CARE HYGEINE ANALGESIC ANTIBIOTIC<EOS>\n"
     ]
    },
    {
     "name": "stderr",
     "output_type": "stream",
     "text": [
      "  0%|          | 0/5868 [00:00<?, ?it/s]"
     ]
    },
    {
     "name": "stdout",
     "output_type": "stream",
     "text": [
      "MORTEIN MOSQUITO REPELLENT CONDOMS 10 COUNT MORNING SPRAY 486217 FRESHENING BOX HOME CARE HYGIENE ESSENTIALS SANITIZER WIPES MOREPEN LABORATORIES<EOS>\n"
     ]
    },
    {
     "name": "stderr",
     "output_type": "stream",
     "text": [
      "Train Epoch - 27, Mini Batch - 5868, Train Accuracy - 90.19161521332042, Train Loss - 0.2912: 100%|██████████| 5868/5868 [1:18:34<00:00,  1.24it/s]\n",
      "Test Accuracy - 93.24009324009323, Test Loss - 0.2288: 100%|██████████| 1/1 [00:00<00:00, 22.53it/s]\n"
     ]
    },
    {
     "name": "stdout",
     "output_type": "stream",
     "text": [
      "DETTOL COOL SOAP 75GM RECKITT BENCKISER<EOS>\n",
      "ALL OUT ULTRA MOSQUITO REPELLENT SPRAY 150 ML<EOS>\n"
     ]
    },
    {
     "name": "stderr",
     "output_type": "stream",
     "text": [
      "  0%|          | 0/5868 [00:00<?, ?it/s]"
     ]
    },
    {
     "name": "stdout",
     "output_type": "stream",
     "text": [
      "MORTEIN REFILL PACKET 1<EOS>\n"
     ]
    },
    {
     "name": "stderr",
     "output_type": "stream",
     "text": [
      "Train Epoch - 28, Mini Batch - 5868, Train Accuracy - 90.21583186547508, Train Loss - 0.2656: 100%|██████████| 5868/5868 [1:16:48<00:00,  1.27it/s]\n",
      "Test Accuracy - 93.7062937062937, Test Loss - 0.2372: 100%|██████████| 1/1 [00:00<00:00, 27.19it/s]\n"
     ]
    },
    {
     "name": "stdout",
     "output_type": "stream",
     "text": [
      "DETTOL COOL SOAP 75GM RECKITT BENCKISER<EOS>\n",
      "ALL OUT ULTRA MOSQUITO REPELLENT SPRAY 150 ML<EOS>\n"
     ]
    },
    {
     "name": "stderr",
     "output_type": "stream",
     "text": [
      "  0%|          | 0/5868 [00:00<?, ?it/s]"
     ]
    },
    {
     "name": "stdout",
     "output_type": "stream",
     "text": [
      "MORTEIN MOSQUITO REPELLENT CONDOMS 10 COUNT MILK 5<EOS>\n"
     ]
    },
    {
     "name": "stderr",
     "output_type": "stream",
     "text": [
      "Train Epoch - 29, Mini Batch - 5868, Train Accuracy - 90.23941607681594, Train Loss - 0.2396: 100%|██████████| 5868/5868 [1:16:10<00:00,  1.28it/s]\n",
      "Test Accuracy - 93.47319347319348, Test Loss - 0.2245: 100%|██████████| 1/1 [00:00<00:00, 18.17it/s]\n"
     ]
    },
    {
     "name": "stdout",
     "output_type": "stream",
     "text": [
      "DETTOL COOL SOAP 75GM RECKITT BENCKISER<EOS>\n",
      "ALL OUT ULTRA MOSQUITO REPELLENT SPRAY 100 ML 2<EOS>\n"
     ]
    },
    {
     "name": "stderr",
     "output_type": "stream",
     "text": [
      "  0%|          | 0/5868 [00:00<?, ?it/s]"
     ]
    },
    {
     "name": "stdout",
     "output_type": "stream",
     "text": [
      "MORTEIN MOSQUITO REPELLENT CREAM 50GM REFILL 3<EOS>\n"
     ]
    },
    {
     "name": "stderr",
     "output_type": "stream",
     "text": [
      "Train Epoch - 30, Mini Batch - 5868, Train Accuracy - 90.25875859882154, Train Loss - 0.2694: 100%|██████████| 5868/5868 [1:16:09<00:00,  1.28it/s]\n",
      "Test Accuracy - 93.7062937062937, Test Loss - 0.2266: 100%|██████████| 1/1 [00:00<00:00, 20.01it/s]\n"
     ]
    },
    {
     "name": "stdout",
     "output_type": "stream",
     "text": [
      "DETTOL COOL SOAP 75GM RECKITT BENCKISER<EOS>\n",
      "ALL OUT ULTRA MOSQUITO REPELLENT SPRAY 100 ML<EOS>\n"
     ]
    },
    {
     "name": "stderr",
     "output_type": "stream",
     "text": [
      "  0%|          | 0/5868 [00:00<?, ?it/s]"
     ]
    },
    {
     "name": "stdout",
     "output_type": "stream",
     "text": [
      "MORTEIN MOSQUITO REPELLENT CONDOMS 10 COUNT MOSQUITO REPELLENT 3128593 CONTRACEPTION BOX SEXUAL WELLNESS CONTRACEPTIVES RECKITT<EOS>\n"
     ]
    },
    {
     "name": "stderr",
     "output_type": "stream",
     "text": [
      "Train Epoch - 31, Mini Batch - 5868, Train Accuracy - 90.28009886629776, Train Loss - 0.3083: 100%|██████████| 5868/5868 [1:16:14<00:00,  1.28it/s]\n",
      "Test Accuracy - 93.7062937062937, Test Loss - 0.2032: 100%|██████████| 1/1 [00:00<00:00, 37.10it/s]\n"
     ]
    },
    {
     "name": "stdout",
     "output_type": "stream",
     "text": [
      "DETTOL COOL SOAP 75GM RECKITT BENCKISER<EOS>\n",
      "ALL OUT ULTRA MOSQUITO REPELLENT SPRAY 170ML 2<EOS>\n"
     ]
    },
    {
     "name": "stderr",
     "output_type": "stream",
     "text": [
      "  0%|          | 0/5868 [00:00<?, ?it/s]"
     ]
    },
    {
     "name": "stdout",
     "output_type": "stream",
     "text": [
      "MORTEIN MOSQUITO REPELLENT CONDOMS 10 COUNT MOISTURIZERS 3128593 CONTRACEPTION BOX SEXUAL WELLNESS CONTRACEPTIVES RECKITT<EOS>\n"
     ]
    },
    {
     "name": "stderr",
     "output_type": "stream",
     "text": [
      "Train Epoch - 32, Mini Batch - 5868, Train Accuracy - 90.29951913516466, Train Loss - 0.2594: 100%|██████████| 5868/5868 [1:16:16<00:00,  1.28it/s]\n",
      "Test Accuracy - 94.17249417249417, Test Loss - 0.203: 100%|██████████| 1/1 [00:00<00:00, 26.27it/s]\n"
     ]
    },
    {
     "name": "stdout",
     "output_type": "stream",
     "text": [
      "DETTOL COOL SOAP 75GM RECKITT BENCKISER<EOS>\n",
      "ALL OUT ULTRA MOSQUITO REPELLENT SPRAY 100 ML<EOS>\n"
     ]
    },
    {
     "name": "stderr",
     "output_type": "stream",
     "text": [
      "  0%|          | 0/5868 [00:00<?, ?it/s]"
     ]
    },
    {
     "name": "stdout",
     "output_type": "stream",
     "text": [
      "MORTEIN MOSQUITO REPELLENT CONDOMS 10 COUNT MOISTURIZERS 3128593 CONTRACEPTION BOX SEXUAL WELLNESS CONTRACEPTIVES RECKITT<EOS>\n"
     ]
    },
    {
     "name": "stderr",
     "output_type": "stream",
     "text": [
      "Train Epoch - 33, Mini Batch - 5868, Train Accuracy - 90.31845498128052, Train Loss - 0.3143: 100%|██████████| 5868/5868 [1:16:37<00:00,  1.28it/s]\n",
      "Test Accuracy - 93.93939393939394, Test Loss - 0.2124: 100%|██████████| 1/1 [00:00<00:00, 29.42it/s]\n"
     ]
    },
    {
     "name": "stdout",
     "output_type": "stream",
     "text": [
      "DETTOL COOL SOAP 75GM RECKITT BENCKISER<EOS>\n",
      "ALL OUT ULTRA MOSQUITO REPELLENT SPRAY 100 ML<EOS>\n"
     ]
    },
    {
     "name": "stderr",
     "output_type": "stream",
     "text": [
      "  0%|          | 0/5868 [00:00<?, ?it/s]"
     ]
    },
    {
     "name": "stdout",
     "output_type": "stream",
     "text": [
      "MORTEIN MOSQUITO REPELLENT CONTROL SPRAY 150 ML 2<EOS>\n"
     ]
    },
    {
     "name": "stderr",
     "output_type": "stream",
     "text": [
      "Train Epoch - 34, Mini Batch - 5868, Train Accuracy - 90.33527945189779, Train Loss - 0.3033: 100%|██████████| 5868/5868 [1:15:40<00:00,  1.29it/s]\n",
      "Test Accuracy - 93.93939393939394, Test Loss - 0.2126: 100%|██████████| 1/1 [00:00<00:00, 29.22it/s]\n"
     ]
    },
    {
     "name": "stdout",
     "output_type": "stream",
     "text": [
      "DETTOL COOL SOAP 75GM RECKITT BENCKISER<EOS>\n",
      "ALL OUT ULTRA MOSQUITO REPELLENT CREAM 100 G<EOS>\n"
     ]
    },
    {
     "name": "stderr",
     "output_type": "stream",
     "text": [
      "  0%|          | 0/5868 [00:00<?, ?it/s]"
     ]
    },
    {
     "name": "stdout",
     "output_type": "stream",
     "text": [
      "MORTEIN MOSQUITO REPELLENT CONDOMS 10 COUNT 3<EOS>\n"
     ]
    },
    {
     "name": "stderr",
     "output_type": "stream",
     "text": [
      "Train Epoch - 35, Mini Batch - 5868, Train Accuracy - 90.35406752913951, Train Loss - 0.282: 100%|██████████| 5868/5868 [1:15:48<00:00,  1.29it/s] \n",
      "Test Accuracy - 93.7062937062937, Test Loss - 0.2137: 100%|██████████| 1/1 [00:00<00:00, 29.25it/s]\n"
     ]
    },
    {
     "name": "stdout",
     "output_type": "stream",
     "text": [
      "DETTOL COOL SOAP 75GM RECKITT BENCKISER<EOS>\n",
      "ALL OUT ULTRA MOSQUITO REPELLENT REPELLENT SPRAY 100ML<EOS>\n"
     ]
    },
    {
     "name": "stderr",
     "output_type": "stream",
     "text": [
      "  0%|          | 0/5868 [00:00<?, ?it/s]"
     ]
    },
    {
     "name": "stdout",
     "output_type": "stream",
     "text": [
      "MORTEIN REFILL PACK 1 LTR RECKITT BENCKISER<EOS>\n"
     ]
    },
    {
     "name": "stderr",
     "output_type": "stream",
     "text": [
      "Train Epoch - 36, Mini Batch - 5868, Train Accuracy - 90.36908687711875, Train Loss - 0.2538: 100%|██████████| 5868/5868 [1:15:42<00:00,  1.29it/s]\n",
      "Test Accuracy - 94.17249417249417, Test Loss - 0.1944: 100%|██████████| 1/1 [00:00<00:00, 24.40it/s]\n"
     ]
    },
    {
     "name": "stdout",
     "output_type": "stream",
     "text": [
      "DETTOL COOL SOAP 75GM RECKITT BENCKISER<EOS>\n",
      "ALL OUT ULTRA MOSQUITO REPELLENT SPRAY 100 ML<EOS>\n"
     ]
    },
    {
     "name": "stderr",
     "output_type": "stream",
     "text": [
      "  0%|          | 0/5868 [00:00<?, ?it/s]"
     ]
    },
    {
     "name": "stdout",
     "output_type": "stream",
     "text": [
      "MORTEIN MOSQUITO REPELLENT CREAM 50GM 2<EOS>\n"
     ]
    },
    {
     "name": "stderr",
     "output_type": "stream",
     "text": [
      "Train Epoch - 37, Mini Batch - 5868, Train Accuracy - 90.38530930793846, Train Loss - 0.2808: 100%|██████████| 5868/5868 [1:18:21<00:00,  1.25it/s]\n",
      "Test Accuracy - 94.4055944055944, Test Loss - 0.1954: 100%|██████████| 1/1 [00:00<00:00, 19.92it/s]\n"
     ]
    },
    {
     "name": "stdout",
     "output_type": "stream",
     "text": [
      "DETTOL COOL SOAP 75GM RECKITT BENCKISER<EOS>\n",
      "ALL OUT ULTRA MOSQUITO REPELLENT SPRAY 100 ML<EOS>\n"
     ]
    },
    {
     "name": "stderr",
     "output_type": "stream",
     "text": [
      "  0%|          | 0/5868 [00:00<?, ?it/s]"
     ]
    },
    {
     "name": "stdout",
     "output_type": "stream",
     "text": [
      "MORTEIN MOSQUITO REPELLENT CREAM 50GM 2<EOS>\n"
     ]
    },
    {
     "name": "stderr",
     "output_type": "stream",
     "text": [
      "Train Epoch - 38, Mini Batch - 5868, Train Accuracy - 90.40059055319718, Train Loss - 0.2877: 100%|██████████| 5868/5868 [1:15:42<00:00,  1.29it/s]\n",
      "Test Accuracy - 94.17249417249417, Test Loss - 0.1978: 100%|██████████| 1/1 [00:00<00:00, 30.52it/s]\n"
     ]
    },
    {
     "name": "stdout",
     "output_type": "stream",
     "text": [
      "DETTOL COOL SOAP 75GM RECKITT BENCKISER<EOS>\n",
      "ALL OUT ULTRA MOSQUITO REPELLENT SPRAY 100 ML<EOS>\n"
     ]
    },
    {
     "name": "stderr",
     "output_type": "stream",
     "text": [
      "  0%|          | 0/5868 [00:00<?, ?it/s]"
     ]
    },
    {
     "name": "stdout",
     "output_type": "stream",
     "text": [
      "MORTEIN MOSQUITO REPELLENT CONDOMS 10 COUNT MOSQUITO REPELLENT 3128593 CONTRACEPTION BOTTLE SEXUAL WELLNESS CONTRACEPTIVES RECKITT<EOS>\n"
     ]
    },
    {
     "name": "stderr",
     "output_type": "stream",
     "text": [
      "Train Epoch - 39, Mini Batch - 5868, Train Accuracy - 90.41697121881467, Train Loss - 0.2806: 100%|██████████| 5868/5868 [1:15:49<00:00,  1.29it/s]\n",
      "Test Accuracy - 94.17249417249417, Test Loss - 0.2144: 100%|██████████| 1/1 [00:00<00:00, 31.31it/s]\n"
     ]
    },
    {
     "name": "stdout",
     "output_type": "stream",
     "text": [
      "DETTOL COOL SOAP 75GM RECKITT BENCKISER<EOS>\n",
      "ALL OUT ULTRA MOSQUITO REPELLENT SPRAY 100 ML<EOS>\n"
     ]
    },
    {
     "name": "stderr",
     "output_type": "stream",
     "text": [
      "  0%|          | 0/5868 [00:00<?, ?it/s]"
     ]
    },
    {
     "name": "stdout",
     "output_type": "stream",
     "text": [
      "MORTEIN MOSQUITO REPELLENT CREAM 50GM 2<EOS>\n"
     ]
    },
    {
     "name": "stderr",
     "output_type": "stream",
     "text": [
      "Train Epoch - 40, Mini Batch - 5868, Train Accuracy - 90.43001225803863, Train Loss - 0.2763: 100%|██████████| 5868/5868 [1:16:35<00:00,  1.28it/s]\n",
      "Test Accuracy - 94.4055944055944, Test Loss - 0.2027: 100%|██████████| 1/1 [00:00<00:00, 34.86it/s]\n"
     ]
    },
    {
     "name": "stdout",
     "output_type": "stream",
     "text": [
      "DETTOL COOL HANDWASH REFILL 175 ML RECKITT BENCKISER<EOS>\n",
      "ALL OUT ULTRA MOSQUITO REPELLENT SPRAY 100 ML<EOS>\n"
     ]
    },
    {
     "name": "stderr",
     "output_type": "stream",
     "text": [
      "  0%|          | 0/5868 [00:00<?, ?it/s]"
     ]
    },
    {
     "name": "stdout",
     "output_type": "stream",
     "text": [
      "MORTEIN MOSQUITO REPELLENT CONDITIONER 100 ML 2<EOS>\n"
     ]
    },
    {
     "name": "stderr",
     "output_type": "stream",
     "text": [
      "Train Epoch - 41, Mini Batch - 5868, Train Accuracy - 90.44536053504632, Train Loss - 0.2765: 100%|██████████| 5868/5868 [1:17:15<00:00,  1.27it/s]\n",
      "Test Accuracy - 93.93939393939394, Test Loss - 0.214: 100%|██████████| 1/1 [00:00<00:00, 15.37it/s]\n"
     ]
    },
    {
     "name": "stdout",
     "output_type": "stream",
     "text": [
      "DETTOL COOL SOAP 75GM RECKITT BENCKISER<EOS>\n",
      "ALL OUT ULTRA MOSQUITO REPELLENT REPELLENT SPRAY 100ML<EOS>\n"
     ]
    },
    {
     "name": "stderr",
     "output_type": "stream",
     "text": [
      "  0%|          | 0/5868 [00:00<?, ?it/s]"
     ]
    },
    {
     "name": "stdout",
     "output_type": "stream",
     "text": [
      "MORTEIN MOSQUITO REPELLENT CREAM 50GM 2<EOS>\n"
     ]
    },
    {
     "name": "stderr",
     "output_type": "stream",
     "text": [
      "Train Epoch - 42, Mini Batch - 5868, Train Accuracy - 90.45930737504185, Train Loss - 0.2759: 100%|██████████| 5868/5868 [1:16:02<00:00,  1.29it/s]\n",
      "Test Accuracy - 94.17249417249417, Test Loss - 0.2153: 100%|██████████| 1/1 [00:00<00:00, 32.06it/s]\n"
     ]
    },
    {
     "name": "stdout",
     "output_type": "stream",
     "text": [
      "DETTOL COOL HANDWASH REFILL 175 ML RECKITT BENCKISER<EOS>\n",
      "ALL OUT ULTRA MOSQUITO REPELLENT REFILL 7.5ML<EOS>\n"
     ]
    },
    {
     "name": "stderr",
     "output_type": "stream",
     "text": [
      "  0%|          | 0/5868 [00:00<?, ?it/s]"
     ]
    },
    {
     "name": "stdout",
     "output_type": "stream",
     "text": [
      "MORTEIN MOSQUITO REPELLENT CONDOMS 10 COUNT MOISTURIZERS 3128593 CONTRACEPTION BOTTLE SEXUAL WELLNESS CONTRACEPTIVES RECKITT<EOS>\n"
     ]
    },
    {
     "name": "stderr",
     "output_type": "stream",
     "text": [
      "Train Epoch - 43, Mini Batch - 5868, Train Accuracy - 90.47217796922378, Train Loss - 0.2897: 100%|██████████| 5868/5868 [1:16:27<00:00,  1.28it/s]\n",
      "Test Accuracy - 94.17249417249417, Test Loss - 0.1937: 100%|██████████| 1/1 [00:00<00:00, 18.69it/s]\n"
     ]
    },
    {
     "name": "stdout",
     "output_type": "stream",
     "text": [
      "DETTOL COOL LIQUID HANDWASH REFILL 175 ML RECKITT BENCKISER<EOS>\n",
      "ALL OUT ULTRA MOSQUITO REPELLENT REPELLENT SPRAY 100ML<EOS>\n"
     ]
    },
    {
     "name": "stderr",
     "output_type": "stream",
     "text": [
      "  0%|          | 0/5868 [00:00<?, ?it/s]"
     ]
    },
    {
     "name": "stdout",
     "output_type": "stream",
     "text": [
      "MORTEIN MOSQUITO REPELLENT CONDOMS 10 COUNT MOSQUITO REPELLENT 3128593 CONTRACEPTION BOX SEXUAL WELLNESS CONTRACEPTIVES RECKITT<EOS>\n"
     ]
    },
    {
     "name": "stderr",
     "output_type": "stream",
     "text": [
      "Train Epoch - 44, Mini Batch - 5868, Train Accuracy - 90.48330523955485, Train Loss - 0.2767: 100%|██████████| 5868/5868 [1:19:05<00:00,  1.24it/s]\n",
      "Test Accuracy - 94.63869463869464, Test Loss - 0.1998: 100%|██████████| 1/1 [00:00<00:00, 19.68it/s]\n"
     ]
    },
    {
     "name": "stdout",
     "output_type": "stream",
     "text": [
      "DETTOL COOL LIQUID HANDWASH REFILL 175 ML RECKITT BENCKISER<EOS>\n",
      "ALL OUT ULTRA MOSQUITO REPELLENT SPRAY 100 ML<EOS>\n"
     ]
    },
    {
     "name": "stderr",
     "output_type": "stream",
     "text": [
      "  0%|          | 0/5868 [00:00<?, ?it/s]"
     ]
    },
    {
     "name": "stdout",
     "output_type": "stream",
     "text": [
      "MORTEIN MOSQUITO REPELLENT CONDOMS 10 COUNT MOSQUITO REPELLENT 3128587 BOOSTS IMMUNITY BOTTLE SEXUAL WELLNESS ENHANCERS LUBRICANTS DEVICE RECKITT<EOS>\n"
     ]
    },
    {
     "name": "stderr",
     "output_type": "stream",
     "text": [
      "Train Epoch - 45, Mini Batch - 5868, Train Accuracy - 90.49609011283846, Train Loss - 0.2877: 100%|██████████| 5868/5868 [1:16:59<00:00,  1.27it/s]\n",
      "Test Accuracy - 94.17249417249417, Test Loss - 0.2042: 100%|██████████| 1/1 [00:00<00:00, 34.81it/s]\n"
     ]
    },
    {
     "name": "stdout",
     "output_type": "stream",
     "text": [
      "DETTOL COOL SOAP 75GM RECKITT BENCKISER<EOS>\n",
      "ALL OUT ULTRA MOSQUITO REPELLENT REPELLENT SPRAY 100 ML<EOS>\n"
     ]
    },
    {
     "name": "stderr",
     "output_type": "stream",
     "text": [
      "  0%|          | 0/5868 [00:00<?, ?it/s]"
     ]
    },
    {
     "name": "stdout",
     "output_type": "stream",
     "text": [
      "MORTEIN POWER REFILL 1 LIQUID 300ML 2<EOS>\n"
     ]
    },
    {
     "name": "stderr",
     "output_type": "stream",
     "text": [
      "Train Epoch - 46, Mini Batch - 5868, Train Accuracy - 90.50671975341965, Train Loss - 0.2511: 100%|██████████| 5868/5868 [1:19:37<00:00,  1.23it/s]\n",
      "Test Accuracy - 94.17249417249417, Test Loss - 0.1991: 100%|██████████| 1/1 [00:00<00:00, 26.28it/s]\n"
     ]
    },
    {
     "name": "stdout",
     "output_type": "stream",
     "text": [
      "DETTOL COOL SOAP 75GM RECKITT BENCKISER<EOS>\n",
      "ALL OUT ULTRA MOSQUITO REPELLENT REFILL 7.5ML<EOS>\n"
     ]
    },
    {
     "name": "stderr",
     "output_type": "stream",
     "text": [
      "  0%|          | 0/5868 [00:00<?, ?it/s]"
     ]
    },
    {
     "name": "stdout",
     "output_type": "stream",
     "text": [
      "MORTEIN REFILL PACK 1 LIQUID 450ML RECKITT BENCKISER<EOS>\n"
     ]
    },
    {
     "name": "stderr",
     "output_type": "stream",
     "text": [
      "Train Epoch - 47, Mini Batch - 5868, Train Accuracy - 90.52244654799875, Train Loss - 0.2675: 100%|██████████| 5868/5868 [1:16:52<00:00,  1.27it/s]\n",
      "Test Accuracy - 94.4055944055944, Test Loss - 0.1994: 100%|██████████| 1/1 [00:00<00:00, 21.23it/s]\n"
     ]
    },
    {
     "name": "stdout",
     "output_type": "stream",
     "text": [
      "DETTOL COOL SOAP 75GM RECKITT BENCKISER<EOS>\n",
      "ALL OUT ULTRA MOSQUITO REPELLENT REFILL 7.5ML 2<EOS>\n"
     ]
    },
    {
     "name": "stderr",
     "output_type": "stream",
     "text": [
      "  0%|          | 0/5868 [00:00<?, ?it/s]"
     ]
    },
    {
     "name": "stdout",
     "output_type": "stream",
     "text": [
      "MORTEIN MOSQUITO REPELLENT CREAM 50GM 2<EOS>\n"
     ]
    },
    {
     "name": "stderr",
     "output_type": "stream",
     "text": [
      "Train Epoch - 48, Mini Batch - 5868, Train Accuracy - 90.53178688646382, Train Loss - 0.2817: 100%|██████████| 5868/5868 [1:16:53<00:00,  1.27it/s]\n",
      "Test Accuracy - 94.17249417249417, Test Loss - 0.2092: 100%|██████████| 1/1 [00:00<00:00, 23.58it/s]\n"
     ]
    },
    {
     "name": "stdout",
     "output_type": "stream",
     "text": [
      "DETTOL COOL SOAP 75GM RECKITT BENCKISER<EOS>\n",
      "ALL OUT ULTRA MOSQUITO REPELLENT REFILL 7.5ML 2<EOS>\n"
     ]
    },
    {
     "name": "stderr",
     "output_type": "stream",
     "text": [
      "  0%|          | 0/5868 [00:00<?, ?it/s]"
     ]
    },
    {
     "name": "stdout",
     "output_type": "stream",
     "text": [
      "MORTEIN POWER REFILL 1 LTR 1 LTR LIQUID SURFACE SANITIZERS 2986545 SANITIZATION BOTTLE HOME CARE HYGIENE ESSENTIALS SANITIZER WIPES RECKITT<EOS>\n"
     ]
    },
    {
     "name": "stderr",
     "output_type": "stream",
     "text": [
      "Train Epoch - 49, Mini Batch - 5868, Train Accuracy - 90.54262235687646, Train Loss - 0.2476: 100%|██████████| 5868/5868 [1:17:27<00:00,  1.26it/s]\n",
      "Test Accuracy - 94.4055944055944, Test Loss - 0.2134: 100%|██████████| 1/1 [00:00<00:00, 27.37it/s]\n"
     ]
    },
    {
     "name": "stdout",
     "output_type": "stream",
     "text": [
      "DETTOL COOL SOAP 75GM RECKITT BENCKISER<EOS>\n",
      "ALL OUT ULTRA MOSQUITO REPELLENT REPELLENT SPRAY 100ML<EOS>\n"
     ]
    },
    {
     "name": "stderr",
     "output_type": "stream",
     "text": [
      "  0%|          | 0/5868 [00:00<?, ?it/s]"
     ]
    },
    {
     "name": "stdout",
     "output_type": "stream",
     "text": [
      "MORTEIN POWER REFILL 1 LIQUID 300ML 2<EOS>\n"
     ]
    },
    {
     "name": "stderr",
     "output_type": "stream",
     "text": [
      "Train Epoch - 50, Mini Batch - 5868, Train Accuracy - 90.55272870127601, Train Loss - 0.2651: 100%|██████████| 5868/5868 [1:17:54<00:00,  1.26it/s]\n",
      "Test Accuracy - 94.17249417249417, Test Loss - 0.2006: 100%|██████████| 1/1 [00:00<00:00, 18.74it/s]\n"
     ]
    },
    {
     "name": "stdout",
     "output_type": "stream",
     "text": [
      "DETTOL COOL LIQUID 200ML RECKITT BENCKISER<EOS>\n",
      "ALL OUT ULTRA MOSQUITO REPELLENT SPRAY 100 ML<EOS>\n"
     ]
    },
    {
     "name": "stderr",
     "output_type": "stream",
     "text": [
      "  0%|          | 0/5868 [00:00<?, ?it/s]"
     ]
    },
    {
     "name": "stdout",
     "output_type": "stream",
     "text": [
      "MORTEIN MOSQUITO REPELLENT CREAM 50GM 2<EOS>\n"
     ]
    },
    {
     "name": "stderr",
     "output_type": "stream",
     "text": [
      "Train Epoch - 51, Mini Batch - 5868, Train Accuracy - 90.56440717691842, Train Loss - 0.2851: 100%|██████████| 5868/5868 [1:15:51<00:00,  1.29it/s]\n",
      "Test Accuracy - 94.4055944055944, Test Loss - 0.187: 100%|██████████| 1/1 [00:00<00:00, 20.85it/s]\n"
     ]
    },
    {
     "name": "stdout",
     "output_type": "stream",
     "text": [
      "DETTOL COOL SOAP 75GM RECKITT BENCKISER<EOS>\n",
      "ALL OUT ULTRA MOSQUITO REPELLENT REPELLENT SPRAY 100ML<EOS>\n"
     ]
    },
    {
     "name": "stderr",
     "output_type": "stream",
     "text": [
      "  0%|          | 0/5868 [00:00<?, ?it/s]"
     ]
    },
    {
     "name": "stdout",
     "output_type": "stream",
     "text": [
      "MORTEIN REFILL PACK 1 LIQUID 450ML RECKITT BENCKISER<EOS>\n"
     ]
    },
    {
     "name": "stderr",
     "output_type": "stream",
     "text": [
      "Train Epoch - 52, Mini Batch - 5868, Train Accuracy - 90.57364933505228, Train Loss - 0.2815: 100%|██████████| 5868/5868 [1:15:46<00:00,  1.29it/s]\n",
      "Test Accuracy - 94.17249417249417, Test Loss - 0.1991: 100%|██████████| 1/1 [00:00<00:00, 25.21it/s]\n"
     ]
    },
    {
     "name": "stdout",
     "output_type": "stream",
     "text": [
      "DETTOL COOL SOAP 75GM RECKITT BENCKISER<EOS>\n",
      "ALL OUT ULTRA MOSQUITO REPELLENT REPELLENT SPRAY 100ML<EOS>\n"
     ]
    },
    {
     "name": "stderr",
     "output_type": "stream",
     "text": [
      "  0%|          | 0/5868 [00:00<?, ?it/s]"
     ]
    },
    {
     "name": "stdout",
     "output_type": "stream",
     "text": [
      "MORTEIN POWER REFILL 1 KG SURFACE SANITIZERS 2986545 SANITIZATION BOTTLE HOME CARE HYGIENE ESSENTIALS SANITIZER WIPES MOREPEN LABORATORIES<EOS>\n"
     ]
    },
    {
     "name": "stderr",
     "output_type": "stream",
     "text": [
      "Train Epoch - 53, Mini Batch - 5868, Train Accuracy - 90.58458448092809, Train Loss - 0.278: 100%|██████████| 5868/5868 [1:15:46<00:00,  1.29it/s] \n",
      "Test Accuracy - 94.63869463869464, Test Loss - 0.2035: 100%|██████████| 1/1 [00:00<00:00, 34.54it/s]\n"
     ]
    },
    {
     "name": "stdout",
     "output_type": "stream",
     "text": [
      "DETTOL COOL SOAP 75GM RECKITT BENCKISER<EOS>\n",
      "ALL OUT ULTRA MOSQUITO REPELLENT REFILL 7.5ML 2<EOS>\n"
     ]
    },
    {
     "name": "stderr",
     "output_type": "stream",
     "text": [
      "  0%|          | 0/5868 [00:00<?, ?it/s]"
     ]
    },
    {
     "name": "stdout",
     "output_type": "stream",
     "text": [
      "MORTEIN MOSQUITO REPELLENT CREAM 50GM 2<EOS>\n"
     ]
    },
    {
     "name": "stderr",
     "output_type": "stream",
     "text": [
      "Train Epoch - 54, Mini Batch - 5868, Train Accuracy - 90.59383511147632, Train Loss - 0.2516: 100%|██████████| 5868/5868 [1:16:02<00:00,  1.29it/s]\n",
      "Test Accuracy - 94.4055944055944, Test Loss - 0.1945: 100%|██████████| 1/1 [00:00<00:00, 20.24it/s]\n"
     ]
    },
    {
     "name": "stdout",
     "output_type": "stream",
     "text": [
      "DETTOL COOL LIQUID HANDWASH REFILL 175 ML RECKITT BENCKISER<EOS>\n",
      "ALL OUT ULTRA MOSQUITO REPELLENT REFILL 7.5ML 2<EOS>\n"
     ]
    },
    {
     "name": "stderr",
     "output_type": "stream",
     "text": [
      "  0%|          | 0/5868 [00:00<?, ?it/s]"
     ]
    },
    {
     "name": "stdout",
     "output_type": "stream",
     "text": [
      "MORTEIN MOSQUITO REPELLENT COMBO 100 ML 2<EOS>\n"
     ]
    },
    {
     "name": "stderr",
     "output_type": "stream",
     "text": [
      "Train Epoch - 55, Mini Batch - 5868, Train Accuracy - 90.60417569321432, Train Loss - 0.2695: 100%|██████████| 5868/5868 [1:16:24<00:00,  1.28it/s]\n",
      "Test Accuracy - 94.63869463869464, Test Loss - 0.1785: 100%|██████████| 1/1 [00:00<00:00, 23.15it/s]\n"
     ]
    },
    {
     "name": "stdout",
     "output_type": "stream",
     "text": [
      "DETTOL COOL SOAP 75GM RECKITT BENCKISER<EOS>\n",
      "ALL OUT ULTRA MOSQUITO REPELLENT REFILL 7.5ML 2<EOS>\n"
     ]
    },
    {
     "name": "stderr",
     "output_type": "stream",
     "text": [
      "  0%|          | 0/5868 [00:00<?, ?it/s]"
     ]
    },
    {
     "name": "stdout",
     "output_type": "stream",
     "text": [
      "MORTEIN POWER REFILL 1 KG SURFACE SANITIZERS 2986545 SANITIZATION BOTTLE HOME CARE HYGIENE ESSENTIALS SANITIZER WIPES APPLICABLE RECKITT<EOS>\n"
     ]
    },
    {
     "name": "stderr",
     "output_type": "stream",
     "text": [
      "Train Epoch - 56, Mini Batch - 5868, Train Accuracy - 90.6143807163224, Train Loss - 0.2728: 100%|██████████| 5868/5868 [1:16:13<00:00,  1.28it/s] \n",
      "Test Accuracy - 94.4055944055944, Test Loss - 0.1909: 100%|██████████| 1/1 [00:00<00:00, 28.09it/s]\n"
     ]
    },
    {
     "name": "stdout",
     "output_type": "stream",
     "text": [
      "DETTOL COOL LIQUID HANDWASH REFILL 175 ML RECKITT BENCKISER<EOS>\n",
      "ALL OUT ULTRA MOSQUITO REPELLENT REFILL 7.5ML 2<EOS>\n"
     ]
    },
    {
     "name": "stderr",
     "output_type": "stream",
     "text": [
      "  0%|          | 0/5868 [00:00<?, ?it/s]"
     ]
    },
    {
     "name": "stdout",
     "output_type": "stream",
     "text": [
      "MORTEIN MOSQUITO REPELLENT CREAM 50GM 2<EOS>\n"
     ]
    },
    {
     "name": "stderr",
     "output_type": "stream",
     "text": [
      "Train Epoch - 57, Mini Batch - 5868, Train Accuracy - 90.6227708984348, Train Loss - 0.2596: 100%|██████████| 5868/5868 [1:16:52<00:00,  1.27it/s] \n",
      "Test Accuracy - 94.4055944055944, Test Loss - 0.1836: 100%|██████████| 1/1 [00:00<00:00, 25.81it/s]\n"
     ]
    },
    {
     "name": "stdout",
     "output_type": "stream",
     "text": [
      "DETTOL COOL LIQUID HANDWASH REFILL 175 ML RECKITT BENCKISER<EOS>\n",
      "ALL OUT ULTRA MOSQUITO REPELLENT REFILL 7.5ML 2<EOS>\n"
     ]
    },
    {
     "name": "stderr",
     "output_type": "stream",
     "text": [
      "  0%|          | 0/5868 [00:00<?, ?it/s]"
     ]
    },
    {
     "name": "stdout",
     "output_type": "stream",
     "text": [
      "MORTEIN REFILL PACK 1 LIQUID 450ML RECKITT BENCKISER<EOS>\n"
     ]
    },
    {
     "name": "stderr",
     "output_type": "stream",
     "text": [
      "Train Epoch - 58, Mini Batch - 5868, Train Accuracy - 90.63207934075167, Train Loss - 0.3115: 100%|██████████| 5868/5868 [1:15:08<00:00,  1.30it/s]\n",
      "Test Accuracy - 94.63869463869464, Test Loss - 0.1955: 100%|██████████| 1/1 [00:00<00:00, 23.10it/s]\n"
     ]
    },
    {
     "name": "stdout",
     "output_type": "stream",
     "text": [
      "DETTOL COOL SOAP 75GM RECKITT BENCKISER<EOS>\n",
      "ALL OUT ULTRA MOSQUITO REPELLENT REPELLENT REFILL 7.5ML<EOS>\n"
     ]
    },
    {
     "name": "stderr",
     "output_type": "stream",
     "text": [
      "  0%|          | 0/5868 [00:00<?, ?it/s]"
     ]
    },
    {
     "name": "stdout",
     "output_type": "stream",
     "text": [
      "MORTEIN MOSQUITO REPELLENT CONDITIONER 100 ML 2<EOS>\n"
     ]
    },
    {
     "name": "stderr",
     "output_type": "stream",
     "text": [
      "Train Epoch - 59, Mini Batch - 5868, Train Accuracy - 90.6421266274393, Train Loss - 0.2617: 100%|██████████| 5868/5868 [1:15:47<00:00,  1.29it/s] \n",
      "Test Accuracy - 94.17249417249417, Test Loss - 0.194: 100%|██████████| 1/1 [00:00<00:00, 23.20it/s]\n"
     ]
    },
    {
     "name": "stdout",
     "output_type": "stream",
     "text": [
      "DETTOL COOL SOAP 75GM RECKITT BENCKISER<EOS>\n",
      "ALL OUT ULTRA MOSQUITO REPELLENT REFILL 1 LTR<EOS>\n"
     ]
    },
    {
     "name": "stderr",
     "output_type": "stream",
     "text": [
      "  0%|          | 0/5868 [00:00<?, ?it/s]"
     ]
    },
    {
     "name": "stdout",
     "output_type": "stream",
     "text": [
      "MORTEIN MOSQUITO REPELLENT CREAM 50GM 2<EOS>\n"
     ]
    },
    {
     "name": "stderr",
     "output_type": "stream",
     "text": [
      "Train Epoch - 60, Mini Batch - 5868, Train Accuracy - 90.64997258152277, Train Loss - 0.2633: 100%|██████████| 5868/5868 [1:18:18<00:00,  1.25it/s]\n",
      "Test Accuracy - 94.63869463869464, Test Loss - 0.1786: 100%|██████████| 1/1 [00:00<00:00, 17.15it/s]\n"
     ]
    },
    {
     "name": "stdout",
     "output_type": "stream",
     "text": [
      "DETTOL COOL SOAP 75GM RECKITT BENCKISER<EOS>\n",
      "ALL OUT ULTRA MOSQUITO REPELLENT REPELLENT REFILL 7.5ML<EOS>\n"
     ]
    },
    {
     "name": "stderr",
     "output_type": "stream",
     "text": [
      "  0%|          | 0/5868 [00:00<?, ?it/s]"
     ]
    },
    {
     "name": "stdout",
     "output_type": "stream",
     "text": [
      "MORTEIN MOSQUITO REPELLENT CREAM 50GM 2<EOS>\n"
     ]
    },
    {
     "name": "stderr",
     "output_type": "stream",
     "text": [
      "Train Epoch - 61, Mini Batch - 5868, Train Accuracy - 90.65757283558955, Train Loss - 0.2588: 100%|██████████| 5868/5868 [1:18:30<00:00,  1.25it/s]\n",
      "Test Accuracy - 94.87179487179486, Test Loss - 0.1706: 100%|██████████| 1/1 [00:00<00:00, 19.93it/s]\n"
     ]
    },
    {
     "name": "stdout",
     "output_type": "stream",
     "text": [
      "DETTOL COOL LIQUID 200ML RECKITT BENCKISER<EOS>\n",
      "ALL OUT ULTRA MOSQUITO REPELLENT REFILL 1 LTR<EOS>\n"
     ]
    },
    {
     "name": "stderr",
     "output_type": "stream",
     "text": [
      "  0%|          | 0/5868 [00:00<?, ?it/s]"
     ]
    },
    {
     "name": "stdout",
     "output_type": "stream",
     "text": [
      "MORTEIN REFILL PACK 1 LTR RECKITT BENCKISER<EOS>\n"
     ]
    },
    {
     "name": "stderr",
     "output_type": "stream",
     "text": [
      "Train Epoch - 62, Mini Batch - 5868, Train Accuracy - 90.66656032291502, Train Loss - 0.2367: 100%|██████████| 5868/5868 [1:16:35<00:00,  1.28it/s]\n",
      "Test Accuracy - 94.4055944055944, Test Loss - 0.1755: 100%|██████████| 1/1 [00:00<00:00, 39.13it/s]\n"
     ]
    },
    {
     "name": "stdout",
     "output_type": "stream",
     "text": [
      "DETTOL COOL SOAP 75GM RECKITT BENCKISER<EOS>\n",
      "ALL OUT ULTRA MOSQUITO REPELLENT REFILL 7.5ML 2<EOS>\n"
     ]
    },
    {
     "name": "stderr",
     "output_type": "stream",
     "text": [
      "  0%|          | 0/5868 [00:00<?, ?it/s]"
     ]
    },
    {
     "name": "stdout",
     "output_type": "stream",
     "text": [
      "MORTEIN REFILL PACK 1 LTR RECKITT BENCKISER<EOS>\n"
     ]
    },
    {
     "name": "stderr",
     "output_type": "stream",
     "text": [
      "Train Epoch - 63, Mini Batch - 5868, Train Accuracy - 90.6748789878826, Train Loss - 0.2562: 100%|██████████| 5868/5868 [1:18:18<00:00,  1.25it/s] \n",
      "Test Accuracy - 94.4055944055944, Test Loss - 0.1744: 100%|██████████| 1/1 [00:00<00:00, 31.92it/s]\n"
     ]
    },
    {
     "name": "stdout",
     "output_type": "stream",
     "text": [
      "DETTOL COOL LIQUID 200ML RECKITT BENCKISER<EOS>\n",
      "ALL OUT ULTRA MOSQUITO REPELLENT REFILL 7.5ML 2<EOS>\n"
     ]
    },
    {
     "name": "stderr",
     "output_type": "stream",
     "text": [
      "  0%|          | 0/5868 [00:00<?, ?it/s]"
     ]
    },
    {
     "name": "stdout",
     "output_type": "stream",
     "text": [
      "MORTEIN MOSQUITO REPELLENT CREAM 50GM 2<EOS>\n"
     ]
    },
    {
     "name": "stderr",
     "output_type": "stream",
     "text": [
      "Train Epoch - 64, Mini Batch - 5868, Train Accuracy - 90.68290884319563, Train Loss - 0.2965: 100%|██████████| 5868/5868 [1:16:16<00:00,  1.28it/s]\n",
      "Test Accuracy - 94.4055944055944, Test Loss - 0.1804: 100%|██████████| 1/1 [00:00<00:00, 21.54it/s]\n"
     ]
    },
    {
     "name": "stdout",
     "output_type": "stream",
     "text": [
      "DETTOL COOL SOAP 75GM RECKITT BENCKISER<EOS>\n",
      "ALL OUT ULTRA MOSQUITO REPELLENT REPELLENT REFILL 7.5ML<EOS>\n"
     ]
    },
    {
     "name": "stderr",
     "output_type": "stream",
     "text": [
      "  0%|          | 0/5868 [00:00<?, ?it/s]"
     ]
    },
    {
     "name": "stdout",
     "output_type": "stream",
     "text": [
      "MORTEIN MOSQUITO REPELLENT CREAM 50GM 2<EOS>\n"
     ]
    },
    {
     "name": "stderr",
     "output_type": "stream",
     "text": [
      "Train Epoch - 65, Mini Batch - 5868, Train Accuracy - 90.69004112096282, Train Loss - 0.2462: 100%|██████████| 5868/5868 [1:18:20<00:00,  1.25it/s]\n",
      "Test Accuracy - 94.4055944055944, Test Loss - 0.1802: 100%|██████████| 1/1 [00:00<00:00, 22.59it/s]\n"
     ]
    },
    {
     "name": "stdout",
     "output_type": "stream",
     "text": [
      "DETTOL COOL LIQUID HANDWASH REFILL 175 ML RECKITT BENCKISER<EOS>\n",
      "ALL OUT ULTRA MOSQUITO REPELLENT REFILL 7.5ML 2<EOS>\n"
     ]
    },
    {
     "name": "stderr",
     "output_type": "stream",
     "text": [
      "  0%|          | 0/5868 [00:00<?, ?it/s]"
     ]
    },
    {
     "name": "stdout",
     "output_type": "stream",
     "text": [
      "MORTEIN REFILL PACK 1 LTR RECKITT BENCKISER<EOS>\n"
     ]
    },
    {
     "name": "stderr",
     "output_type": "stream",
     "text": [
      "Train Epoch - 66, Mini Batch - 5868, Train Accuracy - 90.69803608986375, Train Loss - 0.2495: 100%|██████████| 5868/5868 [1:16:32<00:00,  1.28it/s]\n",
      "Test Accuracy - 94.63869463869464, Test Loss - 0.1899: 100%|██████████| 1/1 [00:00<00:00, 33.93it/s]\n"
     ]
    },
    {
     "name": "stdout",
     "output_type": "stream",
     "text": [
      "DETTOL COOL SOAP 75GM RECKITT BENCKISER<EOS>\n",
      "ALL OUT ULTRA MOSQUITO REPELLENT REPELLENT REFILL 7.5ML<EOS>\n"
     ]
    },
    {
     "name": "stderr",
     "output_type": "stream",
     "text": [
      "  0%|          | 0/5868 [00:00<?, ?it/s]"
     ]
    },
    {
     "name": "stdout",
     "output_type": "stream",
     "text": [
      "MORTEIN MOSQUITO REPELLENT CREAM 50GM 2<EOS>\n"
     ]
    },
    {
     "name": "stderr",
     "output_type": "stream",
     "text": [
      "Train Epoch - 67, Mini Batch - 5868, Train Accuracy - 90.70434903532367, Train Loss - 0.2621: 100%|██████████| 5868/5868 [1:16:25<00:00,  1.28it/s]\n",
      "Test Accuracy - 94.63869463869464, Test Loss - 0.1848: 100%|██████████| 1/1 [00:00<00:00, 23.26it/s]\n"
     ]
    },
    {
     "name": "stdout",
     "output_type": "stream",
     "text": [
      "DETTOL COOL SOAP 75GM RECKITT BENCKISER<EOS>\n",
      "ALL OUT ULTRA MOSQUITO REPELLENT REPELLENT REFILL 7.5ML 2<EOS>\n"
     ]
    },
    {
     "name": "stderr",
     "output_type": "stream",
     "text": [
      "  0%|          | 0/5868 [00:00<?, ?it/s]"
     ]
    },
    {
     "name": "stdout",
     "output_type": "stream",
     "text": [
      "MORTEIN REFILL PACK 1 LTR RECKITT BENCKISER<EOS>\n"
     ]
    },
    {
     "name": "stderr",
     "output_type": "stream",
     "text": [
      "Train Epoch - 68, Mini Batch - 5868, Train Accuracy - 90.71287228417941, Train Loss - 0.2874: 100%|██████████| 5868/5868 [1:16:09<00:00,  1.28it/s]\n",
      "Test Accuracy - 94.4055944055944, Test Loss - 0.1941: 100%|██████████| 1/1 [00:00<00:00, 25.08it/s]\n"
     ]
    },
    {
     "name": "stdout",
     "output_type": "stream",
     "text": [
      "DETTOL COOL SOAP 75GM RECKITT BENCKISER<EOS>\n",
      "ALL OUT ULTRA MOSQUITO REPELLENT REPELLENT SPRAY 100ML<EOS>\n"
     ]
    },
    {
     "name": "stderr",
     "output_type": "stream",
     "text": [
      "  0%|          | 0/5868 [00:00<?, ?it/s]"
     ]
    },
    {
     "name": "stdout",
     "output_type": "stream",
     "text": [
      "MORTEIN MOSQUITO REPELLENT CREAM 50GM 2<EOS>\n"
     ]
    },
    {
     "name": "stderr",
     "output_type": "stream",
     "text": [
      "Train Epoch - 69, Mini Batch - 5868, Train Accuracy - 90.72097814203312, Train Loss - 0.2443: 100%|██████████| 5868/5868 [1:16:07<00:00,  1.28it/s]\n",
      "Test Accuracy - 94.4055944055944, Test Loss - 0.1942: 100%|██████████| 1/1 [00:00<00:00, 26.78it/s]\n"
     ]
    },
    {
     "name": "stdout",
     "output_type": "stream",
     "text": [
      "DETTOL COOL SOAP 75GM RECKITT BENCKISER<EOS>\n",
      "ALL OUT ULTRA MOSQUITO REPELLENT REPELLENT SPRAY 100ML<EOS>\n"
     ]
    },
    {
     "name": "stderr",
     "output_type": "stream",
     "text": [
      "  0%|          | 0/5868 [00:00<?, ?it/s]"
     ]
    },
    {
     "name": "stdout",
     "output_type": "stream",
     "text": [
      "MORTEIN MOSQUITO REPELLENT CREAM 50GM 2<EOS>\n"
     ]
    },
    {
     "name": "stderr",
     "output_type": "stream",
     "text": [
      "Train Epoch - 70, Mini Batch - 5868, Train Accuracy - 90.72704588585364, Train Loss - 0.2705: 100%|██████████| 5868/5868 [1:16:22<00:00,  1.28it/s]\n",
      "Test Accuracy - 94.63869463869464, Test Loss - 0.186: 100%|██████████| 1/1 [00:00<00:00, 21.46it/s]\n"
     ]
    },
    {
     "name": "stdout",
     "output_type": "stream",
     "text": [
      "DETTOL COOL LIQUID 1LTR RECKITT BENCKISER<EOS>\n",
      "ALL OUT ULTRA MOSQUITO REPELLENT REPELLENT REFILL 7.5ML<EOS>\n"
     ]
    },
    {
     "name": "stderr",
     "output_type": "stream",
     "text": [
      "  0%|          | 0/5868 [00:00<?, ?it/s]"
     ]
    },
    {
     "name": "stdout",
     "output_type": "stream",
     "text": [
      "MORTEIN POWER REFILL 1 LTR 1 LTR LIQUID SURFACE SANITIZERS 2986545 SANITIZATION BOTTLE HOME CARE HYGIENE ESSENTIALS SANITIZER WIPES MOREPEN LABORATORIES<EOS>\n"
     ]
    },
    {
     "name": "stderr",
     "output_type": "stream",
     "text": [
      "Train Epoch - 71, Mini Batch - 5868, Train Accuracy - 90.73580760825502, Train Loss - 0.2693: 100%|██████████| 5868/5868 [1:16:41<00:00,  1.28it/s]\n",
      "Test Accuracy - 94.4055944055944, Test Loss - 0.1839: 100%|██████████| 1/1 [00:00<00:00, 26.01it/s]\n"
     ]
    },
    {
     "name": "stdout",
     "output_type": "stream",
     "text": [
      "DETTOL COOL SOAP 75GM RECKITT BENCKISER<EOS>\n",
      "ALL OUT ULTRA MOSQUITO REPELLENT REFILL 7.5ML 2<EOS>\n"
     ]
    },
    {
     "name": "stderr",
     "output_type": "stream",
     "text": [
      "  0%|          | 0/5868 [00:00<?, ?it/s]"
     ]
    },
    {
     "name": "stdout",
     "output_type": "stream",
     "text": [
      "MORTEIN MOSQUITO REPELLENT CREAM 50GM 2<EOS>\n"
     ]
    },
    {
     "name": "stderr",
     "output_type": "stream",
     "text": [
      "Train Epoch - 72, Mini Batch - 5868, Train Accuracy - 90.7404263200297, Train Loss - 0.2934: 100%|██████████| 5868/5868 [1:16:04<00:00,  1.29it/s] \n",
      "Test Accuracy - 94.4055944055944, Test Loss - 0.1843: 100%|██████████| 1/1 [00:00<00:00, 29.69it/s]\n"
     ]
    },
    {
     "name": "stdout",
     "output_type": "stream",
     "text": [
      "DETTOL COOL SOAP 75GM RECKITT BENCKISER<EOS>\n",
      "ALL OUT ULTRA MOSQUITO REPELLENT REFILL 7.5ML 2<EOS>\n"
     ]
    },
    {
     "name": "stderr",
     "output_type": "stream",
     "text": [
      "  0%|          | 0/5868 [00:00<?, ?it/s]"
     ]
    },
    {
     "name": "stdout",
     "output_type": "stream",
     "text": [
      "MORTEIN POWER REFILL 1 KG SURFACE SANITIZERS 2986545 SANITIZATION BOTTLE HOME CARE HYGIENE ESSENTIALS SANITIZER WIPES MOREPEN LABORATORIES<EOS>\n"
     ]
    },
    {
     "name": "stderr",
     "output_type": "stream",
     "text": [
      "Train Epoch - 73, Mini Batch - 5868, Train Accuracy - 90.74827327086781, Train Loss - 0.2699: 100%|██████████| 5868/5868 [1:15:08<00:00,  1.30it/s]\n",
      "Test Accuracy - 94.4055944055944, Test Loss - 0.1825: 100%|██████████| 1/1 [00:00<00:00, 27.69it/s]\n"
     ]
    },
    {
     "name": "stdout",
     "output_type": "stream",
     "text": [
      "DETTOL COOL LIQUID HANDWASH REFILL 175 ML RECKITT BENCKISER<EOS>\n",
      "ALL OUT ULTRA MOSQUITO REPELLENT REPELLENT REFILL 7.5ML 2<EOS>\n"
     ]
    },
    {
     "name": "stderr",
     "output_type": "stream",
     "text": [
      "  0%|          | 0/5868 [00:00<?, ?it/s]"
     ]
    },
    {
     "name": "stdout",
     "output_type": "stream",
     "text": [
      "MORTEIN POWER REFILL 1 LIQUID 450ML RECKITT BENCKISER<EOS>\n"
     ]
    },
    {
     "name": "stderr",
     "output_type": "stream",
     "text": [
      "Train Epoch - 74, Mini Batch - 5868, Train Accuracy - 90.7556661999712, Train Loss - 0.2564: 100%|██████████| 5868/5868 [1:14:55<00:00,  1.31it/s] \n",
      "Test Accuracy - 94.87179487179486, Test Loss - 0.1857: 100%|██████████| 1/1 [00:00<00:00, 25.14it/s]\n"
     ]
    },
    {
     "name": "stdout",
     "output_type": "stream",
     "text": [
      "DETTOL COOL SOAP 75GM RECKITT BENCKISER<EOS>\n",
      "ALL OUT ULTRA MOSQUITO REPELLENT REPELLENT REFILL 7.5ML 2<EOS>\n"
     ]
    },
    {
     "name": "stderr",
     "output_type": "stream",
     "text": [
      "  0%|          | 0/5868 [00:00<?, ?it/s]"
     ]
    },
    {
     "name": "stdout",
     "output_type": "stream",
     "text": [
      "MORTEIN REFILL PACK 2 100 GM SPRAY 4<EOS>\n"
     ]
    },
    {
     "name": "stderr",
     "output_type": "stream",
     "text": [
      "Train Epoch - 75, Mini Batch - 5868, Train Accuracy - 90.76150718211301, Train Loss - 0.2717: 100%|██████████| 5868/5868 [1:14:54<00:00,  1.31it/s]\n",
      "Test Accuracy - 94.63869463869464, Test Loss - 0.1924: 100%|██████████| 1/1 [00:00<00:00, 22.28it/s]\n"
     ]
    },
    {
     "name": "stdout",
     "output_type": "stream",
     "text": [
      "DETTOL COOL SOAP 75GM RECKITT BENCKISER<EOS>\n",
      "ALL OUT ULTRA MOSQUITO REPELLENT REPELLENT REFILL 7.5ML 2<EOS>\n"
     ]
    },
    {
     "name": "stderr",
     "output_type": "stream",
     "text": [
      "  0%|          | 0/5868 [00:00<?, ?it/s]"
     ]
    },
    {
     "name": "stdout",
     "output_type": "stream",
     "text": [
      "MORTEIN REFILL PACK 10 COUNT BABY BODY SPRAY 484794 CARE PACKET MOTHER HYGIENE SANITIZER WIPES RECKITT<EOS>\n"
     ]
    },
    {
     "name": "stderr",
     "output_type": "stream",
     "text": [
      "Train Epoch - 76, Mini Batch - 5868, Train Accuracy - 90.76830405194663, Train Loss - 0.3084: 100%|██████████| 5868/5868 [1:17:08<00:00,  1.27it/s]\n",
      "Test Accuracy - 94.87179487179486, Test Loss - 0.1697: 100%|██████████| 1/1 [00:00<00:00, 29.20it/s]\n"
     ]
    },
    {
     "name": "stdout",
     "output_type": "stream",
     "text": [
      "DETTOL COOL SOAP 75GM RECKITT BENCKISER<EOS>\n",
      "ALL OUT ULTRA MOSQUITO REPELLENT REPELLENT REFILL 7.5ML 2<EOS>\n"
     ]
    },
    {
     "name": "stderr",
     "output_type": "stream",
     "text": [
      "  0%|          | 0/5868 [00:00<?, ?it/s]"
     ]
    },
    {
     "name": "stdout",
     "output_type": "stream",
     "text": [
      "MORTEIN REFILL SPRAY 100ML 2<EOS>\n"
     ]
    },
    {
     "name": "stderr",
     "output_type": "stream",
     "text": [
      "Train Epoch - 77, Mini Batch - 5868, Train Accuracy - 90.77397932363091, Train Loss - 0.2452: 100%|██████████| 5868/5868 [1:15:17<00:00,  1.30it/s]\n",
      "Test Accuracy - 94.4055944055944, Test Loss - 0.1858: 100%|██████████| 1/1 [00:00<00:00, 24.25it/s]\n"
     ]
    },
    {
     "name": "stdout",
     "output_type": "stream",
     "text": [
      "DETTOL COOL SOAP 75GM RECKITT BENCKISER<EOS>\n",
      "ALL OUT ULTRA MOSQUITO REPELLENT REPELLENT REFILL 7.5ML 2<EOS>\n"
     ]
    },
    {
     "name": "stderr",
     "output_type": "stream",
     "text": [
      "  0%|          | 0/5868 [00:00<?, ?it/s]"
     ]
    },
    {
     "name": "stdout",
     "output_type": "stream",
     "text": [
      "MORTEIN REFILL 1 LIQUID DETERGENT 1 KG RECKITT BENCKISER<EOS>\n"
     ]
    },
    {
     "name": "stderr",
     "output_type": "stream",
     "text": [
      "Train Epoch - 78, Mini Batch - 5868, Train Accuracy - 90.78065434021082, Train Loss - 0.2772: 100%|██████████| 5868/5868 [1:16:02<00:00,  1.29it/s]\n",
      "Test Accuracy - 94.4055944055944, Test Loss - 0.1913: 100%|██████████| 1/1 [00:00<00:00, 21.10it/s]\n"
     ]
    },
    {
     "name": "stdout",
     "output_type": "stream",
     "text": [
      "DETTOL COOL LIQUID 1LTR RECKITT BENCKISER<EOS>\n",
      "ALL OUT ULTRA MOSQUITO REPELLENT REPELLENT REFILL 7.5ML<EOS>\n"
     ]
    },
    {
     "name": "stderr",
     "output_type": "stream",
     "text": [
      "  0%|          | 0/5868 [00:00<?, ?it/s]"
     ]
    },
    {
     "name": "stdout",
     "output_type": "stream",
     "text": [
      "MORTEIN REFILL 1 LIQUID DETERGENT 1 KG RECKITT BENCKISER<EOS>\n"
     ]
    },
    {
     "name": "stderr",
     "output_type": "stream",
     "text": [
      "Train Epoch - 79, Mini Batch - 5868, Train Accuracy - 90.78819802845223, Train Loss - 0.28: 100%|██████████| 5868/5868 [1:16:28<00:00,  1.28it/s]  \n",
      "Test Accuracy - 94.17249417249417, Test Loss - 0.1884: 100%|██████████| 1/1 [00:00<00:00, 16.21it/s]\n"
     ]
    },
    {
     "name": "stdout",
     "output_type": "stream",
     "text": [
      "DETTOL COOL SOAP 75GM RECKITT BENCKISER<EOS>\n",
      "ALL OUT ULTRA MOSQUITO REPELLENT REPELLENT REFILL 7.5ML 2<EOS>\n"
     ]
    },
    {
     "name": "stderr",
     "output_type": "stream",
     "text": [
      "  0%|          | 0/5868 [00:00<?, ?it/s]"
     ]
    },
    {
     "name": "stdout",
     "output_type": "stream",
     "text": [
      "MORTEIN POWER REFILL 1 KG SURFACE SANITIZERS 2986545 SANITIZATION BOTTLE HOME CARE HYGIENE ESSENTIALS SANITIZER WIPES MOREPEN LABORATORIES<EOS>\n"
     ]
    },
    {
     "name": "stderr",
     "output_type": "stream",
     "text": [
      "Train Epoch - 80, Mini Batch - 5868, Train Accuracy - 90.79002707320141, Train Loss - 0.2612: 100%|██████████| 5868/5868 [1:16:44<00:00,  1.27it/s]\n",
      "Test Accuracy - 94.63869463869464, Test Loss - 0.1741: 100%|██████████| 1/1 [00:00<00:00, 22.32it/s]\n"
     ]
    },
    {
     "name": "stdout",
     "output_type": "stream",
     "text": [
      "DETTOL COOL SOAP 75GM RECKITT BENCKISER<EOS>\n",
      "ALL OUT ULTRA MOSQUITO REPELLENT REPELLENT SPRAY 100ML<EOS>\n"
     ]
    },
    {
     "name": "stderr",
     "output_type": "stream",
     "text": [
      "  0%|          | 0/5868 [00:00<?, ?it/s]"
     ]
    },
    {
     "name": "stdout",
     "output_type": "stream",
     "text": [
      "MORTEIN REFILL 1 LIQUID DETERGENT 1 KG RECKITT BENCKISER<EOS>\n"
     ]
    },
    {
     "name": "stderr",
     "output_type": "stream",
     "text": [
      "Train Epoch - 81, Mini Batch - 5868, Train Accuracy - 90.79744467198194, Train Loss - 0.253: 100%|██████████| 5868/5868 [1:17:19<00:00,  1.26it/s] \n",
      "Test Accuracy - 95.1048951048951, Test Loss - 0.1755: 100%|██████████| 1/1 [00:00<00:00, 20.91it/s]\n"
     ]
    },
    {
     "name": "stdout",
     "output_type": "stream",
     "text": [
      "DETTOL COOL LIQUID HANDWASH REFILL 175 ML RECKITT BENCKISER<EOS>\n",
      "ALL OUT ULTRA MOSQUITO REPELLENT REPELLENT REFILL 7.5ML 2<EOS>\n"
     ]
    },
    {
     "name": "stderr",
     "output_type": "stream",
     "text": [
      "  0%|          | 0/5868 [00:00<?, ?it/s]"
     ]
    },
    {
     "name": "stdout",
     "output_type": "stream",
     "text": [
      "MORTEIN REFILL PACK 1 LTR RECKITT BENCKISER<EOS>\n"
     ]
    },
    {
     "name": "stderr",
     "output_type": "stream",
     "text": [
      "Train Epoch - 82, Mini Batch - 5868, Train Accuracy - 90.80364697767773, Train Loss - 0.2688: 100%|██████████| 5868/5868 [1:18:45<00:00,  1.24it/s]\n",
      "Test Accuracy - 94.87179487179486, Test Loss - 0.1757: 100%|██████████| 1/1 [00:00<00:00, 22.39it/s]\n"
     ]
    },
    {
     "name": "stdout",
     "output_type": "stream",
     "text": [
      "DETTOL COOL LIQUID 1LTR RECKITT BENCKISER<EOS>\n",
      "ALL OUT ULTRA MOSQUITO REPELLENT REPELLENT REFILL 7.5ML 2<EOS>\n"
     ]
    },
    {
     "name": "stderr",
     "output_type": "stream",
     "text": [
      "  0%|          | 0/5868 [00:00<?, ?it/s]"
     ]
    },
    {
     "name": "stdout",
     "output_type": "stream",
     "text": [
      "MORTEIN REFILL 1 LIQUID DETERGENT 1 KG RECKITT BENCKISER<EOS>\n"
     ]
    },
    {
     "name": "stderr",
     "output_type": "stream",
     "text": [
      "Train Epoch - 83, Mini Batch - 5868, Train Accuracy - 90.80924724357598, Train Loss - 0.2869: 100%|██████████| 5868/5868 [1:16:20<00:00,  1.28it/s]\n",
      "Test Accuracy - 94.63869463869464, Test Loss - 0.1795: 100%|██████████| 1/1 [00:00<00:00, 30.98it/s]\n"
     ]
    },
    {
     "name": "stdout",
     "output_type": "stream",
     "text": [
      "DETTOL COOL SOAP 75GM RECKITT BENCKISER<EOS>\n",
      "ALL OUT ULTRA MOSQUITO REPELLENT REPELLENT REFILL 7.5ML 2<EOS>\n"
     ]
    },
    {
     "name": "stderr",
     "output_type": "stream",
     "text": [
      "  0%|          | 0/5868 [00:00<?, ?it/s]"
     ]
    },
    {
     "name": "stdout",
     "output_type": "stream",
     "text": [
      "MORTEIN REFILL 1 LIQUID DETERGENT 1 KG RECKITT BENCKISER<EOS>\n"
     ]
    },
    {
     "name": "stderr",
     "output_type": "stream",
     "text": [
      "Train Epoch - 84, Mini Batch - 5868, Train Accuracy - 90.81566908447942, Train Loss - 0.2477: 100%|██████████| 5868/5868 [1:15:59<00:00,  1.29it/s]\n",
      "Test Accuracy - 94.63869463869464, Test Loss - 0.1803: 100%|██████████| 1/1 [00:00<00:00, 26.90it/s]\n"
     ]
    },
    {
     "name": "stdout",
     "output_type": "stream",
     "text": [
      "DETTOL COOL LIQUID HANDWASH REFILL 175 ML RECKITT BENCKISER<EOS>\n",
      "ALL OUT ULTRA MOSQUITO REPELLENT REPELLENT REFILL 7.5ML 2<EOS>\n"
     ]
    },
    {
     "name": "stderr",
     "output_type": "stream",
     "text": [
      "  0%|          | 0/5868 [00:00<?, ?it/s]"
     ]
    },
    {
     "name": "stdout",
     "output_type": "stream",
     "text": [
      "MORTEIN MOSQUITO REPELLENT CREAM 50GM 2<EOS>\n"
     ]
    },
    {
     "name": "stderr",
     "output_type": "stream",
     "text": [
      "Train Epoch - 85, Mini Batch - 5868, Train Accuracy - 90.82045400508893, Train Loss - 0.2561: 100%|██████████| 5868/5868 [1:15:47<00:00,  1.29it/s]\n",
      "Test Accuracy - 94.63869463869464, Test Loss - 0.175: 100%|██████████| 1/1 [00:00<00:00, 28.12it/s]\n"
     ]
    },
    {
     "name": "stdout",
     "output_type": "stream",
     "text": [
      "DETTOL COOL SOAP 75GM RECKITT BENCKISER<EOS>\n",
      "ALL OUT ULTRA MOSQUITO REPELLENT REPELLENT REFILL 7.5ML 2<EOS>\n"
     ]
    },
    {
     "name": "stderr",
     "output_type": "stream",
     "text": [
      "  0%|          | 0/5868 [00:00<?, ?it/s]"
     ]
    },
    {
     "name": "stdout",
     "output_type": "stream",
     "text": [
      "MORTEIN REFILL PACK 1 LTR RECKITT BENCKISER<EOS>\n"
     ]
    },
    {
     "name": "stderr",
     "output_type": "stream",
     "text": [
      "Train Epoch - 86, Mini Batch - 5868, Train Accuracy - 90.82633784767992, Train Loss - 0.2656: 100%|██████████| 5868/5868 [1:17:22<00:00,  1.26it/s]\n",
      "Test Accuracy - 94.63869463869464, Test Loss - 0.1782: 100%|██████████| 1/1 [00:00<00:00, 35.10it/s]\n"
     ]
    },
    {
     "name": "stdout",
     "output_type": "stream",
     "text": [
      "DETTOL COOL SOAP 75GM RECKITT BENCKISER<EOS>\n",
      "ALL OUT ULTRA MOSQUITO REPELLENT REPELLENT REFILL 7.5ML 2<EOS>\n"
     ]
    },
    {
     "name": "stderr",
     "output_type": "stream",
     "text": [
      "  0%|          | 0/5868 [00:00<?, ?it/s]"
     ]
    },
    {
     "name": "stdout",
     "output_type": "stream",
     "text": [
      "MORTEIN REFILL PACK 1 LTR RECKITT BENCKISER<EOS>\n"
     ]
    },
    {
     "name": "stderr",
     "output_type": "stream",
     "text": [
      "Train Epoch - 87, Mini Batch - 5868, Train Accuracy - 90.83134205430841, Train Loss - 0.2504: 100%|██████████| 5868/5868 [1:15:54<00:00,  1.29it/s]\n",
      "Test Accuracy - 94.4055944055944, Test Loss - 0.1667: 100%|██████████| 1/1 [00:00<00:00, 21.94it/s]\n"
     ]
    },
    {
     "name": "stdout",
     "output_type": "stream",
     "text": [
      "DETTOL COOL SOAP 75GM RECKITT BENCKISER<EOS>\n",
      "ALL OUT ULTRA MOSQUITO REPELLENT REPELLENT REFILL 7.5ML 2<EOS>\n"
     ]
    },
    {
     "name": "stderr",
     "output_type": "stream",
     "text": [
      "  0%|          | 0/5868 [00:00<?, ?it/s]"
     ]
    },
    {
     "name": "stdout",
     "output_type": "stream",
     "text": [
      "MORTEIN POWER REFILL 1 KG SURFACE SANITIZERS 2986545 SANITIZATION BOTTLE HOME CARE HYGIENE ESSENTIALS SANITIZER WIPES MOREPEN LABORATORIES<EOS>\n"
     ]
    },
    {
     "name": "stderr",
     "output_type": "stream",
     "text": [
      "Train Epoch - 88, Mini Batch - 5868, Train Accuracy - 90.83703526757606, Train Loss - 0.2897: 100%|██████████| 5868/5868 [1:15:35<00:00,  1.29it/s]\n",
      "Test Accuracy - 95.33799533799534, Test Loss - 0.1591: 100%|██████████| 1/1 [00:00<00:00, 24.45it/s]\n"
     ]
    },
    {
     "name": "stdout",
     "output_type": "stream",
     "text": [
      "DETTOL COOL LIQUID HANDWASH REFILL 175 ML RECKITT BENCKISER<EOS>\n",
      "ALL OUT ULTRA MOSQUITO REPELLENT REPELLENT REFILL 7.5ML 2<EOS>\n"
     ]
    },
    {
     "name": "stderr",
     "output_type": "stream",
     "text": [
      "  0%|          | 0/5868 [00:00<?, ?it/s]"
     ]
    },
    {
     "name": "stdout",
     "output_type": "stream",
     "text": [
      "MORTEIN REFILL 1 LIQUID 450ML RECKITT BENCKISER<EOS>\n"
     ]
    },
    {
     "name": "stderr",
     "output_type": "stream",
     "text": [
      "Train Epoch - 89, Mini Batch - 5868, Train Accuracy - 90.84350146406062, Train Loss - 0.2545: 100%|██████████| 5868/5868 [1:15:34<00:00,  1.29it/s]\n",
      "Test Accuracy - 94.63869463869464, Test Loss - 0.1744: 100%|██████████| 1/1 [00:00<00:00, 17.11it/s]\n"
     ]
    },
    {
     "name": "stdout",
     "output_type": "stream",
     "text": [
      "DETTOL COOL LIQUID HANDWASH REFILL 175 ML RECKITT BENCKISER<EOS>\n",
      "ALL OUT ULTRA MOSQUITO REPELLENT REPELLENT REFILL 7.5ML 2<EOS>\n"
     ]
    },
    {
     "name": "stderr",
     "output_type": "stream",
     "text": [
      "  0%|          | 0/5868 [00:00<?, ?it/s]"
     ]
    },
    {
     "name": "stdout",
     "output_type": "stream",
     "text": [
      "MORTEIN REFILL 1 LIQUID 450ML RECKITT BENCKISER<EOS>\n"
     ]
    },
    {
     "name": "stderr",
     "output_type": "stream",
     "text": [
      "Train Epoch - 90, Mini Batch - 5868, Train Accuracy - 90.84818546326366, Train Loss - 0.2604: 100%|██████████| 5868/5868 [1:15:33<00:00,  1.29it/s]\n",
      "Test Accuracy - 94.87179487179486, Test Loss - 0.1665: 100%|██████████| 1/1 [00:00<00:00, 27.93it/s]\n"
     ]
    },
    {
     "name": "stdout",
     "output_type": "stream",
     "text": [
      "DETTOL COOL LIQUID SOAP BOX 75 G RECKITT BENCKISER<EOS>\n",
      "ALL OUT ULTRA MOSQUITO REPELLENT REFILL 7.5ML 2<EOS>\n"
     ]
    },
    {
     "name": "stderr",
     "output_type": "stream",
     "text": [
      "  0%|          | 0/5868 [00:00<?, ?it/s]"
     ]
    },
    {
     "name": "stdout",
     "output_type": "stream",
     "text": [
      "MORTEIN MOSQUITO REPELLENT CREAM 50GM 2<EOS>\n"
     ]
    },
    {
     "name": "stderr",
     "output_type": "stream",
     "text": [
      "Train Epoch - 91, Mini Batch - 5868, Train Accuracy - 90.85066912661722, Train Loss - 0.2674: 100%|██████████| 5868/5868 [1:15:54<00:00,  1.29it/s]\n",
      "Test Accuracy - 94.63869463869464, Test Loss - 0.1749: 100%|██████████| 1/1 [00:00<00:00, 17.46it/s]\n"
     ]
    },
    {
     "name": "stdout",
     "output_type": "stream",
     "text": [
      "DETTOL COOL LIQUID SOAP 75 GM RECKITT BENCKISER<EOS>\n",
      "ALL OUT ULTRA MOSQUITO REPELLENT REPELLENT REFILL 7.5ML 2<EOS>\n"
     ]
    },
    {
     "name": "stderr",
     "output_type": "stream",
     "text": [
      "  0%|          | 0/5868 [00:00<?, ?it/s]"
     ]
    },
    {
     "name": "stdout",
     "output_type": "stream",
     "text": [
      "MORTEIN MOSQUITO REPELLENT CREAM 50GM 2<EOS>\n"
     ]
    },
    {
     "name": "stderr",
     "output_type": "stream",
     "text": [
      "Train Epoch - 92, Mini Batch - 5868, Train Accuracy - 90.85819636840723, Train Loss - 0.2548: 100%|██████████| 5868/5868 [1:16:06<00:00,  1.28it/s]\n",
      "Test Accuracy - 94.87179487179486, Test Loss - 0.1844: 100%|██████████| 1/1 [00:00<00:00, 26.79it/s]\n"
     ]
    },
    {
     "name": "stdout",
     "output_type": "stream",
     "text": [
      "DETTOL COOL LIQUID SOAP BOX 75 G RECKITT BENCKISER<EOS>\n",
      "ALL OUT ULTRA MOSQUITO REPELLENT REPELLENT REFILL 7.5ML 2<EOS>\n"
     ]
    },
    {
     "name": "stderr",
     "output_type": "stream",
     "text": [
      "  0%|          | 0/5868 [00:00<?, ?it/s]"
     ]
    },
    {
     "name": "stdout",
     "output_type": "stream",
     "text": [
      "MORTEIN MOSQUITO REPELLENT CREAM 50GM 2<EOS>\n"
     ]
    },
    {
     "name": "stderr",
     "output_type": "stream",
     "text": [
      "Train Epoch - 93, Mini Batch - 5868, Train Accuracy - 90.86272238200117, Train Loss - 0.268: 100%|██████████| 5868/5868 [1:15:24<00:00,  1.30it/s] \n",
      "Test Accuracy - 94.63869463869464, Test Loss - 0.1805: 100%|██████████| 1/1 [00:00<00:00, 20.54it/s]\n"
     ]
    },
    {
     "name": "stdout",
     "output_type": "stream",
     "text": [
      "DETTOL COOL LIQUID HANDWASH REFILL 175 ML RECKITT BENCKISER<EOS>\n",
      "ALL OUT ULTRA MOSQUITO REPELLENT REPELLENT REFILL 7.5ML 2<EOS>\n"
     ]
    },
    {
     "name": "stderr",
     "output_type": "stream",
     "text": [
      "  0%|          | 0/5868 [00:00<?, ?it/s]"
     ]
    },
    {
     "name": "stdout",
     "output_type": "stream",
     "text": [
      "MORTEIN REFILL PACK 1 LTR RECKITT BENCKISER<EOS>\n"
     ]
    },
    {
     "name": "stderr",
     "output_type": "stream",
     "text": [
      "Train Epoch - 94, Mini Batch - 5868, Train Accuracy - 90.86816092446041, Train Loss - 0.251: 100%|██████████| 5868/5868 [1:14:25<00:00,  1.31it/s] \n",
      "Test Accuracy - 94.4055944055944, Test Loss - 0.1785: 100%|██████████| 1/1 [00:00<00:00, 22.89it/s]\n"
     ]
    },
    {
     "name": "stdout",
     "output_type": "stream",
     "text": [
      "DETTOL COOL LIQUID HANDWASH REFILL 175 ML RECKITT BENCKISER<EOS>\n",
      "ALL OUT ULTRA MOSQUITO REPELLENT REFILL 7.5ML 2<EOS>\n"
     ]
    },
    {
     "name": "stderr",
     "output_type": "stream",
     "text": [
      "  0%|          | 0/5868 [00:00<?, ?it/s]"
     ]
    },
    {
     "name": "stdout",
     "output_type": "stream",
     "text": [
      "MORTEIN POWER REFILL 1 KG SURFACE CLEANER 2986545 SANITIZATION BOTTLE HOME CARE HYGIENE ESSENTIALS SANITIZER WIPES HYGIENE ESSENTIALS SANITIZER WIPES RECKITT<EOS>\n"
     ]
    },
    {
     "name": "stderr",
     "output_type": "stream",
     "text": [
      "Train Epoch - 95, Mini Batch - 5868, Train Accuracy - 90.87165753970845, Train Loss - 0.259: 100%|██████████| 5868/5868 [1:14:18<00:00,  1.32it/s] \n",
      "Test Accuracy - 94.4055944055944, Test Loss - 0.1797: 100%|██████████| 1/1 [00:00<00:00, 30.81it/s]\n"
     ]
    },
    {
     "name": "stdout",
     "output_type": "stream",
     "text": [
      "DETTOL COOL SOAP 75GM RECKITT BENCKISER<EOS>\n",
      "ALL OUT ULTRA MOSQUITO REPELLENT REPELLENT SPRAY 100ML<EOS>\n"
     ]
    },
    {
     "name": "stderr",
     "output_type": "stream",
     "text": [
      "  0%|          | 0/5868 [00:00<?, ?it/s]"
     ]
    },
    {
     "name": "stdout",
     "output_type": "stream",
     "text": [
      "MORTEIN REFILL PACK 2 100 GM MOREPEN LABORATORIES<EOS>\n"
     ]
    },
    {
     "name": "stderr",
     "output_type": "stream",
     "text": [
      "Train Epoch - 96, Mini Batch - 5868, Train Accuracy - 90.8766998722016, Train Loss - 0.2475: 100%|██████████| 5868/5868 [1:14:22<00:00,  1.31it/s] \n",
      "Test Accuracy - 94.87179487179486, Test Loss - 0.1849: 100%|██████████| 1/1 [00:00<00:00, 29.79it/s]\n"
     ]
    },
    {
     "name": "stdout",
     "output_type": "stream",
     "text": [
      "DETTOL COOL LIQUID HANDWASH REFILL 175 ML RECKITT BENCKISER<EOS>\n",
      "ALL OUT ULTRA MOSQUITO REPELLENT REFILL 7.5ML 2<EOS>\n"
     ]
    },
    {
     "name": "stderr",
     "output_type": "stream",
     "text": [
      "  0%|          | 0/5868 [00:00<?, ?it/s]"
     ]
    },
    {
     "name": "stdout",
     "output_type": "stream",
     "text": [
      "MORTEIN REFILL PACK 2 100 GM SURFACE SANITIZERS 2986545 SANITIZATION BOTTLE HOME CARE HYGIENE ESSENTIALS SANITIZER WIPES HYGIENE ESSENTIALS SANITIZER WIPES RECKITT<EOS>\n"
     ]
    },
    {
     "name": "stderr",
     "output_type": "stream",
     "text": [
      "Train Epoch - 97, Mini Batch - 5868, Train Accuracy - 90.88178830459648, Train Loss - 0.271: 100%|██████████| 5868/5868 [1:14:43<00:00,  1.31it/s] \n",
      "Test Accuracy - 95.1048951048951, Test Loss - 0.1762: 100%|██████████| 1/1 [00:00<00:00, 28.04it/s]\n"
     ]
    },
    {
     "name": "stdout",
     "output_type": "stream",
     "text": [
      "DETTOL COOL LIQUID SOAP BOX 75 G RECKITT BENCKISER<EOS>\n",
      "ALL OUT ULTRA MOSQUITO REPELLENT REFILL 7.5ML 2<EOS>\n"
     ]
    },
    {
     "name": "stderr",
     "output_type": "stream",
     "text": [
      "  0%|          | 0/5868 [00:00<?, ?it/s]"
     ]
    },
    {
     "name": "stdout",
     "output_type": "stream",
     "text": [
      "MORTEIN POWER REFILL 1 KG SURFACE SANITIZERS 2986545 SANITIZATION BOTTLE HOME CARE HYGIENE ESSENTIALS SANITIZER WIPES MOREPEN LABORATORIES<EOS>\n"
     ]
    },
    {
     "name": "stderr",
     "output_type": "stream",
     "text": [
      "Train Epoch - 98, Mini Batch - 5868, Train Accuracy - 90.8874396541696, Train Loss - 0.2552: 100%|██████████| 5868/5868 [1:15:11<00:00,  1.30it/s] \n",
      "Test Accuracy - 94.87179487179486, Test Loss - 0.1708: 100%|██████████| 1/1 [00:00<00:00, 28.40it/s]\n"
     ]
    },
    {
     "name": "stdout",
     "output_type": "stream",
     "text": [
      "DETTOL COOL LIQUID SOAP WRAP 125 G<EOS>\n",
      "ALL OUT ULTRA MOSQUITO REPELLENT REPELLENT SPRAY 100ML<EOS>\n"
     ]
    },
    {
     "name": "stderr",
     "output_type": "stream",
     "text": [
      "  0%|          | 0/5868 [00:00<?, ?it/s]"
     ]
    },
    {
     "name": "stdout",
     "output_type": "stream",
     "text": [
      "MORTEIN REFILL PACK 1 LIQUID 450ML RECKITT BENCKISER<EOS>\n"
     ]
    },
    {
     "name": "stderr",
     "output_type": "stream",
     "text": [
      "Train Epoch - 99, Mini Batch - 5868, Train Accuracy - 90.89092007215487, Train Loss - 0.2764: 100%|██████████| 5868/5868 [1:15:37<00:00,  1.29it/s]\n",
      "Test Accuracy - 94.63869463869464, Test Loss - 0.1784: 100%|██████████| 1/1 [00:00<00:00, 25.81it/s]\n"
     ]
    },
    {
     "name": "stdout",
     "output_type": "stream",
     "text": [
      "DETTOL COOL SOAP 75GM RECKITT BENCKISER<EOS>\n",
      "ALL OUT ULTRA MOSQUITO REPELLENT REPELLENT REFILL 7.5ML 2<EOS>\n"
     ]
    },
    {
     "name": "stderr",
     "output_type": "stream",
     "text": [
      "  0%|          | 0/5868 [00:00<?, ?it/s]"
     ]
    },
    {
     "name": "stdout",
     "output_type": "stream",
     "text": [
      "MORTEIN INSTANT REFILL PACKET 1<EOS>\n"
     ]
    },
    {
     "name": "stderr",
     "output_type": "stream",
     "text": [
      "Train Epoch - 100, Mini Batch - 5868, Train Accuracy - 90.89617919878042, Train Loss - 0.2613: 100%|██████████| 5868/5868 [1:15:45<00:00,  1.29it/s]\n",
      "Test Accuracy - 94.87179487179486, Test Loss - 0.1703: 100%|██████████| 1/1 [00:00<00:00, 25.26it/s]\n"
     ]
    },
    {
     "name": "stdout",
     "output_type": "stream",
     "text": [
      "DETTOL COOL LIQUID HANDWASH REFILL 175 ML RECKITT BENCKISER<EOS>\n",
      "ALL OUT ULTRA MOSQUITO REPELLENT REPELLENT REFILL 7.5ML 2<EOS>\n"
     ]
    },
    {
     "name": "stderr",
     "output_type": "stream",
     "text": [
      "  0%|          | 0/5868 [00:00<?, ?it/s]"
     ]
    },
    {
     "name": "stdout",
     "output_type": "stream",
     "text": [
      "MORTEIN REFILL PACK 2 100 GM SURFACE SANITIZERS 2986545 SANITIZATION BOTTLE HOME CARE HYGIENE ESSENTIALS SANITIZER WIPES HYGIENE ESSENTIALS SANITIZER WIPES RECKITT<EOS>\n"
     ]
    },
    {
     "name": "stderr",
     "output_type": "stream",
     "text": [
      "Train Epoch - 101, Mini Batch - 5868, Train Accuracy - 90.90028184084453, Train Loss - 0.296: 100%|██████████| 5868/5868 [1:15:41<00:00,  1.29it/s] \n",
      "Test Accuracy - 95.1048951048951, Test Loss - 0.1702: 100%|██████████| 1/1 [00:00<00:00, 29.22it/s]\n"
     ]
    },
    {
     "name": "stdout",
     "output_type": "stream",
     "text": [
      "DETTOL COOL SOAP 75GM RECKITT BENCKISER<EOS>\n",
      "ALL OUT ULTRA MOSQUITO REPELLENT REFILL 7.5ML 2<EOS>\n"
     ]
    },
    {
     "name": "stderr",
     "output_type": "stream",
     "text": [
      "  0%|          | 0/5868 [00:00<?, ?it/s]"
     ]
    },
    {
     "name": "stdout",
     "output_type": "stream",
     "text": [
      "MORTEIN REFILL PACK 2 100 GM SPRAY MORNING COMBO MACHINE RECKITT BENCKISER<EOS>\n"
     ]
    },
    {
     "name": "stderr",
     "output_type": "stream",
     "text": [
      "Train Epoch - 102, Mini Batch - 5868, Train Accuracy - 90.90586291921612, Train Loss - 0.2599: 100%|██████████| 5868/5868 [1:15:45<00:00,  1.29it/s]\n",
      "Test Accuracy - 95.1048951048951, Test Loss - 0.1717: 100%|██████████| 1/1 [00:00<00:00, 23.33it/s]\n"
     ]
    },
    {
     "name": "stdout",
     "output_type": "stream",
     "text": [
      "DETTOL COOL LIQUID HANDWASH REFILL 175 ML RECKITT BENCKISER<EOS>\n",
      "ALL OUT ULTRA MOSQUITO REPELLENT REPELLENT REFILL 7.5ML 2<EOS>\n"
     ]
    },
    {
     "name": "stderr",
     "output_type": "stream",
     "text": [
      "  0%|          | 0/5868 [00:00<?, ?it/s]"
     ]
    },
    {
     "name": "stdout",
     "output_type": "stream",
     "text": [
      "MORTEIN INSTANT REFILL PACKET 1<EOS>\n"
     ]
    },
    {
     "name": "stderr",
     "output_type": "stream",
     "text": [
      "Train Epoch - 103, Mini Batch - 5868, Train Accuracy - 90.90954717352358, Train Loss - 0.3045: 100%|██████████| 5868/5868 [1:15:48<00:00,  1.29it/s]\n",
      "Test Accuracy - 94.4055944055944, Test Loss - 0.1762: 100%|██████████| 1/1 [00:00<00:00, 23.07it/s]\n"
     ]
    },
    {
     "name": "stdout",
     "output_type": "stream",
     "text": [
      "DETTOL COOL LIQUID SOAP REFILL 175 GM RECKITT BENCKISER<EOS>\n",
      "ALL OUT ULTRA MOSQUITO REPELLENT REPELLENT REFILL 7.5ML 2<EOS>\n"
     ]
    },
    {
     "name": "stderr",
     "output_type": "stream",
     "text": [
      "  0%|          | 0/5868 [00:00<?, ?it/s]"
     ]
    },
    {
     "name": "stdout",
     "output_type": "stream",
     "text": [
      "MORTEIN MOSQUITO REPELLENT CREAM 50GM 2<EOS>\n"
     ]
    },
    {
     "name": "stderr",
     "output_type": "stream",
     "text": [
      "Train Epoch - 104, Mini Batch - 5868, Train Accuracy - 90.91237845505495, Train Loss - 0.2597: 100%|██████████| 5868/5868 [1:15:34<00:00,  1.29it/s]\n",
      "Test Accuracy - 95.1048951048951, Test Loss - 0.184: 100%|██████████| 1/1 [00:01<00:00,  1.16s/it]\n"
     ]
    },
    {
     "name": "stdout",
     "output_type": "stream",
     "text": [
      "DETTOL COOL LIQUID SOAP WRAP 125 G<EOS>\n",
      "ALL OUT ULTRA MOSQUITO REPELLENT REPELLENT REFILL 7.5ML 2<EOS>\n"
     ]
    },
    {
     "name": "stderr",
     "output_type": "stream",
     "text": [
      "  0%|          | 0/5868 [00:00<?, ?it/s]"
     ]
    },
    {
     "name": "stdout",
     "output_type": "stream",
     "text": [
      "MORTEIN REFILL PACK 1 LIQUID 450ML RECKITT BENCKISER<EOS>\n"
     ]
    },
    {
     "name": "stderr",
     "output_type": "stream",
     "text": [
      "Train Epoch - 105, Mini Batch - 5868, Train Accuracy - 90.91815863516422, Train Loss - 0.2229: 100%|██████████| 5868/5868 [1:15:40<00:00,  1.29it/s]\n",
      "Test Accuracy - 94.63869463869464, Test Loss - 0.1808: 100%|██████████| 1/1 [00:00<00:00, 21.82it/s]\n"
     ]
    },
    {
     "name": "stdout",
     "output_type": "stream",
     "text": [
      "DETTOL COOL LIQUID HANDWASH REFILL 175 ML RECKITT BENCKISER<EOS>\n",
      "ALL OUT ULTRA MOSQUITO REPELLENT REPELLENT REFILL 7.5ML 2<EOS>\n"
     ]
    },
    {
     "name": "stderr",
     "output_type": "stream",
     "text": [
      "  0%|          | 0/5868 [00:00<?, ?it/s]"
     ]
    },
    {
     "name": "stdout",
     "output_type": "stream",
     "text": [
      "MORTEIN MOSQUITO REPELLENT CREAM 50GM 2<EOS>\n"
     ]
    },
    {
     "name": "stderr",
     "output_type": "stream",
     "text": [
      "Train Epoch - 106, Mini Batch - 5868, Train Accuracy - 90.9226280829328, Train Loss - 0.2734: 100%|██████████| 5868/5868 [1:15:22<00:00,  1.30it/s] \n",
      "Test Accuracy - 94.87179487179486, Test Loss - 0.1751: 100%|██████████| 1/1 [00:00<00:00, 25.57it/s]\n"
     ]
    },
    {
     "name": "stdout",
     "output_type": "stream",
     "text": [
      "DETTOL COOL SOAP 75GM RECKITT BENCKISER<EOS>\n",
      "ALL OUT ULTRA MOSQUITO REPELLENT REFILL 7.5ML 2<EOS>\n"
     ]
    },
    {
     "name": "stderr",
     "output_type": "stream",
     "text": [
      "  0%|          | 0/5868 [00:00<?, ?it/s]"
     ]
    },
    {
     "name": "stdout",
     "output_type": "stream",
     "text": [
      "MORTEIN INSTANT REFILL PACKET 1<EOS>\n"
     ]
    },
    {
     "name": "stderr",
     "output_type": "stream",
     "text": [
      "Train Epoch - 107, Mini Batch - 5868, Train Accuracy - 90.92660338959271, Train Loss - 0.2624: 100%|██████████| 5868/5868 [1:14:56<00:00,  1.30it/s]\n",
      "Test Accuracy - 95.1048951048951, Test Loss - 0.18: 100%|██████████| 1/1 [00:00<00:00, 27.19it/s]\n"
     ]
    },
    {
     "name": "stdout",
     "output_type": "stream",
     "text": [
      "DETTOL COOL LIQUID SOAP WRAP 125 G<EOS>\n",
      "ALL OUT ULTRA MOSQUITO REPELLENT REPELLENT REFILL 7.5ML 2<EOS>\n"
     ]
    },
    {
     "name": "stderr",
     "output_type": "stream",
     "text": [
      "  0%|          | 0/5868 [00:00<?, ?it/s]"
     ]
    },
    {
     "name": "stdout",
     "output_type": "stream",
     "text": [
      "MORTEIN INSTANT REFILL PACKET 1<EOS>\n"
     ]
    },
    {
     "name": "stderr",
     "output_type": "stream",
     "text": [
      "Train Epoch - 108, Mini Batch - 5868, Train Accuracy - 90.93005739358023, Train Loss - 0.2619: 100%|██████████| 5868/5868 [1:14:51<00:00,  1.31it/s]\n",
      "Test Accuracy - 95.33799533799534, Test Loss - 0.1763: 100%|██████████| 1/1 [00:00<00:00, 24.17it/s]\n"
     ]
    },
    {
     "name": "stdout",
     "output_type": "stream",
     "text": [
      "DETTOL COOL SOAP 75GM RECKITT BENCKISER<EOS>\n",
      "ALL OUT ULTRA MOSQUITO REPELLENT REPELLENT REFILL 7.5ML 2<EOS>\n"
     ]
    },
    {
     "name": "stderr",
     "output_type": "stream",
     "text": [
      "  0%|          | 0/5868 [00:00<?, ?it/s]"
     ]
    },
    {
     "name": "stdout",
     "output_type": "stream",
     "text": [
      "MORTEIN MOSQUITO REPELLENT CREAM 50GM 2<EOS>\n"
     ]
    },
    {
     "name": "stderr",
     "output_type": "stream",
     "text": [
      "Train Epoch - 109, Mini Batch - 5868, Train Accuracy - 90.93410795521484, Train Loss - 0.2628: 100%|██████████| 5868/5868 [1:14:38<00:00,  1.31it/s]\n",
      "Test Accuracy - 95.1048951048951, Test Loss - 0.1712: 100%|██████████| 1/1 [00:00<00:00, 29.47it/s]\n"
     ]
    },
    {
     "name": "stdout",
     "output_type": "stream",
     "text": [
      "DETTOL COOL SOAP 75GM RECKITT BENCKISER<EOS>\n",
      "ALL OUT ULTRA MOSQUITO REPELLENT REFILL 1 LTR LIQUID 2986545 SURFACE SANITIZATION BOTTLE HOME CARE HYGIENE ESSENTIALS SANITIZER WIPES ALKEM LABORATORIES LTD<EOS>\n"
     ]
    },
    {
     "name": "stderr",
     "output_type": "stream",
     "text": [
      "  0%|          | 0/5868 [00:00<?, ?it/s]"
     ]
    },
    {
     "name": "stdout",
     "output_type": "stream",
     "text": [
      "MORTEIN REFILL PACK 2 100 GM SURFACE SANITIZERS 2986545 SANITIZATION BOTTLE HOME CARE HYGIENE ESSENTIALS SANITIZER WIPES HYGIENE ESSENTIALS SANITIZER WIPES RECKITT<EOS>\n"
     ]
    },
    {
     "name": "stderr",
     "output_type": "stream",
     "text": [
      "Train Epoch - 110, Mini Batch - 5868, Train Accuracy - 90.93772517777332, Train Loss - 0.2843: 100%|██████████| 5868/5868 [1:14:33<00:00,  1.31it/s]\n",
      "Test Accuracy - 95.1048951048951, Test Loss - 0.1739: 100%|██████████| 1/1 [00:00<00:00, 25.35it/s]\n"
     ]
    },
    {
     "name": "stdout",
     "output_type": "stream",
     "text": [
      "DETTOL COOL SOAP 75GM RECKITT BENCKISER<EOS>\n",
      "ALL OUT ULTRA MOSQUITO REPELLENT REFILL 7.5ML 2<EOS>\n"
     ]
    },
    {
     "name": "stderr",
     "output_type": "stream",
     "text": [
      "  0%|          | 0/5868 [00:00<?, ?it/s]"
     ]
    },
    {
     "name": "stdout",
     "output_type": "stream",
     "text": [
      "MORTEIN REFILL PACK 2 100 GM SPRAY MORNING COMBO MACHINE RECKITT BENCKISER<EOS>\n"
     ]
    },
    {
     "name": "stderr",
     "output_type": "stream",
     "text": [
      "Train Epoch - 111, Mini Batch - 5868, Train Accuracy - 90.94210018304054, Train Loss - 0.2637: 100%|██████████| 5868/5868 [1:16:46<00:00,  1.27it/s]\n",
      "Test Accuracy - 95.33799533799534, Test Loss - 0.1741: 100%|██████████| 1/1 [00:00<00:00, 23.93it/s]\n"
     ]
    },
    {
     "name": "stdout",
     "output_type": "stream",
     "text": [
      "DETTOL COOL LIQUID HANDWASH REFILL 175 ML RECKITT BENCKISER<EOS>\n",
      "ALL OUT ULTRA MOSQUITO REPELLENT REFILL 7.5ML 2<EOS>\n"
     ]
    },
    {
     "name": "stderr",
     "output_type": "stream",
     "text": [
      "  0%|          | 0/5868 [00:00<?, ?it/s]"
     ]
    },
    {
     "name": "stdout",
     "output_type": "stream",
     "text": [
      "MORTEIN REFILL 1 LIQUID 450ML RECKITT BENCKISER<EOS>\n"
     ]
    },
    {
     "name": "stderr",
     "output_type": "stream",
     "text": [
      "Train Epoch - 112, Mini Batch - 5868, Train Accuracy - 90.94759803240038, Train Loss - 0.2711: 100%|██████████| 5868/5868 [1:15:05<00:00,  1.30it/s]\n",
      "Test Accuracy - 95.1048951048951, Test Loss - 0.1886: 100%|██████████| 1/1 [00:00<00:00, 30.31it/s]\n"
     ]
    },
    {
     "name": "stdout",
     "output_type": "stream",
     "text": [
      "DETTOL COOL LIQUID HANDWASH REFILL 175 ML RECKITT BENCKISER<EOS>\n",
      "ALL OUT ULTRA MOSQUITO REPELLENT REPELLENT REFILL 7.5ML 2<EOS>\n"
     ]
    },
    {
     "name": "stderr",
     "output_type": "stream",
     "text": [
      "  0%|          | 0/5868 [00:00<?, ?it/s]"
     ]
    },
    {
     "name": "stdout",
     "output_type": "stream",
     "text": [
      "MORTEIN INSTANT REFILL PACK 2<EOS>\n"
     ]
    },
    {
     "name": "stderr",
     "output_type": "stream",
     "text": [
      "Train Epoch - 113, Mini Batch - 5868, Train Accuracy - 90.94986265892362, Train Loss - 0.2315: 100%|██████████| 5868/5868 [1:15:15<00:00,  1.30it/s]\n",
      "Test Accuracy - 94.87179487179486, Test Loss - 0.1821: 100%|██████████| 1/1 [00:00<00:00, 25.80it/s]\n"
     ]
    },
    {
     "name": "stdout",
     "output_type": "stream",
     "text": [
      "DETTOL COOL SOAP 75GM RECKITT BENCKISER<EOS>\n",
      "ALL OUT ULTRA MOSQUITO REPELLENT REPELLENT REFILL 7.5ML 2<EOS>\n"
     ]
    },
    {
     "name": "stderr",
     "output_type": "stream",
     "text": [
      "  0%|          | 0/5868 [00:00<?, ?it/s]"
     ]
    },
    {
     "name": "stdout",
     "output_type": "stream",
     "text": [
      "MORTEIN INSTANT REFILL PACKET 1<EOS>\n"
     ]
    },
    {
     "name": "stderr",
     "output_type": "stream",
     "text": [
      "Train Epoch - 114, Mini Batch - 5868, Train Accuracy - 90.95516215411176, Train Loss - 0.2248: 100%|██████████| 5868/5868 [1:15:31<00:00,  1.29it/s]\n",
      "Test Accuracy - 95.33799533799534, Test Loss - 0.1662: 100%|██████████| 1/1 [00:00<00:00, 21.71it/s]\n"
     ]
    },
    {
     "name": "stdout",
     "output_type": "stream",
     "text": [
      "DETTOL COOL LIQUID HANDWASH REFILL 175 ML RECKITT BENCKISER<EOS>\n",
      "ALL OUT ULTRA MOSQUITO REPELLENT REPELLENT REFILL 7.5ML 2<EOS>\n"
     ]
    },
    {
     "name": "stderr",
     "output_type": "stream",
     "text": [
      "  0%|          | 0/5868 [00:00<?, ?it/s]"
     ]
    },
    {
     "name": "stdout",
     "output_type": "stream",
     "text": [
      "MORTEIN REFILL PACK 2 LIQUID 450ML RECKITT BENCKISER<EOS>\n"
     ]
    },
    {
     "name": "stderr",
     "output_type": "stream",
     "text": [
      "Train Epoch - 115, Mini Batch - 5868, Train Accuracy - 90.95846116275405, Train Loss - 0.2485: 100%|██████████| 5868/5868 [1:15:51<00:00,  1.29it/s]\n",
      "Test Accuracy - 95.57109557109557, Test Loss - 0.1698: 100%|██████████| 1/1 [00:00<00:00, 34.25it/s]\n"
     ]
    },
    {
     "name": "stdout",
     "output_type": "stream",
     "text": [
      "DETTOL COOL SOAP 75GM RECKITT BENCKISER<EOS>\n",
      "ALL OUT ULTRA MOSQUITO REPELLENT REFILL 175ML<EOS>\n"
     ]
    },
    {
     "name": "stderr",
     "output_type": "stream",
     "text": [
      "  0%|          | 0/5868 [00:00<?, ?it/s]"
     ]
    },
    {
     "name": "stdout",
     "output_type": "stream",
     "text": [
      "MORTEIN REFILL PACK 2 100 GM SPRAY MOREPEN LABORATORIES<EOS>\n"
     ]
    },
    {
     "name": "stderr",
     "output_type": "stream",
     "text": [
      "Train Epoch - 116, Mini Batch - 5868, Train Accuracy - 90.96307364481227, Train Loss - 0.2501: 100%|██████████| 5868/5868 [1:16:08<00:00,  1.28it/s]\n",
      "Test Accuracy - 95.1048951048951, Test Loss - 0.1799: 100%|██████████| 1/1 [00:00<00:00, 23.35it/s]\n"
     ]
    },
    {
     "name": "stdout",
     "output_type": "stream",
     "text": [
      "DETTOL COOL SKINCARE GERM PROTECTION SOAP BATHING SOAP BAR 75GM X 12 BOX 100 G RECKITT BENCKISER<EOS>\n",
      "ALL OUT ULTRA MOSQUITO REPELLENT REPELLENT REFILL 7.5ML 2<EOS>\n"
     ]
    },
    {
     "name": "stderr",
     "output_type": "stream",
     "text": [
      "  0%|          | 0/5868 [00:00<?, ?it/s]"
     ]
    },
    {
     "name": "stdout",
     "output_type": "stream",
     "text": [
      "MORTEIN INSTANT REFILL PACKET 1<EOS>\n"
     ]
    },
    {
     "name": "stderr",
     "output_type": "stream",
     "text": [
      "Train Epoch - 117, Mini Batch - 5868, Train Accuracy - 90.96696447651715, Train Loss - 0.26: 100%|██████████| 5868/5868 [1:16:36<00:00,  1.28it/s]  \n",
      "Test Accuracy - 95.1048951048951, Test Loss - 0.1696: 100%|██████████| 1/1 [00:00<00:00, 28.84it/s]\n"
     ]
    },
    {
     "name": "stdout",
     "output_type": "stream",
     "text": [
      "DETTOL COOL SOAP 75GM RECKITT BENCKISER<EOS>\n",
      "ALL OUT ULTRA MOSQUITO REPELLENT REPELLENT REFILL 7.5ML 2<EOS>\n"
     ]
    },
    {
     "name": "stderr",
     "output_type": "stream",
     "text": [
      "  0%|          | 0/5868 [00:00<?, ?it/s]"
     ]
    },
    {
     "name": "stdout",
     "output_type": "stream",
     "text": [
      "MORTEIN REFILL PACK 3 SURFACE SANITIZERS 2986545 SANITIZATION BOTTLE HOME CARE HYGIENE ESSENTIALS SANITIZER WIPES HYGIENE ESSENTIALS SANITIZER WIPES APPLICABLE RECKITT<EOS>\n"
     ]
    },
    {
     "name": "stderr",
     "output_type": "stream",
     "text": [
      "Train Epoch - 118, Mini Batch - 5868, Train Accuracy - 90.96752265911091, Train Loss - 0.2539: 100%|██████████| 5868/5868 [1:17:59<00:00,  1.25it/s]\n",
      "Test Accuracy - 94.87179487179486, Test Loss - 0.1625: 100%|██████████| 1/1 [00:00<00:00, 24.76it/s]\n"
     ]
    },
    {
     "name": "stdout",
     "output_type": "stream",
     "text": [
      "DETTOL COOL LIQUID HANDWASH REFILL 175 ML RECKITT BENCKISER<EOS>\n",
      "ALL OUT ULTRA MOSQUITO REPELLENT REPELLENT REFILL 7.5ML 2<EOS>\n"
     ]
    },
    {
     "name": "stderr",
     "output_type": "stream",
     "text": [
      "  0%|          | 0/5868 [00:00<?, ?it/s]"
     ]
    },
    {
     "name": "stdout",
     "output_type": "stream",
     "text": [
      "MORTEIN INSTANT REFILL PACKET 1<EOS>\n"
     ]
    },
    {
     "name": "stderr",
     "output_type": "stream",
     "text": [
      "Train Epoch - 119, Mini Batch - 5868, Train Accuracy - 90.97220665831397, Train Loss - 0.2645: 100%|██████████| 5868/5868 [1:15:58<00:00,  1.29it/s]\n",
      "Test Accuracy - 94.87179487179486, Test Loss - 0.1675: 100%|██████████| 1/1 [00:00<00:00, 22.03it/s]\n"
     ]
    },
    {
     "name": "stdout",
     "output_type": "stream",
     "text": [
      "DETTOL COOL LIQUID HANDWASH REFILL 175 ML RECKITT BENCKISER<EOS>\n",
      "ALL OUT ULTRA MOSQUITO REPELLENT REFILL 1 LTR LIQUID 2986545 SURFACE SANITIZATION BOTTLE HOME CARE HYGIENE ESSENTIALS SANITIZER WIPES ALKEM LABORATORIES LTD<EOS>\n"
     ]
    },
    {
     "name": "stderr",
     "output_type": "stream",
     "text": [
      "  0%|          | 0/5868 [00:00<?, ?it/s]"
     ]
    },
    {
     "name": "stdout",
     "output_type": "stream",
     "text": [
      "MORTEIN REFILL 100ML RECKITT BENCKISER<EOS>\n"
     ]
    },
    {
     "name": "stderr",
     "output_type": "stream",
     "text": [
      "Train Epoch - 120, Mini Batch - 5868, Train Accuracy - 90.97634792462004, Train Loss - 0.2759: 100%|██████████| 5868/5868 [1:15:38<00:00,  1.29it/s]\n",
      "Test Accuracy - 95.33799533799534, Test Loss - 0.1744: 100%|██████████| 1/1 [00:00<00:00, 24.91it/s]\n"
     ]
    },
    {
     "name": "stdout",
     "output_type": "stream",
     "text": [
      "DETTOL COOL LIQUID HANDWASH REFILL 175 ML RECKITT BENCKISER<EOS>\n",
      "ALL OUT ULTRA MOSQUITO REPELLENT REFILL 1 LTR LIQUID SANITIZERS 2986545 SANITIZATION BOTTLE HOME CARE HYGIENE ESSENTIALS SANITIZER WIPES ALKEM LABORATORIES<EOS>\n"
     ]
    },
    {
     "name": "stderr",
     "output_type": "stream",
     "text": [
      "  0%|          | 0/5868 [00:00<?, ?it/s]"
     ]
    },
    {
     "name": "stdout",
     "output_type": "stream",
     "text": [
      "MORTEIN INSTANT REFILL PACKET 1<EOS>\n"
     ]
    },
    {
     "name": "stderr",
     "output_type": "stream",
     "text": [
      "Train Epoch - 121, Mini Batch - 5868, Train Accuracy - 90.98003068379555, Train Loss - 0.2409: 100%|██████████| 5868/5868 [1:18:01<00:00,  1.25it/s]\n",
      "Test Accuracy - 95.33799533799534, Test Loss - 0.1595: 100%|██████████| 1/1 [00:00<00:00, 36.16it/s]\n"
     ]
    },
    {
     "name": "stdout",
     "output_type": "stream",
     "text": [
      "DETTOL COOL SOAP 75GM RECKITT BENCKISER<EOS>\n",
      "ALL OUT ULTRA MOSQUITO REPELLENT REFILL 7.5ML 2<EOS>\n"
     ]
    },
    {
     "name": "stderr",
     "output_type": "stream",
     "text": [
      "  0%|          | 0/5868 [00:00<?, ?it/s]"
     ]
    },
    {
     "name": "stdout",
     "output_type": "stream",
     "text": [
      "MORTEIN INSTANT REFILL PACKET 1 LTR LIQUID SURFACE SANITIZERS 2986545 SANITIZATION BOTTLE HOME CARE HYGIENE ESSENTIALS SANITIZER WIPES RECKITT<EOS>\n"
     ]
    },
    {
     "name": "stderr",
     "output_type": "stream",
     "text": [
      "Train Epoch - 122, Mini Batch - 5868, Train Accuracy - 90.9839506705734, Train Loss - 0.2636: 100%|██████████| 5868/5868 [1:16:14<00:00,  1.28it/s] \n",
      "Test Accuracy - 95.57109557109557, Test Loss - 0.1615: 100%|██████████| 1/1 [00:00<00:00, 21.83it/s]\n"
     ]
    },
    {
     "name": "stdout",
     "output_type": "stream",
     "text": [
      "DETTOL COOL SOAP 75GM RECKITT BENCKISER<EOS>\n",
      "ALL OUT ULTRA MOSQUITO REPELLENT REPELLENT REFILL 7.5ML 2<EOS>\n"
     ]
    },
    {
     "name": "stderr",
     "output_type": "stream",
     "text": [
      "  0%|          | 0/5868 [00:00<?, ?it/s]"
     ]
    },
    {
     "name": "stdout",
     "output_type": "stream",
     "text": [
      "MORTEIN INSTANT REFILL PACKET 1<EOS>\n"
     ]
    },
    {
     "name": "stderr",
     "output_type": "stream",
     "text": [
      "Train Epoch - 123, Mini Batch - 5868, Train Accuracy - 90.9869287242243, Train Loss - 0.2688: 100%|██████████| 5868/5868 [1:16:10<00:00,  1.28it/s] \n",
      "Test Accuracy - 95.33799533799534, Test Loss - 0.1653: 100%|██████████| 1/1 [00:00<00:00, 23.42it/s]\n"
     ]
    },
    {
     "name": "stdout",
     "output_type": "stream",
     "text": [
      "DETTOL COOL SOAP 75GM RECKITT BENCKISER<EOS>\n",
      "ALL OUT ULTRA MOSQUITO REPELLENT REPELLENT REFILL 7.5ML 2<EOS>\n"
     ]
    },
    {
     "name": "stderr",
     "output_type": "stream",
     "text": [
      "  0%|          | 0/5868 [00:00<?, ?it/s]"
     ]
    },
    {
     "name": "stdout",
     "output_type": "stream",
     "text": [
      "MORTEIN INSTANT REFILL PACKET 1<EOS>\n"
     ]
    },
    {
     "name": "stderr",
     "output_type": "stream",
     "text": [
      "Train Epoch - 124, Mini Batch - 5868, Train Accuracy - 90.98917142214563, Train Loss - 0.2702: 100%|██████████| 5868/5868 [1:16:00<00:00,  1.29it/s]\n",
      "Test Accuracy - 95.8041958041958, Test Loss - 0.1595: 100%|██████████| 1/1 [00:00<00:00, 22.29it/s]\n"
     ]
    },
    {
     "name": "stdout",
     "output_type": "stream",
     "text": [
      "DETTOL COOL LIQUID HANDWASH REFILL 175 ML RECKITT BENCKISER<EOS>\n",
      "ALL OUT ULTRA MOSQUITO REPELLENT REPELLENT REFILL 7.5ML 2<EOS>\n"
     ]
    },
    {
     "name": "stderr",
     "output_type": "stream",
     "text": [
      "  0%|          | 0/5868 [00:00<?, ?it/s]"
     ]
    },
    {
     "name": "stdout",
     "output_type": "stream",
     "text": [
      "MORTEIN INSTANT REFILL PACKET 1<EOS>\n"
     ]
    },
    {
     "name": "stderr",
     "output_type": "stream",
     "text": [
      "Train Epoch - 125, Mini Batch - 5868, Train Accuracy - 90.99392444660694, Train Loss - 0.2364: 100%|██████████| 5868/5868 [1:16:08<00:00,  1.28it/s]\n",
      "Test Accuracy - 95.8041958041958, Test Loss - 0.1533: 100%|██████████| 1/1 [00:00<00:00, 23.05it/s]\n"
     ]
    },
    {
     "name": "stdout",
     "output_type": "stream",
     "text": [
      "DETTOL COOL SOAP 75GM RECKITT BENCKISER<EOS>\n",
      "ALL OUT ULTRA MOSQUITO REPELLENT REFILL 7.5ML 2<EOS>\n"
     ]
    },
    {
     "name": "stderr",
     "output_type": "stream",
     "text": [
      "  0%|          | 0/5868 [00:00<?, ?it/s]"
     ]
    },
    {
     "name": "stdout",
     "output_type": "stream",
     "text": [
      "MORTEIN INSTANT REFILL PACKET 1<EOS>\n"
     ]
    },
    {
     "name": "stderr",
     "output_type": "stream",
     "text": [
      "Train Epoch - 126, Mini Batch - 5868, Train Accuracy - 90.99886585769363, Train Loss - 0.2747: 100%|██████████| 5868/5868 [1:16:17<00:00,  1.28it/s]\n",
      "Test Accuracy - 95.57109557109557, Test Loss - 0.1643: 100%|██████████| 1/1 [00:00<00:00, 29.77it/s]\n"
     ]
    },
    {
     "name": "stdout",
     "output_type": "stream",
     "text": [
      "DETTOL COOL LIQUID HANDWASH REFILL 175 ML RECKITT BENCKISER<EOS>\n",
      "ALL OUT ULTRA MOSQUITO REPELLENT REPELLENT REFILL 7.5ML 2<EOS>\n"
     ]
    },
    {
     "name": "stderr",
     "output_type": "stream",
     "text": [
      "  0%|          | 0/5868 [00:00<?, ?it/s]"
     ]
    },
    {
     "name": "stdout",
     "output_type": "stream",
     "text": [
      "MORTEIN INSTANT REFILL PACKET 1<EOS>\n"
     ]
    },
    {
     "name": "stderr",
     "output_type": "stream",
     "text": [
      "Train Epoch - 127, Mini Batch - 5868, Train Accuracy - 91.0005309363059, Train Loss - 0.24: 100%|██████████| 5868/5868 [1:16:13<00:00,  1.28it/s]   \n",
      "Test Accuracy - 95.33799533799534, Test Loss - 0.1647: 100%|██████████| 1/1 [00:00<00:00, 28.34it/s]\n"
     ]
    },
    {
     "name": "stdout",
     "output_type": "stream",
     "text": [
      "DETTOL COOL LIQUID HANDWASH REFILL 175 ML RECKITT BENCKISER<EOS>\n",
      "ALL OUT ULTRA MOSQUITO REPELLENT REPELLENT SPRAY 100ML<EOS>\n"
     ]
    },
    {
     "name": "stderr",
     "output_type": "stream",
     "text": [
      "  0%|          | 0/5868 [00:00<?, ?it/s]"
     ]
    },
    {
     "name": "stdout",
     "output_type": "stream",
     "text": [
      "MORTEIN INSTANT REFILL PACKET 1<EOS>\n"
     ]
    },
    {
     "name": "stderr",
     "output_type": "stream",
     "text": [
      "Train Epoch - 128, Mini Batch - 5868, Train Accuracy - 91.00480676448727, Train Loss - 0.2714: 100%|██████████| 5868/5868 [1:15:19<00:00,  1.30it/s]\n",
      "Test Accuracy - 95.57109557109557, Test Loss - 0.1557: 100%|██████████| 1/1 [00:00<00:00, 22.77it/s]\n"
     ]
    },
    {
     "name": "stdout",
     "output_type": "stream",
     "text": [
      "DETTOL COOL LIQUID HANDWASH REFILL 175 ML RECKITT BENCKISER<EOS>\n",
      "ALL OUT ULTRA MOSQUITO REPELLENT REPELLENT REFILL 7.5ML 2<EOS>\n"
     ]
    },
    {
     "name": "stderr",
     "output_type": "stream",
     "text": [
      "  0%|          | 0/5868 [00:00<?, ?it/s]"
     ]
    },
    {
     "name": "stdout",
     "output_type": "stream",
     "text": [
      "MORTEIN INSTANT REFILL PACKET 1<EOS>\n"
     ]
    },
    {
     "name": "stderr",
     "output_type": "stream",
     "text": [
      "Train Epoch - 129, Mini Batch - 5868, Train Accuracy - 91.00951618093343, Train Loss - 0.2258: 100%|██████████| 5868/5868 [1:14:25<00:00,  1.31it/s]\n",
      "Test Accuracy - 95.33799533799534, Test Loss - 0.1712: 100%|██████████| 1/1 [00:00<00:00, 29.56it/s]\n"
     ]
    },
    {
     "name": "stdout",
     "output_type": "stream",
     "text": [
      "DETTOL COOL SOAP 75GM RECKITT BENCKISER<EOS>\n",
      "ALL OUT ULTRA MOSQUITO REPELLENT REFILL 7.5ML 2<EOS>\n"
     ]
    },
    {
     "name": "stderr",
     "output_type": "stream",
     "text": [
      "  0%|          | 0/5868 [00:00<?, ?it/s]"
     ]
    },
    {
     "name": "stdout",
     "output_type": "stream",
     "text": [
      "MORTEIN INSTANT REFILL PACKET 1<EOS>\n"
     ]
    },
    {
     "name": "stderr",
     "output_type": "stream",
     "text": [
      "Train Epoch - 130, Mini Batch - 5868, Train Accuracy - 91.0119198547278, Train Loss - 0.2527: 100%|██████████| 5868/5868 [1:14:27<00:00,  1.31it/s] \n",
      "Test Accuracy - 95.57109557109557, Test Loss - 0.1675: 100%|██████████| 1/1 [00:00<00:00, 30.18it/s]\n"
     ]
    },
    {
     "name": "stdout",
     "output_type": "stream",
     "text": [
      "DETTOL COOL SOAP 75GM RECKITT BENCKISER<EOS>\n",
      "ALL OUT ULTRA MOSQUITO REPELLENT REFILL 200 ML<EOS>\n"
     ]
    },
    {
     "name": "stderr",
     "output_type": "stream",
     "text": [
      "  0%|          | 0/5868 [00:00<?, ?it/s]"
     ]
    },
    {
     "name": "stdout",
     "output_type": "stream",
     "text": [
      "MORTEIN INSTANT REFILL PACKET 1<EOS>\n"
     ]
    },
    {
     "name": "stderr",
     "output_type": "stream",
     "text": [
      "Train Epoch - 131, Mini Batch - 5868, Train Accuracy - 91.01242271743949, Train Loss - 0.2738: 100%|██████████| 5868/5868 [1:14:28<00:00,  1.31it/s]\n",
      "Test Accuracy - 95.8041958041958, Test Loss - 0.1606: 100%|██████████| 1/1 [00:00<00:00, 28.57it/s]\n"
     ]
    },
    {
     "name": "stdout",
     "output_type": "stream",
     "text": [
      "DETTOL COOL SOAP 75GM RECKITT BENCKISER<EOS>\n",
      "ALL OUT ULTRA MOSQUITO REPELLENT REPELLENT REFILL 7.5ML 2<EOS>\n"
     ]
    },
    {
     "name": "stderr",
     "output_type": "stream",
     "text": [
      "  0%|          | 0/5868 [00:00<?, ?it/s]"
     ]
    },
    {
     "name": "stdout",
     "output_type": "stream",
     "text": [
      "MORTEIN INSTANT REFILL PACKET 1<EOS>\n"
     ]
    },
    {
     "name": "stderr",
     "output_type": "stream",
     "text": [
      "Train Epoch - 132, Mini Batch - 5868, Train Accuracy - 91.01774339366355, Train Loss - 0.2771: 100%|██████████| 5868/5868 [1:14:34<00:00,  1.31it/s]\n",
      "Test Accuracy - 95.57109557109557, Test Loss - 0.1524: 100%|██████████| 1/1 [00:00<00:00, 28.47it/s]\n"
     ]
    },
    {
     "name": "stdout",
     "output_type": "stream",
     "text": [
      "DETTOL COOL LIQUID HANDWASH REFILL 175 ML RECKITT BENCKISER<EOS>\n",
      "ALL OUT ULTRA MOSQUITO REPELLENT REFILL 1 LTR LIQUID 2986545 SURFACE SANITIZATION BOTTLE HOME CARE HYGIENE ESSENTIALS SANITIZER WIPES ALKEM LABORATORIES LTD<EOS>\n"
     ]
    },
    {
     "name": "stderr",
     "output_type": "stream",
     "text": [
      "  0%|          | 0/5868 [00:00<?, ?it/s]"
     ]
    },
    {
     "name": "stdout",
     "output_type": "stream",
     "text": [
      "MORTEIN INSTANT POWER CONDITIONER 100 ML 2<EOS>\n"
     ]
    },
    {
     "name": "stderr",
     "output_type": "stream",
     "text": [
      "Train Epoch - 133, Mini Batch - 5868, Train Accuracy - 91.02293050476696, Train Loss - 0.2756: 100%|██████████| 5868/5868 [1:14:34<00:00,  1.31it/s]\n",
      "Test Accuracy - 95.8041958041958, Test Loss - 0.1582: 100%|██████████| 1/1 [00:00<00:00, 31.93it/s]\n"
     ]
    },
    {
     "name": "stdout",
     "output_type": "stream",
     "text": [
      "DETTOL COOL LIQUID HANDWASH REFILL 175 ML RECKITT BENCKISER<EOS>\n",
      "ALL OUT ULTRA MOSQUITO REPELLENT REPELLENT REFILL 7.5ML<EOS>\n"
     ]
    },
    {
     "name": "stderr",
     "output_type": "stream",
     "text": [
      "  0%|          | 0/5868 [00:00<?, ?it/s]"
     ]
    },
    {
     "name": "stdout",
     "output_type": "stream",
     "text": [
      "MORTEIN INSTANT REFILL PACKET 1<EOS>\n"
     ]
    },
    {
     "name": "stderr",
     "output_type": "stream",
     "text": [
      "Train Epoch - 134, Mini Batch - 5868, Train Accuracy - 91.02371245877553, Train Loss - 0.2587: 100%|██████████| 5868/5868 [1:14:33<00:00,  1.31it/s]\n",
      "Test Accuracy - 95.33799533799534, Test Loss - 0.1723: 100%|██████████| 1/1 [00:00<00:00, 20.39it/s]\n"
     ]
    },
    {
     "name": "stdout",
     "output_type": "stream",
     "text": [
      "DETTOL COOL LIQUID HANDWASH REFILL 175 ML RECKITT BENCKISER<EOS>\n",
      "ALL OUT ULTRA MOSQUITO REPELLENT REPELLENT REFILL 7.5ML 2<EOS>\n"
     ]
    },
    {
     "name": "stderr",
     "output_type": "stream",
     "text": [
      "  0%|          | 0/5868 [00:00<?, ?it/s]"
     ]
    },
    {
     "name": "stdout",
     "output_type": "stream",
     "text": [
      "MORTEIN INSTANT REFILL PACKET 1<EOS>\n"
     ]
    },
    {
     "name": "stderr",
     "output_type": "stream",
     "text": [
      "Train Epoch - 135, Mini Batch - 5868, Train Accuracy - 91.02700698202199, Train Loss - 0.2626: 100%|██████████| 5868/5868 [1:14:36<00:00,  1.31it/s]\n",
      "Test Accuracy - 95.8041958041958, Test Loss - 0.1584: 100%|██████████| 1/1 [00:00<00:00, 32.63it/s]\n"
     ]
    },
    {
     "name": "stdout",
     "output_type": "stream",
     "text": [
      "DETTOL COOL LIQUID HANDWASH REFILL 175 ML RECKITT BENCKISER<EOS>\n",
      "ALL OUT ULTRA MOSQUITO REPELLENT REFILL 500 ML<EOS>\n"
     ]
    },
    {
     "name": "stderr",
     "output_type": "stream",
     "text": [
      "  0%|          | 0/5868 [00:00<?, ?it/s]"
     ]
    },
    {
     "name": "stdout",
     "output_type": "stream",
     "text": [
      "MORTEIN INSTANT REFILL PACKET 1<EOS>\n"
     ]
    },
    {
     "name": "stderr",
     "output_type": "stream",
     "text": [
      "Train Epoch - 136, Mini Batch - 5868, Train Accuracy - 91.03122101141619, Train Loss - 0.2353: 100%|██████████| 5868/5868 [1:15:05<00:00,  1.30it/s]\n",
      "Test Accuracy - 95.8041958041958, Test Loss - 0.1589: 100%|██████████| 1/1 [00:00<00:00, 23.22it/s]\n"
     ]
    },
    {
     "name": "stdout",
     "output_type": "stream",
     "text": [
      "DETTOL COOL LIQUID HANDWASH REFILL 175 ML RECKITT BENCKISER<EOS>\n",
      "ALL OUT ULTRA MOSQUITO REPELLENT REFILL 175ML<EOS>\n"
     ]
    },
    {
     "name": "stderr",
     "output_type": "stream",
     "text": [
      "  0%|          | 0/5868 [00:00<?, ?it/s]"
     ]
    },
    {
     "name": "stdout",
     "output_type": "stream",
     "text": [
      "MORTEIN INSTANT REFILL PACKET 1<EOS>\n"
     ]
    },
    {
     "name": "stderr",
     "output_type": "stream",
     "text": [
      "Train Epoch - 137, Mini Batch - 5868, Train Accuracy - 91.02987763536132, Train Loss - 0.2656: 100%|██████████| 5868/5868 [1:15:52<00:00,  1.29it/s]\n",
      "Test Accuracy - 95.57109557109557, Test Loss - 0.1661: 100%|██████████| 1/1 [00:00<00:00, 25.06it/s]\n"
     ]
    },
    {
     "name": "stdout",
     "output_type": "stream",
     "text": [
      "DETTOL COOL LIQUID HANDWASH REFILL 175 ML RECKITT BENCKISER<EOS>\n",
      "ALL OUT ULTRA MOSQUITO REPELLENT REPELLENT REFILL 7.5ML 2<EOS>\n"
     ]
    },
    {
     "name": "stderr",
     "output_type": "stream",
     "text": [
      "  0%|          | 0/5868 [00:00<?, ?it/s]"
     ]
    },
    {
     "name": "stdout",
     "output_type": "stream",
     "text": [
      "MORTEIN INSTANT REFILL PACKET 1<EOS>\n"
     ]
    },
    {
     "name": "stderr",
     "output_type": "stream",
     "text": [
      "Train Epoch - 138, Mini Batch - 5868, Train Accuracy - 91.03675574069742, Train Loss - 0.2676: 100%|██████████| 5868/5868 [1:18:13<00:00,  1.25it/s]\n",
      "Test Accuracy - 96.27039627039628, Test Loss - 0.1365: 100%|██████████| 1/1 [00:00<00:00, 24.71it/s]\n"
     ]
    },
    {
     "name": "stdout",
     "output_type": "stream",
     "text": [
      "DETTOL COOL LIQUID HANDWASH REFILL 175 ML RECKITT BENCKISER<EOS>\n",
      "ALL OUT ULTRA MOSQUITO REPELLENT REPELLENT REFILL 7.5ML 2<EOS>\n"
     ]
    },
    {
     "name": "stderr",
     "output_type": "stream",
     "text": [
      "  0%|          | 0/5868 [00:00<?, ?it/s]"
     ]
    },
    {
     "name": "stdout",
     "output_type": "stream",
     "text": [
      "MORTEIN INSTANT REFILL PACKET 1<EOS>\n"
     ]
    },
    {
     "name": "stderr",
     "output_type": "stream",
     "text": [
      "Train Epoch - 139, Mini Batch - 5868, Train Accuracy - 91.03794412140707, Train Loss - 0.2274: 100%|██████████| 5868/5868 [1:16:31<00:00,  1.28it/s]\n",
      "Test Accuracy - 95.57109557109557, Test Loss - 0.1497: 100%|██████████| 1/1 [00:00<00:00, 26.51it/s]\n"
     ]
    },
    {
     "name": "stdout",
     "output_type": "stream",
     "text": [
      "DETTOL COOL SOAP 75GM RECKITT BENCKISER<EOS>\n",
      "ALL OUT ULTRA MOSQUITO REPELLENT REPELLENT REFILL 7.5ML 2<EOS>\n"
     ]
    },
    {
     "name": "stderr",
     "output_type": "stream",
     "text": [
      "  0%|          | 0/5868 [00:00<?, ?it/s]"
     ]
    },
    {
     "name": "stdout",
     "output_type": "stream",
     "text": [
      "MORTEIN REFILL 1 LIQUID 450ML RECKITT BENCKISER<EOS>\n"
     ]
    },
    {
     "name": "stderr",
     "output_type": "stream",
     "text": [
      "Train Epoch - 140, Mini Batch - 5868, Train Accuracy - 91.04125135327507, Train Loss - 0.2606: 100%|██████████| 5868/5868 [1:16:35<00:00,  1.28it/s]\n",
      "Test Accuracy - 95.57109557109557, Test Loss - 0.1616: 100%|██████████| 1/1 [00:00<00:00, 24.97it/s]\n"
     ]
    },
    {
     "name": "stdout",
     "output_type": "stream",
     "text": [
      "DETTOL COOL SOAP 75GM RECKITT BENCKISER<EOS>\n",
      "ALL OUT ULTRA MOSQUITO REPELLENT REFILL 7.5ML 2<EOS>\n"
     ]
    },
    {
     "name": "stderr",
     "output_type": "stream",
     "text": [
      "  0%|          | 0/5868 [00:00<?, ?it/s]"
     ]
    },
    {
     "name": "stdout",
     "output_type": "stream",
     "text": [
      "MORTEIN INSTANT REFILL PACKET 1<EOS>\n"
     ]
    },
    {
     "name": "stderr",
     "output_type": "stream",
     "text": [
      "Train Epoch - 141, Mini Batch - 5868, Train Accuracy - 91.0447544474282, Train Loss - 0.2963: 100%|██████████| 5868/5868 [1:16:26<00:00,  1.28it/s] \n",
      "Test Accuracy - 95.8041958041958, Test Loss - 0.166: 100%|██████████| 1/1 [00:00<00:00, 21.33it/s]\n"
     ]
    },
    {
     "name": "stdout",
     "output_type": "stream",
     "text": [
      "DETTOL COOL SOAP 75GM RECKITT BENCKISER<EOS>\n",
      "ALL OUT ULTRA MOSQUITO REPELLENT REFILL 175ML<EOS>\n"
     ]
    },
    {
     "name": "stderr",
     "output_type": "stream",
     "text": [
      "  0%|          | 0/5868 [00:00<?, ?it/s]"
     ]
    },
    {
     "name": "stdout",
     "output_type": "stream",
     "text": [
      "MORTEIN INSTANT REFILL PACKET 1<EOS>\n"
     ]
    },
    {
     "name": "stderr",
     "output_type": "stream",
     "text": [
      "Train Epoch - 142, Mini Batch - 5868, Train Accuracy - 91.04877759831045, Train Loss - 0.2712: 100%|██████████| 5868/5868 [1:16:31<00:00,  1.28it/s]\n",
      "Test Accuracy - 95.33799533799534, Test Loss - 0.1666: 100%|██████████| 1/1 [00:00<00:00, 19.75it/s]\n"
     ]
    },
    {
     "name": "stdout",
     "output_type": "stream",
     "text": [
      "DETTOL COOL SOAP 75GM RECKITT BENCKISER<EOS>\n",
      "ALL OUT ULTRA MOSQUITO REPELLENT REFILL 175ML<EOS>\n"
     ]
    },
    {
     "name": "stderr",
     "output_type": "stream",
     "text": [
      "  0%|          | 0/5868 [00:00<?, ?it/s]"
     ]
    },
    {
     "name": "stdout",
     "output_type": "stream",
     "text": [
      "MORTEIN INSTANT REFILL PACKET 1<EOS>\n"
     ]
    },
    {
     "name": "stderr",
     "output_type": "stream",
     "text": [
      "Train Epoch - 143, Mini Batch - 5868, Train Accuracy - 91.05222263150628, Train Loss - 0.2434: 100%|██████████| 5868/5868 [1:16:45<00:00,  1.27it/s]\n",
      "Test Accuracy - 95.57109557109557, Test Loss - 0.1712: 100%|██████████| 1/1 [00:00<00:00, 26.51it/s]\n"
     ]
    },
    {
     "name": "stdout",
     "output_type": "stream",
     "text": [
      "DETTOL COOL LIQUID HANDWASH REFILL 175 ML RECKITT BENCKISER<EOS>\n",
      "ALL OUT ULTRA MOSQUITO REPELLENT REFILL 1 LTR LIQUID SURFACE SANITIZERS 2986545 SANITIZATION BOTTLE HOME CARE HYGIENE ESSENTIALS SANITIZER WIPES ALKEM LABORATORIES LTD<EOS>\n"
     ]
    },
    {
     "name": "stderr",
     "output_type": "stream",
     "text": [
      "  0%|          | 0/5868 [00:00<?, ?it/s]"
     ]
    },
    {
     "name": "stdout",
     "output_type": "stream",
     "text": [
      "MORTEIN INSTANT REFILL PACKET 1<EOS>\n"
     ]
    },
    {
     "name": "stderr",
     "output_type": "stream",
     "text": [
      "Train Epoch - 144, Mini Batch - 5868, Train Accuracy - 91.0536925953994, Train Loss - 0.2389: 100%|██████████| 5868/5868 [1:16:58<00:00,  1.27it/s] \n",
      "Test Accuracy - 95.8041958041958, Test Loss - 0.1592: 100%|██████████| 1/1 [00:00<00:00, 27.00it/s]\n"
     ]
    },
    {
     "name": "stdout",
     "output_type": "stream",
     "text": [
      "DETTOL COOL LIQUID SOAP WRAP 125 G<EOS>\n",
      "ALL OUT ULTRA MOSQUITO REPELLENT REPELLENT REFILL 7.5ML<EOS>\n"
     ]
    },
    {
     "name": "stderr",
     "output_type": "stream",
     "text": [
      "  0%|          | 0/5868 [00:00<?, ?it/s]"
     ]
    },
    {
     "name": "stdout",
     "output_type": "stream",
     "text": [
      "MORTEIN INSTANT REFILL PACKET 1<EOS>\n"
     ]
    },
    {
     "name": "stderr",
     "output_type": "stream",
     "text": [
      "Train Epoch - 145, Mini Batch - 5868, Train Accuracy - 91.05805190178118, Train Loss - 0.2601: 100%|██████████| 5868/5868 [1:15:07<00:00,  1.30it/s]\n",
      "Test Accuracy - 95.8041958041958, Test Loss - 0.1573: 100%|██████████| 1/1 [00:00<00:00, 28.80it/s]\n"
     ]
    },
    {
     "name": "stdout",
     "output_type": "stream",
     "text": [
      "DETTOL COOL LIQUID SOAP WRAP 125 G<EOS>\n",
      "ALL OUT ULTRA MOSQUITO REPELLENT REFILL 175ML<EOS>\n"
     ]
    },
    {
     "name": "stderr",
     "output_type": "stream",
     "text": [
      "  0%|          | 0/5868 [00:00<?, ?it/s]"
     ]
    },
    {
     "name": "stdout",
     "output_type": "stream",
     "text": [
      "MORTEIN INSTANT REFILL PACKET 1<EOS>\n"
     ]
    },
    {
     "name": "stderr",
     "output_type": "stream",
     "text": [
      "Train Epoch - 146, Mini Batch - 5868, Train Accuracy - 91.06026195598832, Train Loss - 0.237: 100%|██████████| 5868/5868 [1:14:45<00:00,  1.31it/s] \n",
      "Test Accuracy - 95.8041958041958, Test Loss - 0.1514: 100%|██████████| 1/1 [00:00<00:00, 27.84it/s]\n"
     ]
    },
    {
     "name": "stdout",
     "output_type": "stream",
     "text": [
      "DETTOL COOL LIQUID HANDWASH REFILL 175 ML RECKITT BENCKISER<EOS>\n",
      "ALL OUT ULTRA MOSQUITO REPELLENT REFILL 175ML<EOS>\n"
     ]
    },
    {
     "name": "stderr",
     "output_type": "stream",
     "text": [
      "  0%|          | 0/5868 [00:00<?, ?it/s]"
     ]
    },
    {
     "name": "stdout",
     "output_type": "stream",
     "text": [
      "MORTEIN INSTANT REFILL PACKET 1<EOS>\n"
     ]
    },
    {
     "name": "stderr",
     "output_type": "stream",
     "text": [
      "Train Epoch - 147, Mini Batch - 5868, Train Accuracy - 91.06258514184618, Train Loss - 0.2171: 100%|██████████| 5868/5868 [1:14:42<00:00,  1.31it/s]\n",
      "Test Accuracy - 95.33799533799534, Test Loss - 0.1641: 100%|██████████| 1/1 [00:00<00:00, 24.03it/s]\n"
     ]
    },
    {
     "name": "stdout",
     "output_type": "stream",
     "text": [
      "DETTOL COOL LIQUID HANDWASH REFILL 175 ML RECKITT BENCKISER<EOS>\n",
      "ALL OUT ULTRA MOSQUITO REPELLENT REFILL 1 LTR LIQUID SURFACE SANITIZERS 2986545 SANITIZATION BOTTLE HOME CARE HYGIENE ESSENTIALS SANITIZER WIPES ALKA<EOS>\n"
     ]
    },
    {
     "name": "stderr",
     "output_type": "stream",
     "text": [
      "  0%|          | 0/5868 [00:00<?, ?it/s]"
     ]
    },
    {
     "name": "stdout",
     "output_type": "stream",
     "text": [
      "MORTEIN INSTANT REFILL PACKET 1<EOS>\n"
     ]
    },
    {
     "name": "stderr",
     "output_type": "stream",
     "text": [
      "Train Epoch - 148, Mini Batch - 5868, Train Accuracy - 91.06446327676097, Train Loss - 0.2579: 100%|██████████| 5868/5868 [1:14:36<00:00,  1.31it/s]\n",
      "Test Accuracy - 95.8041958041958, Test Loss - 0.1547: 100%|██████████| 1/1 [00:00<00:00, 21.69it/s]\n"
     ]
    },
    {
     "name": "stdout",
     "output_type": "stream",
     "text": [
      "DETTOL COOL LIQUID SOAP WRAP 125 G<EOS>\n",
      "ALL OUT ULTRA MOSQUITO REPELLENT REFILL 1 LTR LIQUID SANITIZERS 2986545 SANITIZATION BOTTLE HOME CARE HYGIENE ESSENTIALS SANITIZER WIPES ALKA<EOS>\n"
     ]
    },
    {
     "name": "stderr",
     "output_type": "stream",
     "text": [
      "  0%|          | 0/5868 [00:00<?, ?it/s]"
     ]
    },
    {
     "name": "stdout",
     "output_type": "stream",
     "text": [
      "MORTEIN INSTANT REFILL 1 LIQUID 450 ML 2<EOS>\n"
     ]
    },
    {
     "name": "stderr",
     "output_type": "stream",
     "text": [
      "Train Epoch - 149, Mini Batch - 5868, Train Accuracy - 91.06792724829482, Train Loss - 0.2466: 100%|██████████| 5868/5868 [1:14:30<00:00,  1.31it/s]\n",
      "Test Accuracy - 95.8041958041958, Test Loss - 0.1623: 100%|██████████| 1/1 [00:00<00:00, 23.40it/s]\n"
     ]
    },
    {
     "name": "stdout",
     "output_type": "stream",
     "text": [
      "DETTOL COOL LIQUID HANDWASH REFILL 175 ML RECKITT BENCKISER<EOS>\n",
      "ALL OUT ULTRA MOSQUITO REPELLENT REFILL 175ML<EOS>\n"
     ]
    },
    {
     "name": "stderr",
     "output_type": "stream",
     "text": [
      "  0%|          | 0/5868 [00:00<?, ?it/s]"
     ]
    },
    {
     "name": "stdout",
     "output_type": "stream",
     "text": [
      "MORTEIN INSTANT REFILL PACKET 1<EOS>\n"
     ]
    },
    {
     "name": "stderr",
     "output_type": "stream",
     "text": [
      "Train Epoch - 150, Mini Batch - 5868, Train Accuracy - 91.07038350089601, Train Loss - 0.2435: 100%|██████████| 5868/5868 [1:14:16<00:00,  1.32it/s]\n",
      "Test Accuracy - 95.8041958041958, Test Loss - 0.1602: 100%|██████████| 1/1 [00:00<00:00, 29.62it/s]\n"
     ]
    },
    {
     "name": "stdout",
     "output_type": "stream",
     "text": [
      "DETTOL COOL SOAP 75GM RECKITT BENCKISER<EOS>\n",
      "ALL OUT ULTRA MOSQUITO REPELLENT REPELLENT REFILL 175ML<EOS>\n"
     ]
    },
    {
     "name": "stderr",
     "output_type": "stream",
     "text": [
      "  0%|          | 0/5868 [00:00<?, ?it/s]"
     ]
    },
    {
     "name": "stdout",
     "output_type": "stream",
     "text": [
      "MORTEIN INSTANT REFILL 1 LIQUID 450 ML RECKITT BENCKISER<EOS>\n"
     ]
    },
    {
     "name": "stderr",
     "output_type": "stream",
     "text": [
      "Train Epoch - 151, Mini Batch - 5868, Train Accuracy - 91.0746378988528, Train Loss - 0.2644: 100%|██████████| 5868/5868 [1:14:17<00:00,  1.32it/s] \n",
      "Test Accuracy - 96.03729603729604, Test Loss - 0.1514: 100%|██████████| 1/1 [00:00<00:00, 28.86it/s]\n"
     ]
    },
    {
     "name": "stdout",
     "output_type": "stream",
     "text": [
      "DETTOL COOL SOAP 75GM RECKITT BENCKISER<EOS>\n",
      "ALL OUT ULTRA MOSQUITO REPELLENT REFILL 7.5ML 2<EOS>\n"
     ]
    },
    {
     "name": "stderr",
     "output_type": "stream",
     "text": [
      "  0%|          | 0/5868 [00:00<?, ?it/s]"
     ]
    },
    {
     "name": "stdout",
     "output_type": "stream",
     "text": [
      "MORTEIN INSTANT REFILL PACKET 1<EOS>\n"
     ]
    },
    {
     "name": "stderr",
     "output_type": "stream",
     "text": [
      "Train Epoch - 152, Mini Batch - 5868, Train Accuracy - 91.07473283973147, Train Loss - 0.2395: 100%|██████████| 5868/5868 [1:14:15<00:00,  1.32it/s]\n",
      "Test Accuracy - 95.8041958041958, Test Loss - 0.1535: 100%|██████████| 1/1 [00:00<00:00, 22.06it/s]\n"
     ]
    },
    {
     "name": "stdout",
     "output_type": "stream",
     "text": [
      "DETTOL COOL LIQUID HANDWASH REFILL 175 ML RECKITT BENCKISER<EOS>\n",
      "ALL OUT ULTRA MOSQUITO REPELLENT REFILL 175ML<EOS>\n"
     ]
    },
    {
     "name": "stderr",
     "output_type": "stream",
     "text": [
      "  0%|          | 0/5868 [00:00<?, ?it/s]"
     ]
    },
    {
     "name": "stdout",
     "output_type": "stream",
     "text": [
      "MORTEIN INSTANT REFILL PACKET 1<EOS>\n"
     ]
    },
    {
     "name": "stderr",
     "output_type": "stream",
     "text": [
      "Train Epoch - 153, Mini Batch - 5868, Train Accuracy - 91.07953221328314, Train Loss - 0.2615: 100%|██████████| 5868/5868 [1:14:23<00:00,  1.31it/s]\n",
      "Test Accuracy - 96.03729603729604, Test Loss - 0.1447: 100%|██████████| 1/1 [00:00<00:00, 24.98it/s]\n"
     ]
    },
    {
     "name": "stdout",
     "output_type": "stream",
     "text": [
      "DETTOL COOL SOAP 75GM RECKITT BENCKISER<EOS>\n",
      "ALL OUT ULTRA MOSQUITO REPELLENT REPELLENT REFILL 7.5ML<EOS>\n"
     ]
    },
    {
     "name": "stderr",
     "output_type": "stream",
     "text": [
      "  0%|          | 0/5868 [00:00<?, ?it/s]"
     ]
    },
    {
     "name": "stdout",
     "output_type": "stream",
     "text": [
      "MORTEIN INSTANT REFILL PACKET 1<EOS>\n"
     ]
    },
    {
     "name": "stderr",
     "output_type": "stream",
     "text": [
      "Train Epoch - 154, Mini Batch - 2142, Train Accuracy - 91.0786598432008, Train Loss - 0.2483:  37%|███▋      | 2142/5868 [27:16<48:09,  1.29it/s]   Exception in thread Thread-5:\n",
      "Traceback (most recent call last):\n",
      "  File \"/usr/lib/python3.8/threading.py\", line 932, in _bootstrap_inner\n",
      "    self.run()\n",
      "  File \"/home/qblocks/.local/lib/python3.8/site-packages/tensorboard/summary/writer/event_file_writer.py\", line 252, in run\n",
      "    self._record_writer.flush()\n",
      "  File \"/home/qblocks/.local/lib/python3.8/site-packages/tensorboard/summary/writer/record_writer.py\", line 43, in flush\n",
      "    self._writer.flush()\n",
      "  File \"/home/qblocks/.local/lib/python3.8/site-packages/tensorflow/python/lib/io/file_io.py\", line 222, in flush\n",
      "    self._writable_file.flush()\n",
      "tensorflow.python.framework.errors_impl.PermissionDeniedError: tensorboard/case_logs_v2/events.out.tfevents.1629005675.pharmeasy3090.303.0; Read-only file system\n",
      "Train Epoch - 154, Mini Batch - 3199, Train Accuracy - 91.07761917028489, Train Loss - 0.2568:  55%|█████▍    | 3199/5868 [40:40<32:36,  1.36it/s]"
     ]
    }
   ],
   "source": [
    "from pathlib import Path\n",
    "\n",
    "EPOCHS = 1000\n",
    "best_valid_loss = float(\"inf\")\n",
    "\n",
    "for epoch in range(checkpoint[\"epoch\"]+1, EPOCHS):\n",
    "    print(seq2seq([\"Reckitt\".upper()]))\n",
    "    print(seq2seq([\"all out\".upper()]))\n",
    "    print(seq2seq([\"MORTEIN\".upper()]))\n",
    "\n",
    "    train(epoch, model, device, trainloader, optimizer)\n",
    "    test_loss = test(model, device, testloader)\n",
    "\n",
    "    if test_loss < best_valid_loss:\n",
    "        torch.save(\n",
    "            {\n",
    "                \"epoch\": epoch,\n",
    "                \"model_state_dict\": model.state_dict(),\n",
    "                \"optimizer_state_dict\": optimizer.optimizer.state_dict(),\n",
    "                \"step_num\": optimizer.step_num,\n",
    "            },\n",
    "            folder_path + \"checkpoint/scratch/model.pt\",\n",
    "        )\n",
    "    \n",
    "    if epoch % 5 == 0:\n",
    "        path_ = folder_path + \"checkpoint/scratch/backup/\" + str(epoch)\n",
    "        Path(path_).mkdir(parents=True, exist_ok=True)\n",
    "        \n",
    "        torch.save(\n",
    "            {\n",
    "                \"epoch\": epoch,\n",
    "                \"model_state_dict\": model.state_dict(),\n",
    "                \"optimizer_state_dict\": optimizer.optimizer.state_dict(),\n",
    "                \"step_num\": optimizer.step_num,\n",
    "            },\n",
    "            path_ + \"/model.pt\",\n",
    "        )       \n",
    "\n",
    "        # best_valid_loss = test_loss"
   ]
  },
  {
   "cell_type": "code",
   "execution_count": null,
   "metadata": {},
   "outputs": [],
   "source": [
    "# try examples and explore - v1 Co trimoxazole\n",
    "query = ['oxi meter'.upper()]\n",
    "xx = [[corpus[0][v], corpus[2][v]] for v in __similar_topn__(np.array(infer(query)[0][1].cpu()), np.array(corpus[1]), 1000)][:300]\n",
    "xx"
   ]
  },
  {
   "cell_type": "code",
   "execution_count": 1,
   "metadata": {},
   "outputs": [
    {
     "name": "stdout",
     "output_type": "stream",
     "text": [
      "Sun Aug 15 05:31:03 2021       \n",
      "+-----------------------------------------------------------------------------+\n",
      "| NVIDIA-SMI 460.32.03    Driver Version: 460.32.03    CUDA Version: 11.2     |\n",
      "|-------------------------------+----------------------+----------------------+\n",
      "| GPU  Name        Persistence-M| Bus-Id        Disp.A | Volatile Uncorr. ECC |\n",
      "| Fan  Temp  Perf  Pwr:Usage/Cap|         Memory-Usage | GPU-Util  Compute M. |\n",
      "|                               |                      |               MIG M. |\n",
      "|===============================+======================+======================|\n",
      "|   0  GeForce RTX 3090    On   | 00000000:19:00.0 Off |                  N/A |\n",
      "| 53%   55C    P8    21W / 275W |      0MiB / 24268MiB |      0%      Default |\n",
      "|                               |                      |                  N/A |\n",
      "+-------------------------------+----------------------+----------------------+\n",
      "|   1  GeForce RTX 3090    On   | 00000000:1A:00.0 Off |                  N/A |\n",
      "| 47%   70C    P2   259W / 275W |  10801MiB / 24268MiB |     77%      Default |\n",
      "|                               |                      |                  N/A |\n",
      "+-------------------------------+----------------------+----------------------+\n",
      "|   2  GeForce RTX 3090    On   | 00000000:67:00.0 Off |                  N/A |\n",
      "|  0%   50C    P8    18W / 275W |  16381MiB / 24268MiB |      0%      Default |\n",
      "|                               |                      |                  N/A |\n",
      "+-------------------------------+----------------------+----------------------+\n",
      "|   3  GeForce RTX 3090    On   | 00000000:68:00.0 Off |                  N/A |\n",
      "| 31%   41C    P8    31W / 275W |      0MiB / 24265MiB |      0%      Default |\n",
      "|                               |                      |                  N/A |\n",
      "+-------------------------------+----------------------+----------------------+\n",
      "                                                                               \n",
      "+-----------------------------------------------------------------------------+\n",
      "| Processes:                                                                  |\n",
      "|  GPU   GI   CI        PID   Type   Process name                  GPU Memory |\n",
      "|        ID   ID                                                   Usage      |\n",
      "|=============================================================================|\n",
      "+-----------------------------------------------------------------------------+\n"
     ]
    }
   ],
   "source": [
    "!nvidia-smi"
   ]
  },
  {
   "cell_type": "code",
   "execution_count": null,
   "metadata": {},
   "outputs": [],
   "source": [
    "# oxy meter"
   ]
  },
  {
   "cell_type": "code",
   "execution_count": 22,
   "metadata": {},
   "outputs": [
    {
     "name": "stdout",
     "output_type": "stream",
     "text": [
      "Wed Mar 17 18:35:27 2021       \n",
      "+-----------------------------------------------------------------------------+\n",
      "| NVIDIA-SMI 460.32.03    Driver Version: 460.32.03    CUDA Version: 11.2     |\n",
      "|-------------------------------+----------------------+----------------------+\n",
      "| GPU  Name        Persistence-M| Bus-Id        Disp.A | Volatile Uncorr. ECC |\n",
      "| Fan  Temp  Perf  Pwr:Usage/Cap|         Memory-Usage | GPU-Util  Compute M. |\n",
      "|                               |                      |               MIG M. |\n",
      "|===============================+======================+======================|\n",
      "|   0  GeForce RTX 3090    On   | 00000000:19:00.0 Off |                  N/A |\n",
      "|  0%   56C    P8    18W / 300W |  24151MiB / 24268MiB |      0%      Default |\n",
      "|                               |                      |                  N/A |\n",
      "+-------------------------------+----------------------+----------------------+\n",
      "|   1  GeForce RTX 3090    On   | 00000000:1A:00.0 Off |                  N/A |\n",
      "| 31%   41C    P8    31W / 300W |  24015MiB / 24268MiB |      0%      Default |\n",
      "|                               |                      |                  N/A |\n",
      "+-------------------------------+----------------------+----------------------+\n",
      "                                                                               \n",
      "+-----------------------------------------------------------------------------+\n",
      "| Processes:                                                                  |\n",
      "|  GPU   GI   CI        PID   Type   Process name                  GPU Memory |\n",
      "|        ID   ID                                                   Usage      |\n",
      "|=============================================================================|\n",
      "+-----------------------------------------------------------------------------+\n"
     ]
    }
   ],
   "source": [
    "# (first 100 clean | 0 rest | no feedback), then (100 clean | 2 rest | feedback), then (100 clean | 0 rest | feedback)"
   ]
  },
  {
   "cell_type": "code",
   "execution_count": null,
   "metadata": {},
   "outputs": [],
   "source": [
    "from shutil import copyfile\n",
    "\n",
    "\n",
    "def save_checkpoint(checkpoint_name):\n",
    "    global model, config\n",
    "    \n",
    "    init_path = './checkpoint/'\n",
    "    checkpoint_path = init_path + checkpoint_name\n",
    "    \n",
    "    if not os.path.exists(checkpoint_path):\n",
    "        os.makedirs(checkpoint_path)\n",
    "    \n",
    "    # model\n",
    "    torch.save(model.state_dict(), checkpoint_path + '/model.pt')\n",
    "    \n",
    "    # configuration\n",
    "    with open(checkpoint_path + '/config.pkl', 'wb') as fp:\n",
    "        pickle.dump(config, fp)\n",
    "    \n",
    "    # training data\n",
    "    copyfile(training_data_path, checkpoint_path+'/training_data.pkl')"
   ]
  },
  {
   "cell_type": "code",
   "execution_count": 22,
   "metadata": {},
   "outputs": [],
   "source": [
    "# 88.253"
   ]
  },
  {
   "cell_type": "code",
   "execution_count": null,
   "metadata": {},
   "outputs": [],
   "source": [
    "# base catalog -> product level\n",
    "# output -> has less attributes\n",
    "# testing -> on same data\n",
    "\n",
    "# ['ucode', 'catalog']"
   ]
  },
  {
   "cell_type": "code",
   "execution_count": null,
   "metadata": {},
   "outputs": [],
   "source": [
    "# base catalog -> attribute level\n",
    "# output -> good number of attributes\n",
    "# testing -> on same data\n",
    "\n",
    "# ['ucode', 'catalog mdm and rest']"
   ]
  }
 ],
 "metadata": {
  "accelerator": "GPU",
  "colab": {
   "collapsed_sections": [],
   "machine_shape": "hm",
   "name": "test_case.ipynb",
   "provenance": []
  },
  "kernelspec": {
   "display_name": "Python 3 (ipykernel)",
   "language": "python",
   "name": "python3"
  },
  "language_info": {
   "codemirror_mode": {
    "name": "ipython",
    "version": 3
   },
   "file_extension": ".py",
   "mimetype": "text/x-python",
   "name": "python",
   "nbconvert_exporter": "python",
   "pygments_lexer": "ipython3",
   "version": "3.11.5"
  }
 },
 "nbformat": 4,
 "nbformat_minor": 4
}
