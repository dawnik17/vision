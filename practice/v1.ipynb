{
 "cells": [
  {
   "cell_type": "code",
   "execution_count": 1,
   "id": "adc1a45e-29b0-4a0f-8b42-4cee5fef3c6a",
   "metadata": {},
   "outputs": [],
   "source": [
    "import pandas as pd\n",
    "import numpy as np\n",
    "import matplotlib.pyplot as plt\n",
    "import seaborn as sns\n",
    "from tqdm import tqdm"
   ]
  },
  {
   "cell_type": "code",
   "execution_count": 2,
   "id": "06c4bd34-febf-4f74-b299-9f8ccae98b9c",
   "metadata": {},
   "outputs": [],
   "source": [
    "data = pd.read_csv(\"./fraud_order_classifier.csv\")"
   ]
  },
  {
   "cell_type": "code",
   "execution_count": 3,
   "id": "51fb1753-7cb8-47f6-9873-8c05cbc91693",
   "metadata": {},
   "outputs": [],
   "source": [
    "data.dropna(inplace=True)"
   ]
  },
  {
   "cell_type": "code",
   "execution_count": 4,
   "id": "5546d57d-860e-40c9-8c82-2b677530fec5",
   "metadata": {},
   "outputs": [
    {
     "data": {
      "text/html": [
       "<div>\n",
       "<style scoped>\n",
       "    .dataframe tbody tr th:only-of-type {\n",
       "        vertical-align: middle;\n",
       "    }\n",
       "\n",
       "    .dataframe tbody tr th {\n",
       "        vertical-align: top;\n",
       "    }\n",
       "\n",
       "    .dataframe thead th {\n",
       "        text-align: right;\n",
       "    }\n",
       "</style>\n",
       "<table border=\"1\" class=\"dataframe\">\n",
       "  <thead>\n",
       "    <tr style=\"text-align: right;\">\n",
       "      <th></th>\n",
       "      <th>order_id</th>\n",
       "      <th>product_id</th>\n",
       "      <th>quantity</th>\n",
       "      <th>selling_price</th>\n",
       "      <th>order_date</th>\n",
       "      <th>shipping_type</th>\n",
       "      <th>user_id</th>\n",
       "      <th>user_account_created_date</th>\n",
       "      <th>address_id</th>\n",
       "      <th>city</th>\n",
       "      <th>...</th>\n",
       "      <th>category_purchase_count_j9e</th>\n",
       "      <th>category_purchase_count_jek</th>\n",
       "      <th>category_purchase_count_tyy</th>\n",
       "      <th>category_purchase_count_vdm</th>\n",
       "      <th>category_purchase_count_X6bo</th>\n",
       "      <th>category_purchase_count_X2oq</th>\n",
       "      <th>category_purchase_count_mcr</th>\n",
       "      <th>category_purchase_count_osp</th>\n",
       "      <th>category_purchase_count_r18</th>\n",
       "      <th>label</th>\n",
       "    </tr>\n",
       "  </thead>\n",
       "  <tbody>\n",
       "    <tr>\n",
       "      <th>1</th>\n",
       "      <td>61c2c93a011a78c76d2e720120bbfd4c</td>\n",
       "      <td>7fec8d8425a12add61c7a83d8270a0cb</td>\n",
       "      <td>1</td>\n",
       "      <td>6999</td>\n",
       "      <td>2014-05-23</td>\n",
       "      <td>ndd</td>\n",
       "      <td>f1f9a2662d06cfd0abc8d2b7147ade37</td>\n",
       "      <td>2012-04-25 09:08:45</td>\n",
       "      <td>a3c2e034510ab9f992bf86ad6327fc6b</td>\n",
       "      <td>89e5701b3aee3a4011e76c441044028b</td>\n",
       "      <td>...</td>\n",
       "      <td>0.0</td>\n",
       "      <td>0.0</td>\n",
       "      <td>2.0</td>\n",
       "      <td>0.0</td>\n",
       "      <td>0.0</td>\n",
       "      <td>0.0</td>\n",
       "      <td>0.0</td>\n",
       "      <td>0.0</td>\n",
       "      <td>0.0</td>\n",
       "      <td>0</td>\n",
       "    </tr>\n",
       "    <tr>\n",
       "      <th>2</th>\n",
       "      <td>4049bffb21037c1ba41064802baa86f6</td>\n",
       "      <td>59f6d6f76798b14e053f136a5c726d65</td>\n",
       "      <td>1</td>\n",
       "      <td>5589</td>\n",
       "      <td>2014-05-28</td>\n",
       "      <td>non-ndd</td>\n",
       "      <td>a3e8c45cd263e72f7001303a8b22649c</td>\n",
       "      <td>2012-08-10 18:44:49</td>\n",
       "      <td>8fc0ad66f61f9612d9aec2e0ddeebc10</td>\n",
       "      <td>64f692fc1ed662e37a49acaf1c0d0b4a</td>\n",
       "      <td>...</td>\n",
       "      <td>0.0</td>\n",
       "      <td>0.0</td>\n",
       "      <td>8.0</td>\n",
       "      <td>0.0</td>\n",
       "      <td>0.0</td>\n",
       "      <td>0.0</td>\n",
       "      <td>0.0</td>\n",
       "      <td>0.0</td>\n",
       "      <td>0.0</td>\n",
       "      <td>0</td>\n",
       "    </tr>\n",
       "  </tbody>\n",
       "</table>\n",
       "<p>2 rows × 40 columns</p>\n",
       "</div>"
      ],
      "text/plain": [
       "                           order_id                        product_id  \\\n",
       "1  61c2c93a011a78c76d2e720120bbfd4c  7fec8d8425a12add61c7a83d8270a0cb   \n",
       "2  4049bffb21037c1ba41064802baa86f6  59f6d6f76798b14e053f136a5c726d65   \n",
       "\n",
       "   quantity  selling_price  order_date shipping_type  \\\n",
       "1         1           6999  2014-05-23           ndd   \n",
       "2         1           5589  2014-05-28       non-ndd   \n",
       "\n",
       "                            user_id user_account_created_date  \\\n",
       "1  f1f9a2662d06cfd0abc8d2b7147ade37       2012-04-25 09:08:45   \n",
       "2  a3e8c45cd263e72f7001303a8b22649c       2012-08-10 18:44:49   \n",
       "\n",
       "                         address_id                              city  ...  \\\n",
       "1  a3c2e034510ab9f992bf86ad6327fc6b  89e5701b3aee3a4011e76c441044028b  ...   \n",
       "2  8fc0ad66f61f9612d9aec2e0ddeebc10  64f692fc1ed662e37a49acaf1c0d0b4a  ...   \n",
       "\n",
       "  category_purchase_count_j9e category_purchase_count_jek  \\\n",
       "1                         0.0                         0.0   \n",
       "2                         0.0                         0.0   \n",
       "\n",
       "  category_purchase_count_tyy  category_purchase_count_vdm  \\\n",
       "1                         2.0                          0.0   \n",
       "2                         8.0                          0.0   \n",
       "\n",
       "   category_purchase_count_X6bo  category_purchase_count_X2oq  \\\n",
       "1                           0.0                           0.0   \n",
       "2                           0.0                           0.0   \n",
       "\n",
       "   category_purchase_count_mcr  category_purchase_count_osp  \\\n",
       "1                          0.0                          0.0   \n",
       "2                          0.0                          0.0   \n",
       "\n",
       "   category_purchase_count_r18  label  \n",
       "1                          0.0      0  \n",
       "2                          0.0      0  \n",
       "\n",
       "[2 rows x 40 columns]"
      ]
     },
     "execution_count": 4,
     "metadata": {},
     "output_type": "execute_result"
    }
   ],
   "source": [
    "labels = {\"normal\": 0, \"fraud\": 1}\n",
    "data[\"label\"] = data[\"label\"].map(labels)\n",
    "data.head(2)"
   ]
  },
  {
   "cell_type": "markdown",
   "id": "6e47398f-5dd3-44d7-94f9-bca3c2af44b3",
   "metadata": {},
   "source": [
    "# Time Encoding"
   ]
  },
  {
   "cell_type": "code",
   "execution_count": 5,
   "id": "16eb03ea-491b-4396-a7c8-106fb66b8fad",
   "metadata": {},
   "outputs": [],
   "source": [
    "# encoding cyclic features\n",
    "def cyclic_encoding(data, col, max_val):    \n",
    "    data[col + '_sin'] = np.sin(2 * np.pi * data[col] / max_val)\n",
    "    data[col + '_cos'] = np.cos(2 * np.pi * data[col] / max_val)\n",
    "    return data.drop(col, axis=1)\n",
    "\n",
    "def time_features(data, column):\n",
    "    data[column] = pd.to_datetime(data[column], errors='coerce')\n",
    "\n",
    "    data[f'{column} Year'] = data[column].dt.year\n",
    "    data[f'{column} Month'] = data[column].dt.month\n",
    "    \n",
    "    data[f'{column} Day'] = data[column].dt.day\n",
    "    data[f'{column} Hour'] = data[column].dt.hour\n",
    "    data[f'{column} Weekday'] = data[column].dt.dayofweek\n",
    "\n",
    "    # encode cyclic features\n",
    "    cols = [(\"Hour\", 24), (\"Month\", 12), (\"Day\", 31), (\"Weekday\", 7)]\n",
    "\n",
    "    for col, period in cols:\n",
    "        data = cyclic_encoding(data, f\"{column} {col}\", period)\n",
    "    \n",
    "    return data"
   ]
  },
  {
   "cell_type": "code",
   "execution_count": 6,
   "id": "b5fae53f-4f13-4770-8e88-d74a4b6e62b5",
   "metadata": {},
   "outputs": [
    {
     "data": {
      "text/html": [
       "<div>\n",
       "<style scoped>\n",
       "    .dataframe tbody tr th:only-of-type {\n",
       "        vertical-align: middle;\n",
       "    }\n",
       "\n",
       "    .dataframe tbody tr th {\n",
       "        vertical-align: top;\n",
       "    }\n",
       "\n",
       "    .dataframe thead th {\n",
       "        text-align: right;\n",
       "    }\n",
       "</style>\n",
       "<table border=\"1\" class=\"dataframe\">\n",
       "  <thead>\n",
       "    <tr style=\"text-align: right;\">\n",
       "      <th></th>\n",
       "      <th>order_id</th>\n",
       "      <th>product_id</th>\n",
       "      <th>quantity</th>\n",
       "      <th>selling_price</th>\n",
       "      <th>order_date</th>\n",
       "      <th>shipping_type</th>\n",
       "      <th>user_id</th>\n",
       "      <th>user_account_created_date</th>\n",
       "      <th>address_id</th>\n",
       "      <th>city</th>\n",
       "      <th>...</th>\n",
       "      <th>order_date Weekday_cos</th>\n",
       "      <th>user_account_created_date Year</th>\n",
       "      <th>user_account_created_date Hour_sin</th>\n",
       "      <th>user_account_created_date Hour_cos</th>\n",
       "      <th>user_account_created_date Month_sin</th>\n",
       "      <th>user_account_created_date Month_cos</th>\n",
       "      <th>user_account_created_date Day_sin</th>\n",
       "      <th>user_account_created_date Day_cos</th>\n",
       "      <th>user_account_created_date Weekday_sin</th>\n",
       "      <th>user_account_created_date Weekday_cos</th>\n",
       "    </tr>\n",
       "  </thead>\n",
       "  <tbody>\n",
       "    <tr>\n",
       "      <th>1</th>\n",
       "      <td>61c2c93a011a78c76d2e720120bbfd4c</td>\n",
       "      <td>7fec8d8425a12add61c7a83d8270a0cb</td>\n",
       "      <td>1</td>\n",
       "      <td>6999</td>\n",
       "      <td>2014-05-23</td>\n",
       "      <td>ndd</td>\n",
       "      <td>f1f9a2662d06cfd0abc8d2b7147ade37</td>\n",
       "      <td>2012-04-25 09:08:45</td>\n",
       "      <td>a3c2e034510ab9f992bf86ad6327fc6b</td>\n",
       "      <td>89e5701b3aee3a4011e76c441044028b</td>\n",
       "      <td>...</td>\n",
       "      <td>-0.900969</td>\n",
       "      <td>2012</td>\n",
       "      <td>0.707107</td>\n",
       "      <td>-7.071068e-01</td>\n",
       "      <td>0.866025</td>\n",
       "      <td>-0.5</td>\n",
       "      <td>-0.937752</td>\n",
       "      <td>0.347305</td>\n",
       "      <td>0.974928</td>\n",
       "      <td>-0.222521</td>\n",
       "    </tr>\n",
       "    <tr>\n",
       "      <th>2</th>\n",
       "      <td>4049bffb21037c1ba41064802baa86f6</td>\n",
       "      <td>59f6d6f76798b14e053f136a5c726d65</td>\n",
       "      <td>1</td>\n",
       "      <td>5589</td>\n",
       "      <td>2014-05-28</td>\n",
       "      <td>non-ndd</td>\n",
       "      <td>a3e8c45cd263e72f7001303a8b22649c</td>\n",
       "      <td>2012-08-10 18:44:49</td>\n",
       "      <td>8fc0ad66f61f9612d9aec2e0ddeebc10</td>\n",
       "      <td>64f692fc1ed662e37a49acaf1c0d0b4a</td>\n",
       "      <td>...</td>\n",
       "      <td>-0.222521</td>\n",
       "      <td>2012</td>\n",
       "      <td>-1.000000</td>\n",
       "      <td>-1.836970e-16</td>\n",
       "      <td>-0.866025</td>\n",
       "      <td>-0.5</td>\n",
       "      <td>0.897805</td>\n",
       "      <td>-0.440394</td>\n",
       "      <td>-0.433884</td>\n",
       "      <td>-0.900969</td>\n",
       "    </tr>\n",
       "  </tbody>\n",
       "</table>\n",
       "<p>2 rows × 58 columns</p>\n",
       "</div>"
      ],
      "text/plain": [
       "                           order_id                        product_id  \\\n",
       "1  61c2c93a011a78c76d2e720120bbfd4c  7fec8d8425a12add61c7a83d8270a0cb   \n",
       "2  4049bffb21037c1ba41064802baa86f6  59f6d6f76798b14e053f136a5c726d65   \n",
       "\n",
       "   quantity  selling_price order_date shipping_type  \\\n",
       "1         1           6999 2014-05-23           ndd   \n",
       "2         1           5589 2014-05-28       non-ndd   \n",
       "\n",
       "                            user_id user_account_created_date  \\\n",
       "1  f1f9a2662d06cfd0abc8d2b7147ade37       2012-04-25 09:08:45   \n",
       "2  a3e8c45cd263e72f7001303a8b22649c       2012-08-10 18:44:49   \n",
       "\n",
       "                         address_id                              city  ...  \\\n",
       "1  a3c2e034510ab9f992bf86ad6327fc6b  89e5701b3aee3a4011e76c441044028b  ...   \n",
       "2  8fc0ad66f61f9612d9aec2e0ddeebc10  64f692fc1ed662e37a49acaf1c0d0b4a  ...   \n",
       "\n",
       "  order_date Weekday_cos user_account_created_date Year  \\\n",
       "1              -0.900969                           2012   \n",
       "2              -0.222521                           2012   \n",
       "\n",
       "  user_account_created_date Hour_sin  user_account_created_date Hour_cos  \\\n",
       "1                           0.707107                       -7.071068e-01   \n",
       "2                          -1.000000                       -1.836970e-16   \n",
       "\n",
       "   user_account_created_date Month_sin  user_account_created_date Month_cos  \\\n",
       "1                             0.866025                                 -0.5   \n",
       "2                            -0.866025                                 -0.5   \n",
       "\n",
       "   user_account_created_date Day_sin  user_account_created_date Day_cos  \\\n",
       "1                          -0.937752                           0.347305   \n",
       "2                           0.897805                          -0.440394   \n",
       "\n",
       "   user_account_created_date Weekday_sin  \\\n",
       "1                               0.974928   \n",
       "2                              -0.433884   \n",
       "\n",
       "   user_account_created_date Weekday_cos  \n",
       "1                              -0.222521  \n",
       "2                              -0.900969  \n",
       "\n",
       "[2 rows x 58 columns]"
      ]
     },
     "execution_count": 6,
     "metadata": {},
     "output_type": "execute_result"
    }
   ],
   "source": [
    "date_cols = [\"order_date\", \"user_account_created_date\"]\n",
    "\n",
    "for date_col in date_cols:\n",
    "    data = time_features(data, date_col)\n",
    "\n",
    "data.head(2)"
   ]
  },
  {
   "cell_type": "code",
   "execution_count": 7,
   "id": "7c087754-884b-40d4-99c8-5ade4fe560b3",
   "metadata": {},
   "outputs": [
    {
     "data": {
      "text/html": [
       "<div>\n",
       "<style scoped>\n",
       "    .dataframe tbody tr th:only-of-type {\n",
       "        vertical-align: middle;\n",
       "    }\n",
       "\n",
       "    .dataframe tbody tr th {\n",
       "        vertical-align: top;\n",
       "    }\n",
       "\n",
       "    .dataframe thead th {\n",
       "        text-align: right;\n",
       "    }\n",
       "</style>\n",
       "<table border=\"1\" class=\"dataframe\">\n",
       "  <thead>\n",
       "    <tr style=\"text-align: right;\">\n",
       "      <th></th>\n",
       "      <th>order_id</th>\n",
       "      <th>product_id</th>\n",
       "      <th>quantity</th>\n",
       "      <th>selling_price</th>\n",
       "      <th>order_date</th>\n",
       "      <th>shipping_type</th>\n",
       "      <th>user_id</th>\n",
       "      <th>user_account_created_date</th>\n",
       "      <th>address_id</th>\n",
       "      <th>city</th>\n",
       "      <th>...</th>\n",
       "      <th>user_account_created_date Hour_sin</th>\n",
       "      <th>user_account_created_date Hour_cos</th>\n",
       "      <th>user_account_created_date Month_sin</th>\n",
       "      <th>user_account_created_date Month_cos</th>\n",
       "      <th>user_account_created_date Day_sin</th>\n",
       "      <th>user_account_created_date Day_cos</th>\n",
       "      <th>user_account_created_date Weekday_sin</th>\n",
       "      <th>user_account_created_date Weekday_cos</th>\n",
       "      <th>Duration Days</th>\n",
       "      <th>Duration Months</th>\n",
       "    </tr>\n",
       "  </thead>\n",
       "  <tbody>\n",
       "    <tr>\n",
       "      <th>1</th>\n",
       "      <td>61c2c93a011a78c76d2e720120bbfd4c</td>\n",
       "      <td>7fec8d8425a12add61c7a83d8270a0cb</td>\n",
       "      <td>1</td>\n",
       "      <td>6999</td>\n",
       "      <td>2014-05-23</td>\n",
       "      <td>ndd</td>\n",
       "      <td>f1f9a2662d06cfd0abc8d2b7147ade37</td>\n",
       "      <td>2012-04-25 09:08:45</td>\n",
       "      <td>a3c2e034510ab9f992bf86ad6327fc6b</td>\n",
       "      <td>89e5701b3aee3a4011e76c441044028b</td>\n",
       "      <td>...</td>\n",
       "      <td>0.707107</td>\n",
       "      <td>-7.071068e-01</td>\n",
       "      <td>0.866025</td>\n",
       "      <td>-0.5</td>\n",
       "      <td>-0.937752</td>\n",
       "      <td>0.347305</td>\n",
       "      <td>0.974928</td>\n",
       "      <td>-0.222521</td>\n",
       "      <td>758.0</td>\n",
       "      <td>25.0</td>\n",
       "    </tr>\n",
       "    <tr>\n",
       "      <th>2</th>\n",
       "      <td>4049bffb21037c1ba41064802baa86f6</td>\n",
       "      <td>59f6d6f76798b14e053f136a5c726d65</td>\n",
       "      <td>1</td>\n",
       "      <td>5589</td>\n",
       "      <td>2014-05-28</td>\n",
       "      <td>non-ndd</td>\n",
       "      <td>a3e8c45cd263e72f7001303a8b22649c</td>\n",
       "      <td>2012-08-10 18:44:49</td>\n",
       "      <td>8fc0ad66f61f9612d9aec2e0ddeebc10</td>\n",
       "      <td>64f692fc1ed662e37a49acaf1c0d0b4a</td>\n",
       "      <td>...</td>\n",
       "      <td>-1.000000</td>\n",
       "      <td>-1.836970e-16</td>\n",
       "      <td>-0.866025</td>\n",
       "      <td>-0.5</td>\n",
       "      <td>0.897805</td>\n",
       "      <td>-0.440394</td>\n",
       "      <td>-0.433884</td>\n",
       "      <td>-0.900969</td>\n",
       "      <td>655.0</td>\n",
       "      <td>22.0</td>\n",
       "    </tr>\n",
       "  </tbody>\n",
       "</table>\n",
       "<p>2 rows × 60 columns</p>\n",
       "</div>"
      ],
      "text/plain": [
       "                           order_id                        product_id  \\\n",
       "1  61c2c93a011a78c76d2e720120bbfd4c  7fec8d8425a12add61c7a83d8270a0cb   \n",
       "2  4049bffb21037c1ba41064802baa86f6  59f6d6f76798b14e053f136a5c726d65   \n",
       "\n",
       "   quantity  selling_price order_date shipping_type  \\\n",
       "1         1           6999 2014-05-23           ndd   \n",
       "2         1           5589 2014-05-28       non-ndd   \n",
       "\n",
       "                            user_id user_account_created_date  \\\n",
       "1  f1f9a2662d06cfd0abc8d2b7147ade37       2012-04-25 09:08:45   \n",
       "2  a3e8c45cd263e72f7001303a8b22649c       2012-08-10 18:44:49   \n",
       "\n",
       "                         address_id                              city  ...  \\\n",
       "1  a3c2e034510ab9f992bf86ad6327fc6b  89e5701b3aee3a4011e76c441044028b  ...   \n",
       "2  8fc0ad66f61f9612d9aec2e0ddeebc10  64f692fc1ed662e37a49acaf1c0d0b4a  ...   \n",
       "\n",
       "  user_account_created_date Hour_sin user_account_created_date Hour_cos  \\\n",
       "1                           0.707107                      -7.071068e-01   \n",
       "2                          -1.000000                      -1.836970e-16   \n",
       "\n",
       "  user_account_created_date Month_sin  user_account_created_date Month_cos  \\\n",
       "1                            0.866025                                 -0.5   \n",
       "2                           -0.866025                                 -0.5   \n",
       "\n",
       "   user_account_created_date Day_sin  user_account_created_date Day_cos  \\\n",
       "1                          -0.937752                           0.347305   \n",
       "2                           0.897805                          -0.440394   \n",
       "\n",
       "   user_account_created_date Weekday_sin  \\\n",
       "1                               0.974928   \n",
       "2                              -0.433884   \n",
       "\n",
       "   user_account_created_date Weekday_cos  Duration Days  Duration Months  \n",
       "1                              -0.222521          758.0             25.0  \n",
       "2                              -0.900969          655.0             22.0  \n",
       "\n",
       "[2 rows x 60 columns]"
      ]
     },
     "execution_count": 7,
     "metadata": {},
     "output_type": "execute_result"
    }
   ],
   "source": [
    "data['Duration Days'] = round((data['order_date'] - data['user_account_created_date']) / np.timedelta64(1, 'D'))\n",
    "data['Duration Months'] = round((data['order_date'] - data['user_account_created_date']) / np.timedelta64(1, 'M'))\n",
    "data.head(2)"
   ]
  },
  {
   "cell_type": "markdown",
   "id": "db6beb3e-d143-48b4-a202-6d235f5e0b23",
   "metadata": {},
   "source": [
    "# Train Test Split"
   ]
  },
  {
   "cell_type": "code",
   "execution_count": 8,
   "id": "232df5c4-feef-42bc-9ebc-56cc744ed42f",
   "metadata": {},
   "outputs": [
    {
     "name": "stdout",
     "output_type": "stream",
     "text": [
      "324034 137869\n"
     ]
    }
   ],
   "source": [
    "# Train-Test Split\n",
    "split_ratio = 0.7\n",
    "msk = np.random.rand(len(data)) < split_ratio\n",
    "\n",
    "train = data[msk]\n",
    "test = data[~msk]\n",
    "\n",
    "print(len(train), len(test))"
   ]
  },
  {
   "cell_type": "markdown",
   "id": "d3d9a0ca-5739-46b1-bc97-39acb0482e58",
   "metadata": {},
   "source": [
    "# Response Encoding"
   ]
  },
  {
   "cell_type": "code",
   "execution_count": 9,
   "id": "f9f1500b-f946-4047-89aa-48837435e10e",
   "metadata": {},
   "outputs": [
    {
     "name": "stderr",
     "output_type": "stream",
     "text": [
      "100%|█████████████████████████████████████████████████████████████████| 6/6 [00:03<00:00,  1.77it/s]\n"
     ]
    }
   ],
   "source": [
    "# Response Encoding\n",
    "def response_encoding(data, column, label=\"label\"):\n",
    "    value_counts = data.groupby(column)[label].value_counts().reset_index(name=\"count\")\n",
    "\n",
    "    x = data[[column]].drop_duplicates()\n",
    "    y = data[[label]].drop_duplicates()\n",
    "\n",
    "    x[\"temp\"] = 0\n",
    "    y[\"temp\"] = 0\n",
    "\n",
    "    temp = pd.merge(x, y, on=[\"temp\"])\n",
    "    temp.drop(columns=[\"temp\"], inplace=True)\n",
    "    temp.sort_values(by=[column, label], ascending=True, inplace=True)\n",
    "\n",
    "    value_counts = temp.merge(value_counts, how=\"left\")\n",
    "    value_counts.fillna(0, inplace=True)\n",
    "\n",
    "    numerator = value_counts.groupby(column, sort=False)[\"count\"].apply(np.array)\n",
    "    denominator = value_counts.groupby(column, sort=False)[\"count\"].sum()\n",
    "    \n",
    "    value_counts = (numerator / denominator).apply(lambda x: x.tolist())\n",
    "    return value_counts.to_dict()\n",
    "\n",
    "\n",
    "# categorical columns\n",
    "categorical_columns = [\"product_id\", \"shipping_type\", \"user_id\", \"city\", \"pincode\", \"vertical\"]\n",
    "categorical_encoding = {column: response_encoding(train, column) for column in tqdm(categorical_columns)}"
   ]
  },
  {
   "cell_type": "code",
   "execution_count": 10,
   "id": "9e60b9bc-8c4b-4c79-9961-3e097a086c16",
   "metadata": {},
   "outputs": [
    {
     "data": {
      "text/plain": [
       "{'ndd': [0.8864737406216506, 0.11352625937834941],\n",
       " 'non-ndd': [0.9589303945009959, 0.04106960549900402]}"
      ]
     },
     "execution_count": 10,
     "metadata": {},
     "output_type": "execute_result"
    }
   ],
   "source": [
    "categorical_encoding[\"shipping_type\"]"
   ]
  },
  {
   "cell_type": "markdown",
   "id": "ebbbb8bb-ebcf-4c6f-8c1a-6e87966dab13",
   "metadata": {},
   "source": [
    "# Feature Aggregation"
   ]
  },
  {
   "cell_type": "code",
   "execution_count": 11,
   "id": "dbfa2e9e-6f84-4080-b262-22d9fbad6ae3",
   "metadata": {},
   "outputs": [
    {
     "data": {
      "text/plain": [
       "0         [0.991701244813278, 0.008298755186721992, 0.95...\n",
       "1         [0.9809582817017761, 0.019041718298223875, 0.9...\n",
       "2         [0.9953051643192489, 0.004694835680751174, 0.9...\n",
       "3         [0.9737827715355806, 0.026217228464419477, 0.9...\n",
       "4         [0.9615384615384616, 0.038461538461538464, 0.8...\n",
       "                                ...                        \n",
       "137864    [1.0, 0.0, 0.9589303945009959, 0.0410696054990...\n",
       "137865    [1.0, 0.0, 0.9589303945009959, 0.0410696054990...\n",
       "137866    [1.0, 0.0, 0.9589303945009959, 0.0410696054990...\n",
       "137867    [1.0, 0.0, 0.9589303945009959, 0.0410696054990...\n",
       "137868    [0.9891304347826086, 0.010869565217391304, 0.9...\n",
       "Name: product_id, Length: 137869, dtype: object"
      ]
     },
     "execution_count": 11,
     "metadata": {},
     "output_type": "execute_result"
    }
   ],
   "source": [
    "# aggregate features for all categorical columns\n",
    "def aggregate_categorical_features(data):\n",
    "    func = lambda column: data[column].map(lambda x: categorical_encoding[column].get(x, [1/2] * 2))\n",
    "\n",
    "    categorical_features = func(categorical_columns[0])\n",
    "\n",
    "    for cat_col in categorical_columns[1:]:\n",
    "        categorical_features += func(cat_col)\n",
    "\n",
    "    return categorical_features\n",
    "\n",
    "\n",
    "train_categorical_features = aggregate_categorical_features(train).reset_index(drop=True)\n",
    "test_categorical_features = aggregate_categorical_features(test).reset_index(drop=True)\n",
    "\n",
    "test_categorical_features"
   ]
  },
  {
   "cell_type": "code",
   "execution_count": 12,
   "id": "f59322c9-0bf2-40bf-b1ec-5080f6df903a",
   "metadata": {},
   "outputs": [
    {
     "data": {
      "text/plain": [
       "['order_date Year',\n",
       " 'order_date Hour_sin',\n",
       " 'order_date Hour_cos',\n",
       " 'order_date Month_sin',\n",
       " 'order_date Month_cos',\n",
       " 'order_date Day_sin',\n",
       " 'order_date Day_cos',\n",
       " 'order_date Weekday_sin',\n",
       " 'order_date Weekday_cos',\n",
       " 'user_account_created_date Year',\n",
       " 'user_account_created_date Hour_sin',\n",
       " 'user_account_created_date Hour_cos',\n",
       " 'user_account_created_date Month_sin',\n",
       " 'user_account_created_date Month_cos',\n",
       " 'user_account_created_date Day_sin',\n",
       " 'user_account_created_date Day_cos',\n",
       " 'user_account_created_date Weekday_sin',\n",
       " 'user_account_created_date Weekday_cos']"
      ]
     },
     "execution_count": 12,
     "metadata": {},
     "output_type": "execute_result"
    }
   ],
   "source": [
    "cyclic_columns = list(data.columns[40:58])\n",
    "cyclic_columns"
   ]
  },
  {
   "cell_type": "code",
   "execution_count": 13,
   "id": "0318f083-4ff9-4937-ab82-89aca1aea83b",
   "metadata": {},
   "outputs": [
    {
     "data": {
      "text/plain": [
       "['Duration Days',\n",
       " 'Duration Months',\n",
       " 'category_purchase_count_X26x',\n",
       " 'category_purchase_count_X2oq',\n",
       " 'category_purchase_count_X4kt',\n",
       " 'category_purchase_count_X4rr',\n",
       " 'category_purchase_count_X6bo',\n",
       " 'category_purchase_count_amz',\n",
       " 'category_purchase_count_bks',\n",
       " 'category_purchase_count_ckf',\n",
       " 'category_purchase_count_dep',\n",
       " 'category_purchase_count_dgv',\n",
       " 'category_purchase_count_ixq',\n",
       " 'category_purchase_count_j9e',\n",
       " 'category_purchase_count_jek',\n",
       " 'category_purchase_count_kyh',\n",
       " 'category_purchase_count_mcr',\n",
       " 'category_purchase_count_mgl',\n",
       " 'category_purchase_count_osp',\n",
       " 'category_purchase_count_r18',\n",
       " 'category_purchase_count_reh',\n",
       " 'category_purchase_count_t06',\n",
       " 'category_purchase_count_tyy',\n",
       " 'category_purchase_count_vdm',\n",
       " 'count_14_days',\n",
       " 'count_28_days',\n",
       " 'count_56_days',\n",
       " 'discount',\n",
       " 'quantity',\n",
       " 'selling_price']"
      ]
     },
     "execution_count": 13,
     "metadata": {},
     "output_type": "execute_result"
    }
   ],
   "source": [
    "# list(data.columns[40:58])\n",
    "feature_columns = data.select_dtypes(include=['float64', 'int64']).columns\n",
    "feature_columns = feature_columns.drop(\"label\")\n",
    "numerical_columns = list(feature_columns.difference(cyclic_columns))\n",
    "numerical_columns"
   ]
  },
  {
   "cell_type": "code",
   "execution_count": 14,
   "id": "b72bd3ee-da4a-449f-a80d-ee4e8cd3439e",
   "metadata": {},
   "outputs": [],
   "source": [
    "# from sklearn.preprocessing import StandardScaler\n",
    "\n",
    "# scaler = StandardScaler()\n",
    "# data[numerical_columns] = scaler.fit_transform(data[numerical_columns])\n",
    "\n",
    "# data"
   ]
  },
  {
   "cell_type": "code",
   "execution_count": 15,
   "id": "02117b4c-f8f8-43d5-8d89-8e1fa3e07efa",
   "metadata": {},
   "outputs": [],
   "source": [
    "feature_columns = numerical_columns + cyclic_columns"
   ]
  },
  {
   "cell_type": "code",
   "execution_count": 16,
   "id": "6e5d9aea-96af-4d0a-bbe4-47191d77ad46",
   "metadata": {},
   "outputs": [],
   "source": [
    "y_train = train[\"label\"]\n",
    "X_train = pd.Series(train[feature_columns].values.tolist()) + train_categorical_features\n",
    "\n",
    "y_test = test[\"label\"]\n",
    "X_test = pd.Series(test[feature_columns].values.tolist()) + test_categorical_features"
   ]
  },
  {
   "cell_type": "code",
   "execution_count": 17,
   "id": "aa101a23-971f-46a7-b3c3-b7e545e7bb49",
   "metadata": {},
   "outputs": [],
   "source": [
    "X_train = np.array(X_train.tolist())\n",
    "X_test = np.array(X_test.tolist())"
   ]
  },
  {
   "cell_type": "code",
   "execution_count": 18,
   "id": "f13f796e-b272-4b7c-8f21-0e091f49b876",
   "metadata": {},
   "outputs": [
    {
     "data": {
      "text/plain": [
       "(array([[7.58000000e+02, 2.50000000e+01, 0.00000000e+00, ...,\n",
       "         1.90476190e-02, 9.08734336e-01, 9.12656644e-02],\n",
       "        [6.55000000e+02, 2.20000000e+01, 0.00000000e+00, ...,\n",
       "         0.00000000e+00, 5.88899167e-01, 4.11100833e-01],\n",
       "        [5.85000000e+02, 1.90000000e+01, 0.00000000e+00, ...,\n",
       "         7.54147813e-03, 9.92672097e-01, 7.32790258e-03],\n",
       "        ...,\n",
       "        [6.02000000e+02, 2.00000000e+01, 0.00000000e+00, ...,\n",
       "         2.34741784e-02, 9.92672097e-01, 7.32790258e-03],\n",
       "        [6.02000000e+02, 2.00000000e+01, 0.00000000e+00, ...,\n",
       "         2.34741784e-02, 9.92672097e-01, 7.32790258e-03],\n",
       "        [1.53000000e+02, 5.00000000e+00, 0.00000000e+00, ...,\n",
       "         0.00000000e+00, 8.96357106e-01, 1.03642894e-01]]),\n",
       " 1         0\n",
       " 2         0\n",
       " 3         0\n",
       " 5         0\n",
       " 6         0\n",
       "          ..\n",
       " 481099    0\n",
       " 481100    0\n",
       " 481103    0\n",
       " 481104    0\n",
       " 481106    0\n",
       " Name: label, Length: 324034, dtype: int64)"
      ]
     },
     "execution_count": 18,
     "metadata": {},
     "output_type": "execute_result"
    }
   ],
   "source": [
    "X_train, y_train"
   ]
  },
  {
   "cell_type": "code",
   "execution_count": 19,
   "id": "af3c870d-8361-4e42-af82-59ba62f1dbd4",
   "metadata": {},
   "outputs": [
    {
     "data": {
      "text/plain": [
       "(array([[ 5.85000000e+02,  1.90000000e+01,  0.00000000e+00, ...,\n",
       "          7.54147813e-03,  9.92672097e-01,  7.32790258e-03],\n",
       "        [-1.00000000e+00, -0.00000000e+00,  0.00000000e+00, ...,\n",
       "          3.57142857e-02,  9.08734336e-01,  9.12656644e-02],\n",
       "        [ 4.25000000e+02,  1.40000000e+01,  0.00000000e+00, ...,\n",
       "          8.44510681e-03,  9.92672097e-01,  7.32790258e-03],\n",
       "        ...,\n",
       "        [ 8.95000000e+02,  2.90000000e+01,  0.00000000e+00, ...,\n",
       "          1.86046512e-02,  9.92677824e-01,  7.32217573e-03],\n",
       "        [ 4.36000000e+02,  1.40000000e+01,  0.00000000e+00, ...,\n",
       "          1.54241645e-02,  9.92672097e-01,  7.32790258e-03],\n",
       "        [ 2.84000000e+02,  9.00000000e+00,  0.00000000e+00, ...,\n",
       "          3.33333333e-02,  9.93034393e-01,  6.96560731e-03]]),\n",
       " 4         0\n",
       " 13        0\n",
       " 16        0\n",
       " 17        0\n",
       " 20        0\n",
       "          ..\n",
       " 481094    0\n",
       " 481098    0\n",
       " 481101    0\n",
       " 481102    0\n",
       " 481105    0\n",
       " Name: label, Length: 137869, dtype: int64)"
      ]
     },
     "execution_count": 19,
     "metadata": {},
     "output_type": "execute_result"
    }
   ],
   "source": [
    "X_test, y_test"
   ]
  },
  {
   "cell_type": "markdown",
   "id": "4f83d5bc-b69e-42ba-aef5-d1b1b1e4600a",
   "metadata": {},
   "source": [
    "# Sampling for class imbalance (SMOTE)"
   ]
  },
  {
   "cell_type": "code",
   "execution_count": 20,
   "id": "351304f8-ce62-44a5-9761-08ca9aacf9bf",
   "metadata": {},
   "outputs": [],
   "source": [
    "from collections import Counter\n",
    "from imblearn.over_sampling import SMOTE\n",
    "from imblearn.under_sampling import RandomUnderSampler\n",
    "from imblearn.pipeline import Pipeline"
   ]
  },
  {
   "cell_type": "code",
   "execution_count": 21,
   "id": "04b996cb-27cd-4e84-b4b3-fe009deee1f6",
   "metadata": {},
   "outputs": [
    {
     "data": {
      "text/plain": [
       "Counter({0: 309036, 1: 14998})"
      ]
     },
     "execution_count": 21,
     "metadata": {},
     "output_type": "execute_result"
    }
   ],
   "source": [
    "counter = Counter(y_train)\n",
    "counter"
   ]
  },
  {
   "cell_type": "code",
   "execution_count": 22,
   "id": "8cef4d61-c12e-4d53-beeb-bcd6792aff19",
   "metadata": {},
   "outputs": [
    {
     "data": {
      "text/plain": [
       "Counter({0: 200000, 1: 30000})"
      ]
     },
     "execution_count": 22,
     "metadata": {},
     "output_type": "execute_result"
    }
   ],
   "source": [
    "under = RandomUnderSampler(sampling_strategy={0: 200000})\n",
    "over = SMOTE(sampling_strategy={1: 30000})\n",
    "\n",
    "steps = [('o', over), ('u', under)]\n",
    "pipeline = Pipeline(steps=steps)\n",
    "\n",
    "X_train, y_train = pipeline.fit_resample(X_train, y_train)\n",
    "counter = Counter(y_train)\n",
    "counter"
   ]
  },
  {
   "cell_type": "markdown",
   "id": "97068977-3750-4587-93f6-1cfadab232ca",
   "metadata": {},
   "source": [
    "# Modelling"
   ]
  },
  {
   "cell_type": "code",
   "execution_count": 23,
   "id": "a41ce2fb-e76d-4e42-b834-d2a665444bc5",
   "metadata": {},
   "outputs": [],
   "source": [
    "from sklearn import metrics\n",
    "from sklearn.metrics import f1_score, roc_curve, auc, confusion_matrix"
   ]
  },
  {
   "cell_type": "code",
   "execution_count": 24,
   "id": "d7356d4a-ed46-4df5-9aac-b9c7d83a7e9f",
   "metadata": {},
   "outputs": [],
   "source": [
    "def plot_roc_curve(model):\n",
    "    y_scores = model.predict_proba(X_test)[:, 1]\n",
    "    fpr, tpr, _ = roc_curve(y_test, y_scores)\n",
    "    \n",
    "    roc_auc = auc(fpr, tpr)\n",
    "    print(f\"AUC: {roc_auc}\")\n",
    "    \n",
    "    plt.figure(figsize=(8, 6))\n",
    "    \n",
    "    plt.plot(fpr, tpr, color='darkorange', lw=2, label='ROC curve (area = {:.2f})'.format(roc_auc))\n",
    "    plt.plot([0, 1], [0, 1], color='navy', lw=2, linestyle='--')\n",
    "    \n",
    "    plt.xlim([0.0, 1.0])\n",
    "    plt.ylim([0.0, 1.05])\n",
    "    \n",
    "    plt.xlabel('False Positive Rate')\n",
    "    plt.ylabel('True Positive Rate')\n",
    "    plt.title('ROC Curve')\n",
    "    plt.legend(loc='lower right')\n",
    "    plt.show()"
   ]
  },
  {
   "cell_type": "code",
   "execution_count": 32,
   "id": "66acb426-46cb-4483-b35d-4914a464bb87",
   "metadata": {},
   "outputs": [],
   "source": [
    "def model_stats(model):\n",
    "    # Training Accuracy\n",
    "    dtrain_predictions = model.predict(X_train)\n",
    "\n",
    "    print(\"\\nModel Report\")\n",
    "    print(\"Train Accuracy : %.4g\" % metrics.accuracy_score(y_train, dtrain_predictions))\n",
    "\n",
    "    # Testing Accuracy\n",
    "    dtest_predictions = model.predict(X_test)\n",
    "\n",
    "    print(\"\\nModel Report\")\n",
    "    print(\"Test Accuracy : %.4g\" % metrics.accuracy_score(y_test, dtest_predictions))\n",
    "\n",
    "    # F1 Score\n",
    "    print(\"\\n\")\n",
    "    print (\"The train f1 score is:\", f1_score(y_train, dtrain_predictions, average='weighted'))\n",
    "    print(\"The test f1 score is:\", f1_score(y_test, dtest_predictions, average='weighted'))\n",
    "\n",
    "    # Confusion Matrix\n",
    "    tn, fp, fn, tp = confusion_matrix(y_test, dtest_predictions).ravel()\n",
    "    print(f\"True Negative: {tn}, False Positive: {fp}, False Negative: {fn}, True Positive: {tp}\")\n",
    "    \n",
    "    # plot ROC\n",
    "    plot_roc_curve(model)"
   ]
  },
  {
   "cell_type": "markdown",
   "id": "6b5b1092-0086-4f2d-b4b9-ae4dbdae560e",
   "metadata": {},
   "source": [
    "# XGBoost "
   ]
  },
  {
   "cell_type": "code",
   "execution_count": 26,
   "id": "072098c5-a20b-4c27-89d2-38c54a8c1f6a",
   "metadata": {},
   "outputs": [],
   "source": [
    "import xgboost as xgb\n",
    "from xgboost.sklearn import XGBClassifier"
   ]
  },
  {
   "cell_type": "code",
   "execution_count": 27,
   "id": "4047e7d4-26e0-4eaf-989f-dc3166b78f54",
   "metadata": {},
   "outputs": [
    {
     "data": {
      "text/html": [
       "<style>#sk-container-id-1 {color: black;}#sk-container-id-1 pre{padding: 0;}#sk-container-id-1 div.sk-toggleable {background-color: white;}#sk-container-id-1 label.sk-toggleable__label {cursor: pointer;display: block;width: 100%;margin-bottom: 0;padding: 0.3em;box-sizing: border-box;text-align: center;}#sk-container-id-1 label.sk-toggleable__label-arrow:before {content: \"▸\";float: left;margin-right: 0.25em;color: #696969;}#sk-container-id-1 label.sk-toggleable__label-arrow:hover:before {color: black;}#sk-container-id-1 div.sk-estimator:hover label.sk-toggleable__label-arrow:before {color: black;}#sk-container-id-1 div.sk-toggleable__content {max-height: 0;max-width: 0;overflow: hidden;text-align: left;background-color: #f0f8ff;}#sk-container-id-1 div.sk-toggleable__content pre {margin: 0.2em;color: black;border-radius: 0.25em;background-color: #f0f8ff;}#sk-container-id-1 input.sk-toggleable__control:checked~div.sk-toggleable__content {max-height: 200px;max-width: 100%;overflow: auto;}#sk-container-id-1 input.sk-toggleable__control:checked~label.sk-toggleable__label-arrow:before {content: \"▾\";}#sk-container-id-1 div.sk-estimator input.sk-toggleable__control:checked~label.sk-toggleable__label {background-color: #d4ebff;}#sk-container-id-1 div.sk-label input.sk-toggleable__control:checked~label.sk-toggleable__label {background-color: #d4ebff;}#sk-container-id-1 input.sk-hidden--visually {border: 0;clip: rect(1px 1px 1px 1px);clip: rect(1px, 1px, 1px, 1px);height: 1px;margin: -1px;overflow: hidden;padding: 0;position: absolute;width: 1px;}#sk-container-id-1 div.sk-estimator {font-family: monospace;background-color: #f0f8ff;border: 1px dotted black;border-radius: 0.25em;box-sizing: border-box;margin-bottom: 0.5em;}#sk-container-id-1 div.sk-estimator:hover {background-color: #d4ebff;}#sk-container-id-1 div.sk-parallel-item::after {content: \"\";width: 100%;border-bottom: 1px solid gray;flex-grow: 1;}#sk-container-id-1 div.sk-label:hover label.sk-toggleable__label {background-color: #d4ebff;}#sk-container-id-1 div.sk-serial::before {content: \"\";position: absolute;border-left: 1px solid gray;box-sizing: border-box;top: 0;bottom: 0;left: 50%;z-index: 0;}#sk-container-id-1 div.sk-serial {display: flex;flex-direction: column;align-items: center;background-color: white;padding-right: 0.2em;padding-left: 0.2em;position: relative;}#sk-container-id-1 div.sk-item {position: relative;z-index: 1;}#sk-container-id-1 div.sk-parallel {display: flex;align-items: stretch;justify-content: center;background-color: white;position: relative;}#sk-container-id-1 div.sk-item::before, #sk-container-id-1 div.sk-parallel-item::before {content: \"\";position: absolute;border-left: 1px solid gray;box-sizing: border-box;top: 0;bottom: 0;left: 50%;z-index: -1;}#sk-container-id-1 div.sk-parallel-item {display: flex;flex-direction: column;z-index: 1;position: relative;background-color: white;}#sk-container-id-1 div.sk-parallel-item:first-child::after {align-self: flex-end;width: 50%;}#sk-container-id-1 div.sk-parallel-item:last-child::after {align-self: flex-start;width: 50%;}#sk-container-id-1 div.sk-parallel-item:only-child::after {width: 0;}#sk-container-id-1 div.sk-dashed-wrapped {border: 1px dashed gray;margin: 0 0.4em 0.5em 0.4em;box-sizing: border-box;padding-bottom: 0.4em;background-color: white;}#sk-container-id-1 div.sk-label label {font-family: monospace;font-weight: bold;display: inline-block;line-height: 1.2em;}#sk-container-id-1 div.sk-label-container {text-align: center;}#sk-container-id-1 div.sk-container {/* jupyter's `normalize.less` sets `[hidden] { display: none; }` but bootstrap.min.css set `[hidden] { display: none !important; }` so we also need the `!important` here to be able to override the default hidden behavior on the sphinx rendered scikit-learn.org. See: https://github.com/scikit-learn/scikit-learn/issues/21755 */display: inline-block !important;position: relative;}#sk-container-id-1 div.sk-text-repr-fallback {display: none;}</style><div id=\"sk-container-id-1\" class=\"sk-top-container\"><div class=\"sk-text-repr-fallback\"><pre>XGBClassifier(base_score=None, booster=None, callbacks=None,\n",
       "              colsample_bylevel=None, colsample_bynode=None, colsample_bytree=1,\n",
       "              device=None, early_stopping_rounds=None, enable_categorical=False,\n",
       "              eval_metric=None, feature_types=None, gamma=None,\n",
       "              grow_policy=None, importance_type=None,\n",
       "              interaction_constraints=None, learning_rate=0.15, max_bin=None,\n",
       "              max_cat_threshold=None, max_cat_to_onehot=None,\n",
       "              max_delta_step=None, max_depth=20, max_leaves=None,\n",
       "              min_child_weight=None, missing=nan, monotone_constraints=None,\n",
       "              multi_strategy=None, n_estimators=1000, n_jobs=None, num_class=2,\n",
       "              num_parallel_tree=None, ...)</pre><b>In a Jupyter environment, please rerun this cell to show the HTML representation or trust the notebook. <br />On GitHub, the HTML representation is unable to render, please try loading this page with nbviewer.org.</b></div><div class=\"sk-container\" hidden><div class=\"sk-item\"><div class=\"sk-estimator sk-toggleable\"><input class=\"sk-toggleable__control sk-hidden--visually\" id=\"sk-estimator-id-1\" type=\"checkbox\" checked><label for=\"sk-estimator-id-1\" class=\"sk-toggleable__label sk-toggleable__label-arrow\">XGBClassifier</label><div class=\"sk-toggleable__content\"><pre>XGBClassifier(base_score=None, booster=None, callbacks=None,\n",
       "              colsample_bylevel=None, colsample_bynode=None, colsample_bytree=1,\n",
       "              device=None, early_stopping_rounds=None, enable_categorical=False,\n",
       "              eval_metric=None, feature_types=None, gamma=None,\n",
       "              grow_policy=None, importance_type=None,\n",
       "              interaction_constraints=None, learning_rate=0.15, max_bin=None,\n",
       "              max_cat_threshold=None, max_cat_to_onehot=None,\n",
       "              max_delta_step=None, max_depth=20, max_leaves=None,\n",
       "              min_child_weight=None, missing=nan, monotone_constraints=None,\n",
       "              multi_strategy=None, n_estimators=1000, n_jobs=None, num_class=2,\n",
       "              num_parallel_tree=None, ...)</pre></div></div></div></div></div>"
      ],
      "text/plain": [
       "XGBClassifier(base_score=None, booster=None, callbacks=None,\n",
       "              colsample_bylevel=None, colsample_bynode=None, colsample_bytree=1,\n",
       "              device=None, early_stopping_rounds=None, enable_categorical=False,\n",
       "              eval_metric=None, feature_types=None, gamma=None,\n",
       "              grow_policy=None, importance_type=None,\n",
       "              interaction_constraints=None, learning_rate=0.15, max_bin=None,\n",
       "              max_cat_threshold=None, max_cat_to_onehot=None,\n",
       "              max_delta_step=None, max_depth=20, max_leaves=None,\n",
       "              min_child_weight=None, missing=nan, monotone_constraints=None,\n",
       "              multi_strategy=None, n_estimators=1000, n_jobs=None, num_class=2,\n",
       "              num_parallel_tree=None, ...)"
      ]
     },
     "execution_count": 27,
     "metadata": {},
     "output_type": "execute_result"
    }
   ],
   "source": [
    "# Training with best parameters\n",
    "x_cfl = XGBClassifier(objective='multi:softmax',\n",
    "                      num_class=2,\n",
    "                      colsample_bytree=1,\n",
    "                      learning_rate=0.15,\n",
    "                      max_depth=20,\n",
    "                      n_estimators=1000,\n",
    "                      subsample=0.3)\n",
    "\n",
    "x_cfl.fit(X_train, y_train)"
   ]
  },
  {
   "cell_type": "code",
   "execution_count": 33,
   "id": "154abf46-3c8e-49bf-b2ce-7c4c5de35132",
   "metadata": {},
   "outputs": [
    {
     "name": "stdout",
     "output_type": "stream",
     "text": [
      "\n",
      "Model Report\n",
      "Train Accuracy : 1\n",
      "\n",
      "Model Report\n",
      "Test Accuracy : 0.8986\n",
      "\n",
      "\n",
      "The train f1 score is: 0.9999956522047094\n",
      "The test f1 score is: 0.9201862444749797\n",
      "True Negative: 118790, False Positive: 12681, False Negative: 1297, True Positive: 5101\n",
      "AUC: 0.9336172814432666\n"
     ]
    },
    {
     "data": {
      "image/png": "[encoded data removed]",
      "text/plain": [
       "<Figure size 800x600 with 1 Axes>"
      ]
     },
     "metadata": {},
     "output_type": "display_data"
    }
   ],
   "source": [
    "model_stats(x_cfl)"
   ]
  },
  {
   "cell_type": "markdown",
   "id": "95c79d02-df0c-4790-8133-b0c4bb841fd0",
   "metadata": {},
   "source": [
    "# Random Forest Classifier"
   ]
  },
  {
   "cell_type": "code",
   "execution_count": 34,
   "id": "adf173e5-519b-4f49-9fac-147145c6e4bb",
   "metadata": {},
   "outputs": [],
   "source": [
    "from sklearn.ensemble import RandomForestClassifier"
   ]
  },
  {
   "cell_type": "code",
   "execution_count": 35,
   "id": "d9428634-c7c0-4068-84db-913b5380859a",
   "metadata": {},
   "outputs": [
    {
     "data": {
      "text/html": [
       "<style>#sk-container-id-3 {color: black;}#sk-container-id-3 pre{padding: 0;}#sk-container-id-3 div.sk-toggleable {background-color: white;}#sk-container-id-3 label.sk-toggleable__label {cursor: pointer;display: block;width: 100%;margin-bottom: 0;padding: 0.3em;box-sizing: border-box;text-align: center;}#sk-container-id-3 label.sk-toggleable__label-arrow:before {content: \"▸\";float: left;margin-right: 0.25em;color: #696969;}#sk-container-id-3 label.sk-toggleable__label-arrow:hover:before {color: black;}#sk-container-id-3 div.sk-estimator:hover label.sk-toggleable__label-arrow:before {color: black;}#sk-container-id-3 div.sk-toggleable__content {max-height: 0;max-width: 0;overflow: hidden;text-align: left;background-color: #f0f8ff;}#sk-container-id-3 div.sk-toggleable__content pre {margin: 0.2em;color: black;border-radius: 0.25em;background-color: #f0f8ff;}#sk-container-id-3 input.sk-toggleable__control:checked~div.sk-toggleable__content {max-height: 200px;max-width: 100%;overflow: auto;}#sk-container-id-3 input.sk-toggleable__control:checked~label.sk-toggleable__label-arrow:before {content: \"▾\";}#sk-container-id-3 div.sk-estimator input.sk-toggleable__control:checked~label.sk-toggleable__label {background-color: #d4ebff;}#sk-container-id-3 div.sk-label input.sk-toggleable__control:checked~label.sk-toggleable__label {background-color: #d4ebff;}#sk-container-id-3 input.sk-hidden--visually {border: 0;clip: rect(1px 1px 1px 1px);clip: rect(1px, 1px, 1px, 1px);height: 1px;margin: -1px;overflow: hidden;padding: 0;position: absolute;width: 1px;}#sk-container-id-3 div.sk-estimator {font-family: monospace;background-color: #f0f8ff;border: 1px dotted black;border-radius: 0.25em;box-sizing: border-box;margin-bottom: 0.5em;}#sk-container-id-3 div.sk-estimator:hover {background-color: #d4ebff;}#sk-container-id-3 div.sk-parallel-item::after {content: \"\";width: 100%;border-bottom: 1px solid gray;flex-grow: 1;}#sk-container-id-3 div.sk-label:hover label.sk-toggleable__label {background-color: #d4ebff;}#sk-container-id-3 div.sk-serial::before {content: \"\";position: absolute;border-left: 1px solid gray;box-sizing: border-box;top: 0;bottom: 0;left: 50%;z-index: 0;}#sk-container-id-3 div.sk-serial {display: flex;flex-direction: column;align-items: center;background-color: white;padding-right: 0.2em;padding-left: 0.2em;position: relative;}#sk-container-id-3 div.sk-item {position: relative;z-index: 1;}#sk-container-id-3 div.sk-parallel {display: flex;align-items: stretch;justify-content: center;background-color: white;position: relative;}#sk-container-id-3 div.sk-item::before, #sk-container-id-3 div.sk-parallel-item::before {content: \"\";position: absolute;border-left: 1px solid gray;box-sizing: border-box;top: 0;bottom: 0;left: 50%;z-index: -1;}#sk-container-id-3 div.sk-parallel-item {display: flex;flex-direction: column;z-index: 1;position: relative;background-color: white;}#sk-container-id-3 div.sk-parallel-item:first-child::after {align-self: flex-end;width: 50%;}#sk-container-id-3 div.sk-parallel-item:last-child::after {align-self: flex-start;width: 50%;}#sk-container-id-3 div.sk-parallel-item:only-child::after {width: 0;}#sk-container-id-3 div.sk-dashed-wrapped {border: 1px dashed gray;margin: 0 0.4em 0.5em 0.4em;box-sizing: border-box;padding-bottom: 0.4em;background-color: white;}#sk-container-id-3 div.sk-label label {font-family: monospace;font-weight: bold;display: inline-block;line-height: 1.2em;}#sk-container-id-3 div.sk-label-container {text-align: center;}#sk-container-id-3 div.sk-container {/* jupyter's `normalize.less` sets `[hidden] { display: none; }` but bootstrap.min.css set `[hidden] { display: none !important; }` so we also need the `!important` here to be able to override the default hidden behavior on the sphinx rendered scikit-learn.org. See: https://github.com/scikit-learn/scikit-learn/issues/21755 */display: inline-block !important;position: relative;}#sk-container-id-3 div.sk-text-repr-fallback {display: none;}</style><div id=\"sk-container-id-3\" class=\"sk-top-container\"><div class=\"sk-text-repr-fallback\"><pre>RandomForestClassifier(class_weight=&#x27;balanced&#x27;, max_depth=20, n_estimators=1000,\n",
       "                       n_jobs=-1)</pre><b>In a Jupyter environment, please rerun this cell to show the HTML representation or trust the notebook. <br />On GitHub, the HTML representation is unable to render, please try loading this page with nbviewer.org.</b></div><div class=\"sk-container\" hidden><div class=\"sk-item\"><div class=\"sk-estimator sk-toggleable\"><input class=\"sk-toggleable__control sk-hidden--visually\" id=\"sk-estimator-id-3\" type=\"checkbox\" checked><label for=\"sk-estimator-id-3\" class=\"sk-toggleable__label sk-toggleable__label-arrow\">RandomForestClassifier</label><div class=\"sk-toggleable__content\"><pre>RandomForestClassifier(class_weight=&#x27;balanced&#x27;, max_depth=20, n_estimators=1000,\n",
       "                       n_jobs=-1)</pre></div></div></div></div></div>"
      ],
      "text/plain": [
       "RandomForestClassifier(class_weight='balanced', max_depth=20, n_estimators=1000,\n",
       "                       n_jobs=-1)"
      ]
     },
     "execution_count": 35,
     "metadata": {},
     "output_type": "execute_result"
    }
   ],
   "source": [
    "rf = RandomForestClassifier(n_jobs=-1,\n",
    "                            bootstrap=True,\n",
    "                            n_estimators=1000,\n",
    "                            max_depth=20,\n",
    "                            class_weight='balanced')\n",
    "\n",
    "rf.fit(X_train, y_train)"
   ]
  },
  {
   "cell_type": "code",
   "execution_count": 36,
   "id": "0c31a855-7850-4a96-9cfc-8442c0fe527c",
   "metadata": {},
   "outputs": [
    {
     "name": "stdout",
     "output_type": "stream",
     "text": [
      "\n",
      "Model Report\n",
      "Train Accuracy : 1\n",
      "\n",
      "Model Report\n",
      "Test Accuracy : 0.8236\n",
      "\n",
      "\n",
      "The train f1 score is: 1.0\n",
      "The test f1 score is: 0.871350847924707\n",
      "True Negative: 108291, False Positive: 23180, False Negative: 1137, True Positive: 5261\n",
      "AUC: 0.9287896966351094\n"
     ]
    },
    {
     "data": {
      "image/png": "[encoded data removed]",
      "text/plain": [
       "<Figure size 800x600 with 1 Axes>"
      ]
     },
     "metadata": {},
     "output_type": "display_data"
    }
   ],
   "source": [
    "model_stats(rf) "
   ]
  },
  {
   "cell_type": "markdown",
   "id": "0e9c971d-c9da-47fb-ae19-79b6f01e73be",
   "metadata": {},
   "source": [
    "# Logistic Regression"
   ]
  },
  {
   "cell_type": "code",
   "execution_count": 37,
   "id": "11955987-821c-4ab2-973a-4a0b2950f9b3",
   "metadata": {},
   "outputs": [],
   "source": [
    "from sklearn.linear_model import LogisticRegression"
   ]
  },
  {
   "cell_type": "code",
   "execution_count": 38,
   "id": "d6bea8cd-4f86-4d76-9770-0097865c8a33",
   "metadata": {},
   "outputs": [
    {
     "name": "stderr",
     "output_type": "stream",
     "text": [
      "/Users/dawn/git/vision/venv/lib/python3.11/site-packages/sklearn/linear_model/_logistic.py:460: ConvergenceWarning: lbfgs failed to converge (status=1):\n",
      "STOP: TOTAL NO. of ITERATIONS REACHED LIMIT.\n",
      "\n",
      "Increase the number of iterations (max_iter) or scale the data as shown in:\n",
      "    https://scikit-learn.org/stable/modules/preprocessing.html\n",
      "Please also refer to the documentation for alternative solver options:\n",
      "    https://scikit-learn.org/stable/modules/linear_model.html#logistic-regression\n",
      "  n_iter_i = _check_optimize_result(\n"
     ]
    },
    {
     "data": {
      "text/html": [
       "<style>#sk-container-id-4 {color: black;}#sk-container-id-4 pre{padding: 0;}#sk-container-id-4 div.sk-toggleable {background-color: white;}#sk-container-id-4 label.sk-toggleable__label {cursor: pointer;display: block;width: 100%;margin-bottom: 0;padding: 0.3em;box-sizing: border-box;text-align: center;}#sk-container-id-4 label.sk-toggleable__label-arrow:before {content: \"▸\";float: left;margin-right: 0.25em;color: #696969;}#sk-container-id-4 label.sk-toggleable__label-arrow:hover:before {color: black;}#sk-container-id-4 div.sk-estimator:hover label.sk-toggleable__label-arrow:before {color: black;}#sk-container-id-4 div.sk-toggleable__content {max-height: 0;max-width: 0;overflow: hidden;text-align: left;background-color: #f0f8ff;}#sk-container-id-4 div.sk-toggleable__content pre {margin: 0.2em;color: black;border-radius: 0.25em;background-color: #f0f8ff;}#sk-container-id-4 input.sk-toggleable__control:checked~div.sk-toggleable__content {max-height: 200px;max-width: 100%;overflow: auto;}#sk-container-id-4 input.sk-toggleable__control:checked~label.sk-toggleable__label-arrow:before {content: \"▾\";}#sk-container-id-4 div.sk-estimator input.sk-toggleable__control:checked~label.sk-toggleable__label {background-color: #d4ebff;}#sk-container-id-4 div.sk-label input.sk-toggleable__control:checked~label.sk-toggleable__label {background-color: #d4ebff;}#sk-container-id-4 input.sk-hidden--visually {border: 0;clip: rect(1px 1px 1px 1px);clip: rect(1px, 1px, 1px, 1px);height: 1px;margin: -1px;overflow: hidden;padding: 0;position: absolute;width: 1px;}#sk-container-id-4 div.sk-estimator {font-family: monospace;background-color: #f0f8ff;border: 1px dotted black;border-radius: 0.25em;box-sizing: border-box;margin-bottom: 0.5em;}#sk-container-id-4 div.sk-estimator:hover {background-color: #d4ebff;}#sk-container-id-4 div.sk-parallel-item::after {content: \"\";width: 100%;border-bottom: 1px solid gray;flex-grow: 1;}#sk-container-id-4 div.sk-label:hover label.sk-toggleable__label {background-color: #d4ebff;}#sk-container-id-4 div.sk-serial::before {content: \"\";position: absolute;border-left: 1px solid gray;box-sizing: border-box;top: 0;bottom: 0;left: 50%;z-index: 0;}#sk-container-id-4 div.sk-serial {display: flex;flex-direction: column;align-items: center;background-color: white;padding-right: 0.2em;padding-left: 0.2em;position: relative;}#sk-container-id-4 div.sk-item {position: relative;z-index: 1;}#sk-container-id-4 div.sk-parallel {display: flex;align-items: stretch;justify-content: center;background-color: white;position: relative;}#sk-container-id-4 div.sk-item::before, #sk-container-id-4 div.sk-parallel-item::before {content: \"\";position: absolute;border-left: 1px solid gray;box-sizing: border-box;top: 0;bottom: 0;left: 50%;z-index: -1;}#sk-container-id-4 div.sk-parallel-item {display: flex;flex-direction: column;z-index: 1;position: relative;background-color: white;}#sk-container-id-4 div.sk-parallel-item:first-child::after {align-self: flex-end;width: 50%;}#sk-container-id-4 div.sk-parallel-item:last-child::after {align-self: flex-start;width: 50%;}#sk-container-id-4 div.sk-parallel-item:only-child::after {width: 0;}#sk-container-id-4 div.sk-dashed-wrapped {border: 1px dashed gray;margin: 0 0.4em 0.5em 0.4em;box-sizing: border-box;padding-bottom: 0.4em;background-color: white;}#sk-container-id-4 div.sk-label label {font-family: monospace;font-weight: bold;display: inline-block;line-height: 1.2em;}#sk-container-id-4 div.sk-label-container {text-align: center;}#sk-container-id-4 div.sk-container {/* jupyter's `normalize.less` sets `[hidden] { display: none; }` but bootstrap.min.css set `[hidden] { display: none !important; }` so we also need the `!important` here to be able to override the default hidden behavior on the sphinx rendered scikit-learn.org. See: https://github.com/scikit-learn/scikit-learn/issues/21755 */display: inline-block !important;position: relative;}#sk-container-id-4 div.sk-text-repr-fallback {display: none;}</style><div id=\"sk-container-id-4\" class=\"sk-top-container\"><div class=\"sk-text-repr-fallback\"><pre>LogisticRegression(C=100)</pre><b>In a Jupyter environment, please rerun this cell to show the HTML representation or trust the notebook. <br />On GitHub, the HTML representation is unable to render, please try loading this page with nbviewer.org.</b></div><div class=\"sk-container\" hidden><div class=\"sk-item\"><div class=\"sk-estimator sk-toggleable\"><input class=\"sk-toggleable__control sk-hidden--visually\" id=\"sk-estimator-id-4\" type=\"checkbox\" checked><label for=\"sk-estimator-id-4\" class=\"sk-toggleable__label sk-toggleable__label-arrow\">LogisticRegression</label><div class=\"sk-toggleable__content\"><pre>LogisticRegression(C=100)</pre></div></div></div></div></div>"
      ],
      "text/plain": [
       "LogisticRegression(C=100)"
      ]
     },
     "execution_count": 38,
     "metadata": {},
     "output_type": "execute_result"
    }
   ],
   "source": [
    "lreg = LogisticRegression(C=100)\n",
    "lreg.fit(X_train,y_train)"
   ]
  },
  {
   "cell_type": "code",
   "execution_count": 39,
   "id": "f9be77b3-bee2-4ab6-8fc7-0a7a609d265c",
   "metadata": {},
   "outputs": [
    {
     "name": "stdout",
     "output_type": "stream",
     "text": [
      "\n",
      "Model Report\n",
      "Train Accuracy : 0.879\n",
      "\n",
      "Model Report\n",
      "Test Accuracy : 0.9468\n",
      "\n",
      "\n",
      "The train f1 score is: 0.848358159280433\n",
      "The test f1 score is: 0.9386399853674903\n",
      "True Negative: 129338, False Positive: 2133, False Negative: 5208, True Positive: 1190\n",
      "AUC: 0.8679310260435881\n"
     ]
    },
    {
     "data": {
      "image/png": "[encoded data removed]",
      "text/plain": [
       "<Figure size 800x600 with 1 Axes>"
      ]
     },
     "metadata": {},
     "output_type": "display_data"
    }
   ],
   "source": [
    "model_stats(lreg)"
   ]
  },
  {
   "cell_type": "markdown",
   "id": "2f3e9c7a-48d4-41d2-9eca-a7cc40da2e52",
   "metadata": {},
   "source": [
    "# MLP"
   ]
  },
  {
   "cell_type": "code",
   "execution_count": 40,
   "id": "c8df94e9-c5c7-4583-a056-604670ff5230",
   "metadata": {},
   "outputs": [
    {
     "data": {
      "text/plain": [
       "<torch._C.Generator at 0x2df9b1e50>"
      ]
     },
     "execution_count": 40,
     "metadata": {},
     "output_type": "execute_result"
    }
   ],
   "source": [
    "import os\n",
    "import math\n",
    "import warnings\n",
    "from tqdm import tqdm\n",
    "\n",
    "import torch\n",
    "import torch.nn as nn\n",
    "import torch.optim as optim\n",
    "import torch.nn.functional as F\n",
    "from torch.utils.data import Dataset\n",
    "\n",
    "warnings.filterwarnings(\"ignore\")\n",
    "torch.manual_seed(0)"
   ]
  },
  {
   "cell_type": "code",
   "execution_count": 41,
   "id": "cc5a9ae9-c4c2-407a-ab15-80b39a58e6a1",
   "metadata": {},
   "outputs": [],
   "source": [
    "class CDataset(Dataset):\n",
    "    def __init__(self, x, y):\n",
    "        self.x = x\n",
    "        self.y = y\n",
    "\n",
    "    def __len__(self):\n",
    "        return len(self.x)\n",
    "\n",
    "    def __getitem__(self, idx):\n",
    "        features = self.x[idx]\n",
    "        target = self.y[idx]\n",
    "\n",
    "        return torch.tensor(features, dtype=torch.float32), torch.LongTensor([target])\n",
    "        \n",
    "    \n",
    "from torch.utils.data import DataLoader, random_split\n",
    "\n",
    "\n",
    "BATCH_SIZE = 64\n",
    "cdata_train = CDataset(X_train, np.array(y_train))\n",
    "cdata_test = CDataset(X_test, np.array(y_test))\n",
    "\n",
    "# train dataloader\n",
    "train_dataloader_args =  dict(shuffle=True, batch_size=BATCH_SIZE, num_workers=0)\n",
    "trainloader = DataLoader(cdata_train, pin_memory=True, **train_dataloader_args)\n",
    "\n",
    "# test dataloader\n",
    "test_dataloader_args = dict(shuffle=False, batch_size=5000, num_workers=0)\n",
    "testloader = DataLoader(cdata_test, pin_memory=True, **test_dataloader_args)"
   ]
  },
  {
   "cell_type": "code",
   "execution_count": 42,
   "id": "f96b0b2a-4260-4517-9570-f0b1205c0c42",
   "metadata": {},
   "outputs": [
    {
     "data": {
      "text/plain": [
       "(tensor([ 5.8500e+02,  1.9000e+01,  0.0000e+00,  7.0000e+00,  0.0000e+00,\n",
       "          1.0000e+00,  3.0000e+00,  0.0000e+00,  6.0000e+00,  1.0000e+00,\n",
       "          0.0000e+00,  1.0000e+00,  0.0000e+00,  0.0000e+00,  1.0000e+00,\n",
       "          0.0000e+00,  0.0000e+00,  1.0000e+00,  1.0000e+00,  2.0000e+00,\n",
       "          2.0000e+00,  2.6000e+01,  1.6000e+01,  0.0000e+00,  1.0000e+00,\n",
       "          1.0000e+00,  1.0000e+00,  3.5119e+01,  1.0000e+00,  1.4700e+02,\n",
       "          2.0140e+03,  0.0000e+00,  1.0000e+00,  5.0000e-01, -8.6603e-01,\n",
       "         -7.2479e-01,  6.8897e-01,  7.8183e-01,  6.2349e-01,  2.0120e+03,\n",
       "          0.0000e+00,  1.0000e+00, -8.6603e-01,  5.0000e-01, -6.5137e-01,\n",
       "         -7.5876e-01, -4.3388e-01, -9.0097e-01,  9.9170e-01,  8.2988e-03,\n",
       "          9.5893e-01,  4.1070e-02,  1.0000e+00,  0.0000e+00,  9.8072e-01,\n",
       "          1.9278e-02,  9.9246e-01,  7.5415e-03,  9.9267e-01,  7.3279e-03]),\n",
       " tensor([0]))"
      ]
     },
     "execution_count": 42,
     "metadata": {},
     "output_type": "execute_result"
    }
   ],
   "source": [
    "cdata_test[0]"
   ]
  },
  {
   "cell_type": "code",
   "execution_count": 43,
   "id": "127e5459-eb42-43c1-89cf-a9d7360a335c",
   "metadata": {},
   "outputs": [
    {
     "data": {
      "text/plain": [
       "60"
      ]
     },
     "execution_count": 43,
     "metadata": {},
     "output_type": "execute_result"
    }
   ],
   "source": [
    "len(cdata_train[0][0])"
   ]
  },
  {
   "cell_type": "code",
   "execution_count": 44,
   "id": "7583e862-b0ac-4111-99a7-e6f3cb03968c",
   "metadata": {},
   "outputs": [],
   "source": [
    "class FeedForwardNet(nn.Module):\n",
    "    def __init__(self, ndimension, ntarget, dropout=0.1):\n",
    "        super().__init__()\n",
    "        layer1 = self._get_layer(ndimension, 64, dropout)\n",
    "        layer2 = self._get_layer(64, 32, dropout)\n",
    "        layer3 = nn.Linear(32, ntarget, bias=False)\n",
    "        \n",
    "        self.layer = nn.Sequential(*[layer1, layer2, layer3])\n",
    "        \n",
    "    def _get_layer(self, in_dim, out_dim, dropout=0.1):\n",
    "        return nn.Sequential(\n",
    "            nn.Linear(in_dim, out_dim, bias=False),\n",
    "            nn.ReLU(),\n",
    "            nn.Dropout(dropout)\n",
    "        )\n",
    "\n",
    "    def forward(self, input_vec):\n",
    "        return self.layer(input_vec)"
   ]
  },
  {
   "cell_type": "code",
   "execution_count": 45,
   "id": "12cff692-7e79-4d0f-8710-d34ea44c1a9c",
   "metadata": {},
   "outputs": [],
   "source": [
    "device = torch.device(\"mps\")\n",
    "model = FeedForwardNet(ndimension=60, ntarget=2, dropout=0.2).to(device)"
   ]
  },
  {
   "cell_type": "code",
   "execution_count": 46,
   "id": "85582309-ccf6-454f-b079-dab400a87556",
   "metadata": {},
   "outputs": [],
   "source": [
    "from torch import optim\n",
    "\n",
    "optimizer = optim.Adam(model.parameters(), lr=0.0001)\n",
    "criterion = nn.CrossEntropyLoss()"
   ]
  },
  {
   "cell_type": "code",
   "execution_count": 47,
   "id": "a4a839b3-3a9a-4366-9510-b35fb7240b5f",
   "metadata": {},
   "outputs": [],
   "source": [
    "def train(epoch, model, device, trainloader, optimizer):\n",
    "    model.train()\n",
    "\n",
    "    running_loss = 0\n",
    "    running_accuracy = 0\n",
    "    \n",
    "    iterator = 0\n",
    "    correct = 0\n",
    "    processed = 0\n",
    "    pbar = tqdm(trainloader)\n",
    "\n",
    "    for i, (src, trg) in enumerate(pbar, 0):\n",
    "        src, trg = src.to(device), trg.squeeze(-1).to(device)\n",
    "\n",
    "        output = model(src.float())\n",
    "\n",
    "        loss = criterion(output, trg)\n",
    "        loss.backward()\n",
    "\n",
    "        optimizer.step()\n",
    "        optimizer.zero_grad()\n",
    "\n",
    "        pred = output.argmax(-1)\n",
    "        correct += pred.eq(trg.view_as(pred)).sum().item()\n",
    "        processed += len(pred)\n",
    "        \n",
    "        running_loss += loss.item()\n",
    "        \n",
    "    print(\"Train Epoch - {epoch}, Mini Batch - {batch}, Train Loss - {loss}, Train Accuracy - {accuracy}\".format(\n",
    "                epoch=epoch + 1,\n",
    "                batch=i + 1,\n",
    "                loss=round(running_loss / (i+1), 4),\n",
    "                accuracy=round(100 * correct / processed, 4)\n",
    "            )\n",
    "         )"
   ]
  },
  {
   "cell_type": "code",
   "execution_count": 48,
   "id": "f57456a1-788d-48ad-88ff-609b430655b0",
   "metadata": {},
   "outputs": [],
   "source": [
    "def test(model, device, testloader):\n",
    "    model.eval()\n",
    "\n",
    "    iterator = 0\n",
    "    test_loss = 0\n",
    "    correct = 0\n",
    "    processed = 0\n",
    "    pbar = tqdm(testloader, disable=True)\n",
    "\n",
    "    with torch.no_grad():\n",
    "        for i, (src, trg) in enumerate(pbar, 0):\n",
    "            src, trg = src.to(device), trg.squeeze(-1).to(device)\n",
    "\n",
    "            output = model(src.float())\n",
    "\n",
    "            loss = criterion(output, trg)\n",
    "            test_loss += loss.item()\n",
    "            \n",
    "            pred = output.argmax(-1)\n",
    "            correct += pred.eq(trg.view_as(pred)).sum().item()\n",
    "            processed += len(pred)\n",
    "\n",
    "        print(\"Test Loss - {loss}, Test Accuracy - {accuracy}\".format(\n",
    "                    loss=round(test_loss / (i+1), 4),\n",
    "                    accuracy=round(100 * correct / processed, 4)\n",
    "             )\n",
    "        )"
   ]
  },
  {
   "cell_type": "code",
   "execution_count": 49,
   "id": "b3fdeef2-1ec2-4bdc-b98f-612c48de6ef2",
   "metadata": {},
   "outputs": [
    {
     "name": "stderr",
     "output_type": "stream",
     "text": [
      "100%|██████████████████████████████████████████████████████████| 3594/3594 [00:14<00:00, 256.44it/s]\n"
     ]
    },
    {
     "name": "stdout",
     "output_type": "stream",
     "text": [
      "Train Epoch - 1, Mini Batch - 3594, Train Loss - 4.5393, Train Accuracy - 81.2039\n",
      "Test Loss - 0.2471, Test Accuracy - 95.178\n"
     ]
    },
    {
     "name": "stderr",
     "output_type": "stream",
     "text": [
      "100%|██████████████████████████████████████████████████████████| 3594/3594 [00:13<00:00, 263.42it/s]\n"
     ]
    },
    {
     "name": "stdout",
     "output_type": "stream",
     "text": [
      "Train Epoch - 2, Mini Batch - 3594, Train Loss - 0.3505, Train Accuracy - 86.4387\n",
      "Test Loss - 0.1969, Test Accuracy - 94.7211\n"
     ]
    },
    {
     "name": "stderr",
     "output_type": "stream",
     "text": [
      "100%|██████████████████████████████████████████████████████████| 3594/3594 [00:13<00:00, 260.20it/s]\n"
     ]
    },
    {
     "name": "stdout",
     "output_type": "stream",
     "text": [
      "Train Epoch - 3, Mini Batch - 3594, Train Loss - 0.3033, Train Accuracy - 87.0052\n",
      "Test Loss - 0.1898, Test Accuracy - 95.7365\n"
     ]
    },
    {
     "name": "stderr",
     "output_type": "stream",
     "text": [
      "100%|██████████████████████████████████████████████████████████| 3594/3594 [00:14<00:00, 251.97it/s]\n"
     ]
    },
    {
     "name": "stdout",
     "output_type": "stream",
     "text": [
      "Train Epoch - 4, Mini Batch - 3594, Train Loss - 0.2821, Train Accuracy - 88.1148\n",
      "Test Loss - 0.1603, Test Accuracy - 95.5639\n"
     ]
    },
    {
     "name": "stderr",
     "output_type": "stream",
     "text": [
      "100%|██████████████████████████████████████████████████████████| 3594/3594 [00:13<00:00, 260.08it/s]\n"
     ]
    },
    {
     "name": "stdout",
     "output_type": "stream",
     "text": [
      "Train Epoch - 5, Mini Batch - 3594, Train Loss - 0.2488, Train Accuracy - 90.353\n",
      "Test Loss - 0.1458, Test Accuracy - 95.3702\n"
     ]
    }
   ],
   "source": [
    "EPOCHS = 5\n",
    "\n",
    "for epoch in range(EPOCHS):\n",
    "    train(epoch, model, device, trainloader, optimizer)\n",
    "    test(model, device, testloader)"
   ]
  },
  {
   "cell_type": "code",
   "execution_count": 50,
   "id": "de357724-89fc-49bc-b567-903d61879a05",
   "metadata": {},
   "outputs": [],
   "source": [
    "def infer(model, device, testloader):\n",
    "    model.eval()\n",
    "\n",
    "    pbar = tqdm(testloader)\n",
    "    \n",
    "    prediction = []\n",
    "\n",
    "    with torch.no_grad():\n",
    "        for i, (src, trg) in enumerate(pbar, 0):\n",
    "            src, trg = src.to(device), trg.squeeze(-1).to(device)\n",
    "\n",
    "            output = model(src.float())         \n",
    "            prediction.extend(output.argmax(-1).tolist())\n",
    "            \n",
    "    return np.array(prediction)"
   ]
  },
  {
   "cell_type": "code",
   "execution_count": 51,
   "id": "3c24422d-de1f-43c7-9b3a-49ba51ca87f6",
   "metadata": {},
   "outputs": [
    {
     "name": "stderr",
     "output_type": "stream",
     "text": [
      "100%|███████████████████████████████████████████████████████████████| 28/28 [00:01<00:00, 25.94it/s]"
     ]
    },
    {
     "name": "stdout",
     "output_type": "stream",
     "text": [
      "\n",
      "Model Report\n",
      "Accuracy : 0.9537\n"
     ]
    },
    {
     "name": "stderr",
     "output_type": "stream",
     "text": [
      "\n"
     ]
    }
   ],
   "source": [
    "dtest_predictions = infer(model, device, testloader)\n",
    "\n",
    "print(\"\\nModel Report\")\n",
    "print(\"Accuracy : %.4g\" % metrics.accuracy_score(y_test, dtest_predictions))"
   ]
  },
  {
   "cell_type": "code",
   "execution_count": 52,
   "id": "d59c5fd7-76c5-4892-ac7f-07d435e837df",
   "metadata": {},
   "outputs": [
    {
     "name": "stdout",
     "output_type": "stream",
     "text": [
      "The test f1 score is: 0.954876604698814\n"
     ]
    }
   ],
   "source": [
    "print(\"The test f1 score is:\", f1_score(y_test, dtest_predictions, average='weighted'))"
   ]
  },
  {
   "cell_type": "code",
   "execution_count": 53,
   "id": "2c6510a2-7402-426a-9bcf-f7d3a652a68d",
   "metadata": {},
   "outputs": [
    {
     "name": "stdout",
     "output_type": "stream",
     "text": [
      "True Negative: 127918, False Positive: 3553, False Negative: 2830, True Positive: 3568\n"
     ]
    }
   ],
   "source": [
    "# Confusion Matrix\n",
    "tn, fp, fn, tp = confusion_matrix(y_test, dtest_predictions).ravel()\n",
    "print(f\"True Negative: {tn}, False Positive: {fp}, False Negative: {fn}, True Positive: {tp}\")"
   ]
  },
  {
   "cell_type": "markdown",
   "id": "73d9b6eb-facc-43fb-a02c-98a6bd077b5a",
   "metadata": {},
   "source": [
    "# Conclusion"
   ]
  },
  {
   "cell_type": "code",
   "execution_count": 76,
   "id": "a50cd90f-9840-4e86-91df-16df2c941dc3",
   "metadata": {},
   "outputs": [
    {
     "name": "stdout",
     "output_type": "stream",
     "text": [
      "+--------------------------+---------------+---------------+\n",
      "|          Model           | Test Accuracy | Test F1 Score |\n",
      "+--------------------------+---------------+---------------+\n",
      "| Random Forest Classifier |    86.02 %    |     89.5 %    |\n",
      "|         XGBoost          |    89.31 %    |    91.68 %    |\n",
      "|   Logistic Regression    |    94.72 %    |     93.9 %    |\n",
      "|           MLP            |    95.87 %    |    96.06 %    |\n",
      "+--------------------------+---------------+---------------+\n"
     ]
    }
   ],
   "source": [
    "from prettytable import PrettyTable\n",
    "\n",
    "x = PrettyTable()\n",
    "x.field_names = [\"Model\", \"Test Accuracy\", \"Test F1 Score\"]\n",
    "\n",
    "x.add_row([\"Random Forest Classifier\", \"86.02 %\", \"89.5 %\"])\n",
    "x.add_row([\"XGBoost\", \"89.31 %\", \"91.68 %\"])\n",
    "x.add_row([\"Logistic Regression\", \"94.72 %\", \"93.9 %\"])\n",
    "x.add_row([\"MLP\", \"95.87 %\", \"96.06 %\"])\n",
    "\n",
    "print(x)"
   ]
  }
 ],
 "metadata": {
  "kernelspec": {
   "display_name": "venv",
   "language": "python",
   "name": "venv"
  },
  "language_info": {
   "codemirror_mode": {
    "name": "ipython",
    "version": 3
   },
   "file_extension": ".py",
   "mimetype": "text/x-python",
   "name": "python",
   "nbconvert_exporter": "python",
   "pygments_lexer": "ipython3",
   "version": "3.11.5"
  }
 },
 "nbformat": 4,
 "nbformat_minor": 5
}
